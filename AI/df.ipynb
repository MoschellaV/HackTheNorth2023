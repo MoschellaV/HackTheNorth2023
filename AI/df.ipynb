{
 "cells": [
  {
   "cell_type": "code",
   "execution_count": 43,
   "metadata": {
    "collapsed": true,
    "ExecuteTime": {
     "end_time": "2023-09-16T04:50:42.663196300Z",
     "start_time": "2023-09-16T04:50:42.653198700Z"
    }
   },
   "outputs": [],
   "source": [
    "import os\n",
    "import tensorflow as tf\n",
    "import pandas as pd"
   ]
  },
  {
   "cell_type": "code",
   "execution_count": 1,
   "outputs": [],
   "source": [
    "import numpy as np\n",
    "import shutil\n",
    "import matplotlib\n",
    "import matplotlib.pyplot as plt\n"
   ],
   "metadata": {
    "collapsed": false,
    "ExecuteTime": {
     "end_time": "2023-09-16T09:23:12.776017600Z",
     "start_time": "2023-09-16T09:23:12.092017700Z"
    }
   }
  },
  {
   "cell_type": "code",
   "execution_count": 45,
   "outputs": [
    {
     "data": {
      "text/plain": "'C:\\\\Users\\\\Kevin Tang\\\\Documents\\\\HackTheNorth2023\\\\AI'"
     },
     "execution_count": 45,
     "metadata": {},
     "output_type": "execute_result"
    }
   ],
   "source": [
    "pwd"
   ],
   "metadata": {
    "collapsed": false,
    "ExecuteTime": {
     "end_time": "2023-09-16T04:50:45.277670500Z",
     "start_time": "2023-09-16T04:50:45.268672900Z"
    }
   }
  },
  {
   "cell_type": "markdown",
   "source": [],
   "metadata": {
    "collapsed": false
   }
  },
  {
   "cell_type": "code",
   "execution_count": 46,
   "outputs": [],
   "source": [
    "SHUFFLE_BUFFER = 500\n",
    "BATCH_SIZE = 1024"
   ],
   "metadata": {
    "collapsed": false,
    "ExecuteTime": {
     "end_time": "2023-09-16T04:50:45.974530800Z",
     "start_time": "2023-09-16T04:50:45.965533100Z"
    }
   }
  },
  {
   "cell_type": "code",
   "execution_count": 47,
   "outputs": [],
   "source": [
    "DATA_PATH = \"dataset/train_data.csv\"\n",
    "TEST_PATH = \"dataset/test_data.csv\""
   ],
   "metadata": {
    "collapsed": false,
    "ExecuteTime": {
     "end_time": "2023-09-16T04:50:46.703383800Z",
     "start_time": "2023-09-16T04:50:46.679389700Z"
    }
   }
  },
  {
   "cell_type": "code",
   "execution_count": 177,
   "outputs": [
    {
     "data": {
      "text/plain": "3"
     },
     "execution_count": 177,
     "metadata": {},
     "output_type": "execute_result"
    }
   ],
   "source": [
    "df = pd.DataFrame([[0, 2, 3], [0, 4, 1], [10, 20, 30]])\n",
    "df.at[0, 2]"
   ],
   "metadata": {
    "collapsed": false,
    "ExecuteTime": {
     "end_time": "2023-09-16T07:20:42.779883800Z",
     "start_time": "2023-09-16T07:20:42.768885100Z"
    }
   }
  },
  {
   "cell_type": "code",
   "execution_count": 128,
   "outputs": [
    {
     "name": "stdout",
     "output_type": "stream",
     "text": [
      "       BookingID  LeadTime  ArrivalYear  ArrivalMonth  ArrivalDate  \\\n",
      "0              1        10         2018             3           31   \n",
      "1              2       116         2018             2           28   \n",
      "2              3        11         2018             7           25   \n",
      "3              4         3         2017             9           12   \n",
      "4              5        28         2018             3            7   \n",
      "...          ...       ...          ...           ...          ...   \n",
      "29015      29016         2         2018            11           21   \n",
      "29016      29017        18         2018             4           12   \n",
      "29017      29018         8         2017             9           29   \n",
      "29018      29019        20         2018             9           18   \n",
      "29019      29020       274         2018             7           31   \n",
      "\n",
      "       NumWeekendNights  NumWeekNights      MealPlan  Parking     RoomType  \\\n",
      "0                     0              1   Meal Plan 1        0  Room_Type 1   \n",
      "1                     2              1   Meal Plan 1        0  Room_Type 1   \n",
      "2                     1              2   Meal Plan 1        0  Room_Type 1   \n",
      "3                     0              1   Meal Plan 1        0  Room_Type 1   \n",
      "4                     1              3   Meal Plan 1        0  Room_Type 1   \n",
      "...                 ...            ...           ...      ...          ...   \n",
      "29015                 1              2   Meal Plan 1        0  Room_Type 1   \n",
      "29016                 0              2  Not Selected        0  Room_Type 1   \n",
      "29017                 0              3   Meal Plan 1        0  Room_Type 1   \n",
      "29018                 2              2   Meal Plan 1        0  Room_Type 1   \n",
      "29019                 2              1   Meal Plan 1        0  Room_Type 2   \n",
      "\n",
      "       NumAdults  NumChildren MarketSegment  RepeatedGuest  \\\n",
      "0              1            0     Corporate              0   \n",
      "1              1            0        Online              0   \n",
      "2              2            1        Online              0   \n",
      "3              2            0        Online              0   \n",
      "4              2            0       Offline              0   \n",
      "...          ...          ...           ...            ...   \n",
      "29015          1            0        Online              0   \n",
      "29016          2            0        Online              0   \n",
      "29017          1            0     Corporate              0   \n",
      "29018          1            0       Offline              0   \n",
      "29019          2            0        Online              0   \n",
      "\n",
      "       NumPrevCancellations  NumPreviousNonCancelled  AvgRoomPrice  \\\n",
      "0                         0                        0         95.00   \n",
      "1                         0                        0         61.00   \n",
      "2                         0                        0        129.75   \n",
      "3                         0                        0        152.00   \n",
      "4                         0                        0         87.00   \n",
      "...                     ...                      ...           ...   \n",
      "29015                     0                        0        100.67   \n",
      "29016                     0                        0        119.00   \n",
      "29017                     0                        0         65.00   \n",
      "29018                     0                        0         90.00   \n",
      "29019                     0                        0         96.50   \n",
      "\n",
      "       SpecialRequests BookingStatus  \n",
      "0                    0      Canceled  \n",
      "1                    0      Canceled  \n",
      "2                    1  Not_Canceled  \n",
      "3                    3  Not_Canceled  \n",
      "4                    0  Not_Canceled  \n",
      "...                ...           ...  \n",
      "29015                1  Not_Canceled  \n",
      "29016                1  Not_Canceled  \n",
      "29017                0  Not_Canceled  \n",
      "29018                0      Canceled  \n",
      "29019                1  Not_Canceled  \n",
      "\n",
      "[29020 rows x 19 columns]\n"
     ]
    }
   ],
   "source": [
    "df = pd.read_csv(DATA_PATH)\n",
    "print(df)"
   ],
   "metadata": {
    "collapsed": false,
    "ExecuteTime": {
     "end_time": "2023-09-16T06:03:49.691914500Z",
     "start_time": "2023-09-16T06:03:49.640914900Z"
    }
   }
  },
  {
   "cell_type": "code",
   "execution_count": 129,
   "outputs": [
    {
     "name": "stdout",
     "output_type": "stream",
     "text": [
      "29020\n"
     ]
    },
    {
     "data": {
      "text/plain": "       LeadTime  ArrivalYear  ArrivalMonth  ArrivalDate  NumWeekendNights  \\\n0            10           18             3           31                 0   \n1           116           18             2           28                 2   \n2            11           18             7           25                 1   \n3             3           17             9           12                 0   \n4            28           18             3            7                 1   \n...         ...          ...           ...          ...               ...   \n29015         2           18            11           21                 1   \n29016        18           18             4           12                 0   \n29017         8           17             9           29                 0   \n29018        20           18             9           18                 2   \n29019       274           18             7           31                 2   \n\n       NumWeekNights MealPlan  Parking RoomType  NumAdults  NumChildren  \\\n0                  1        1        0        1          1            0   \n1                  1        1        0        1          1            0   \n2                  2        1        0        1          2            1   \n3                  1        1        0        1          2            0   \n4                  3        1        0        1          2            0   \n...              ...      ...      ...      ...        ...          ...   \n29015              2        1        0        1          1            0   \n29016              2        0        0        1          2            0   \n29017              3        1        0        1          1            0   \n29018              2        1        0        1          1            0   \n29019              1        1        0        2          2            0   \n\n      MarketSegment  RepeatedGuest  NumPrevCancellations  \\\n0                 3              0                     0   \n1                 5              0                     0   \n2                 5              0                     0   \n3                 5              0                     0   \n4                 4              0                     0   \n...             ...            ...                   ...   \n29015             5              0                     0   \n29016             5              0                     0   \n29017             3              0                     0   \n29018             4              0                     0   \n29019             5              0                     0   \n\n       NumPreviousNonCancelled  AvgRoomPrice  SpecialRequests  \n0                            0         95.00                0  \n1                            0         61.00                0  \n2                            0        129.75                1  \n3                            0        152.00                3  \n4                            0         87.00                0  \n...                        ...           ...              ...  \n29015                        0        100.67                1  \n29016                        0        119.00                1  \n29017                        0         65.00                0  \n29018                        0         90.00                0  \n29019                        0         96.50                1  \n\n[29020 rows x 17 columns]",
      "text/html": "<div>\n<style scoped>\n    .dataframe tbody tr th:only-of-type {\n        vertical-align: middle;\n    }\n\n    .dataframe tbody tr th {\n        vertical-align: top;\n    }\n\n    .dataframe thead th {\n        text-align: right;\n    }\n</style>\n<table border=\"1\" class=\"dataframe\">\n  <thead>\n    <tr style=\"text-align: right;\">\n      <th></th>\n      <th>LeadTime</th>\n      <th>ArrivalYear</th>\n      <th>ArrivalMonth</th>\n      <th>ArrivalDate</th>\n      <th>NumWeekendNights</th>\n      <th>NumWeekNights</th>\n      <th>MealPlan</th>\n      <th>Parking</th>\n      <th>RoomType</th>\n      <th>NumAdults</th>\n      <th>NumChildren</th>\n      <th>MarketSegment</th>\n      <th>RepeatedGuest</th>\n      <th>NumPrevCancellations</th>\n      <th>NumPreviousNonCancelled</th>\n      <th>AvgRoomPrice</th>\n      <th>SpecialRequests</th>\n    </tr>\n  </thead>\n  <tbody>\n    <tr>\n      <th>0</th>\n      <td>10</td>\n      <td>18</td>\n      <td>3</td>\n      <td>31</td>\n      <td>0</td>\n      <td>1</td>\n      <td>1</td>\n      <td>0</td>\n      <td>1</td>\n      <td>1</td>\n      <td>0</td>\n      <td>3</td>\n      <td>0</td>\n      <td>0</td>\n      <td>0</td>\n      <td>95.00</td>\n      <td>0</td>\n    </tr>\n    <tr>\n      <th>1</th>\n      <td>116</td>\n      <td>18</td>\n      <td>2</td>\n      <td>28</td>\n      <td>2</td>\n      <td>1</td>\n      <td>1</td>\n      <td>0</td>\n      <td>1</td>\n      <td>1</td>\n      <td>0</td>\n      <td>5</td>\n      <td>0</td>\n      <td>0</td>\n      <td>0</td>\n      <td>61.00</td>\n      <td>0</td>\n    </tr>\n    <tr>\n      <th>2</th>\n      <td>11</td>\n      <td>18</td>\n      <td>7</td>\n      <td>25</td>\n      <td>1</td>\n      <td>2</td>\n      <td>1</td>\n      <td>0</td>\n      <td>1</td>\n      <td>2</td>\n      <td>1</td>\n      <td>5</td>\n      <td>0</td>\n      <td>0</td>\n      <td>0</td>\n      <td>129.75</td>\n      <td>1</td>\n    </tr>\n    <tr>\n      <th>3</th>\n      <td>3</td>\n      <td>17</td>\n      <td>9</td>\n      <td>12</td>\n      <td>0</td>\n      <td>1</td>\n      <td>1</td>\n      <td>0</td>\n      <td>1</td>\n      <td>2</td>\n      <td>0</td>\n      <td>5</td>\n      <td>0</td>\n      <td>0</td>\n      <td>0</td>\n      <td>152.00</td>\n      <td>3</td>\n    </tr>\n    <tr>\n      <th>4</th>\n      <td>28</td>\n      <td>18</td>\n      <td>3</td>\n      <td>7</td>\n      <td>1</td>\n      <td>3</td>\n      <td>1</td>\n      <td>0</td>\n      <td>1</td>\n      <td>2</td>\n      <td>0</td>\n      <td>4</td>\n      <td>0</td>\n      <td>0</td>\n      <td>0</td>\n      <td>87.00</td>\n      <td>0</td>\n    </tr>\n    <tr>\n      <th>...</th>\n      <td>...</td>\n      <td>...</td>\n      <td>...</td>\n      <td>...</td>\n      <td>...</td>\n      <td>...</td>\n      <td>...</td>\n      <td>...</td>\n      <td>...</td>\n      <td>...</td>\n      <td>...</td>\n      <td>...</td>\n      <td>...</td>\n      <td>...</td>\n      <td>...</td>\n      <td>...</td>\n      <td>...</td>\n    </tr>\n    <tr>\n      <th>29015</th>\n      <td>2</td>\n      <td>18</td>\n      <td>11</td>\n      <td>21</td>\n      <td>1</td>\n      <td>2</td>\n      <td>1</td>\n      <td>0</td>\n      <td>1</td>\n      <td>1</td>\n      <td>0</td>\n      <td>5</td>\n      <td>0</td>\n      <td>0</td>\n      <td>0</td>\n      <td>100.67</td>\n      <td>1</td>\n    </tr>\n    <tr>\n      <th>29016</th>\n      <td>18</td>\n      <td>18</td>\n      <td>4</td>\n      <td>12</td>\n      <td>0</td>\n      <td>2</td>\n      <td>0</td>\n      <td>0</td>\n      <td>1</td>\n      <td>2</td>\n      <td>0</td>\n      <td>5</td>\n      <td>0</td>\n      <td>0</td>\n      <td>0</td>\n      <td>119.00</td>\n      <td>1</td>\n    </tr>\n    <tr>\n      <th>29017</th>\n      <td>8</td>\n      <td>17</td>\n      <td>9</td>\n      <td>29</td>\n      <td>0</td>\n      <td>3</td>\n      <td>1</td>\n      <td>0</td>\n      <td>1</td>\n      <td>1</td>\n      <td>0</td>\n      <td>3</td>\n      <td>0</td>\n      <td>0</td>\n      <td>0</td>\n      <td>65.00</td>\n      <td>0</td>\n    </tr>\n    <tr>\n      <th>29018</th>\n      <td>20</td>\n      <td>18</td>\n      <td>9</td>\n      <td>18</td>\n      <td>2</td>\n      <td>2</td>\n      <td>1</td>\n      <td>0</td>\n      <td>1</td>\n      <td>1</td>\n      <td>0</td>\n      <td>4</td>\n      <td>0</td>\n      <td>0</td>\n      <td>0</td>\n      <td>90.00</td>\n      <td>0</td>\n    </tr>\n    <tr>\n      <th>29019</th>\n      <td>274</td>\n      <td>18</td>\n      <td>7</td>\n      <td>31</td>\n      <td>2</td>\n      <td>1</td>\n      <td>1</td>\n      <td>0</td>\n      <td>2</td>\n      <td>2</td>\n      <td>0</td>\n      <td>5</td>\n      <td>0</td>\n      <td>0</td>\n      <td>0</td>\n      <td>96.50</td>\n      <td>1</td>\n    </tr>\n  </tbody>\n</table>\n<p>29020 rows × 17 columns</p>\n</div>"
     },
     "execution_count": 129,
     "metadata": {},
     "output_type": "execute_result"
    }
   ],
   "source": [
    "df = pd.read_csv(DATA_PATH)\n",
    "\n",
    "df = df.drop('BookingID', axis=1) # axis: 0 for row, 1 for column\n",
    "\n",
    "print(len(df))\n",
    "\n",
    "for i in range(len(df)):\n",
    "    # ARRIVAL YEAR\n",
    "    df.at[i, \"ArrivalYear\"] = df.at[i, \"ArrivalYear\"] % 2000\n",
    "\n",
    "    # MEAL PARSING\n",
    "    if df.at[i, \"MealPlan\"].startswith(\"Not\"):\n",
    "        df.at[i, \"MealPlan\"] = 0\n",
    "    else:\n",
    "        df.at[i, \"MealPlan\"] = df.at[i, \"MealPlan\"].split()[-1]\n",
    "\n",
    "    # ROOM TYPE\n",
    "    df.at[i, \"RoomType\"] = df.at[i, \"RoomType\"].split()[-1]\n",
    "\n",
    "    # MARKET SEGMENT\n",
    "    if df.at[i, \"MarketSegment\"] == \"Online\":\n",
    "        df.at[i, \"MarketSegment\"] = 5\n",
    "    elif df.at[i, \"MarketSegment\"] == \"Offline\":\n",
    "        df.at[i, \"MarketSegment\"] = 4\n",
    "    elif df.at[i, \"MarketSegment\"] == \"Corporate\":\n",
    "        df.at[i, \"MarketSegment\"] = 3\n",
    "    elif df.at[i, \"MarketSegment\"] == \"Complementary\":\n",
    "        df.at[i, \"MarketSegment\"] = 2\n",
    "    elif df.at[i, \"MarketSegment\"] == \"Aviation\":\n",
    "        df.at[i, \"MarketSegment\"] = 1\n",
    "    else:\n",
    "        print(\"Recheck data.\")\n",
    "\n",
    "    # BOOKING STATUS\n",
    "    if df.at[i, \"BookingStatus\"] == \"Canceled\":\n",
    "        df.at[i, \"BookingStatus\"] = 0\n",
    "    elif df.at[i, \"BookingStatus\"] == \"Not_Canceled\":\n",
    "        df.at[i, \"BookingStatus\"] = 1\n",
    "\n",
    "# BOOKING STATUS\n",
    "target = df.pop(\"BookingStatus\")\n",
    "df"
   ],
   "metadata": {
    "collapsed": false,
    "ExecuteTime": {
     "end_time": "2023-09-16T06:12:54.011798900Z",
     "start_time": "2023-09-16T06:12:50.204942900Z"
    }
   }
  },
  {
   "cell_type": "markdown",
   "source": [
    "# Normalizing the dataframe"
   ],
   "metadata": {
    "collapsed": false
   }
  },
  {
   "cell_type": "code",
   "execution_count": 218,
   "outputs": [
    {
     "name": "stdout",
     "output_type": "stream",
     "text": [
      "0        0\n",
      "1        0\n",
      "2        1\n",
      "3        1\n",
      "4        1\n",
      "        ..\n",
      "29015    1\n",
      "29016    1\n",
      "29017    1\n",
      "29018    0\n",
      "29019    1\n",
      "Name: BookingStatus, Length: 29020, dtype: int64\n",
      "[(0, 'Canceled'), (1, 'Not_Canceled')]\n"
     ]
    },
    {
     "data": {
      "text/plain": "       LeadTime  ArrivalYear  ArrivalMonth  ArrivalDate  NumWeekendNights  \\\n0            10         2018             3           31                 0   \n1           116         2018             2           28                 2   \n2            11         2018             7           25                 1   \n3             3         2017             9           12                 0   \n4            28         2018             3            7                 1   \n...         ...          ...           ...          ...               ...   \n29015         2         2018            11           21                 1   \n29016        18         2018             4           12                 0   \n29017         8         2017             9           29                 0   \n29018        20         2018             9           18                 2   \n29019       274         2018             7           31                 2   \n\n       NumWeekNights  MealPlan  Parking  RoomType  NumAdults  NumChildren  \\\n0                  1         0        0         0          1            0   \n1                  1         0        0         0          1            0   \n2                  2         0        0         0          2            1   \n3                  1         0        0         0          2            0   \n4                  3         0        0         0          2            0   \n...              ...       ...      ...       ...        ...          ...   \n29015              2         0        0         0          1            0   \n29016              2         3        0         0          2            0   \n29017              3         0        0         0          1            0   \n29018              2         0        0         0          1            0   \n29019              1         0        0         1          2            0   \n\n       MarketSegment  RepeatedGuest  NumPrevCancellations  \\\n0                  2              0                     0   \n1                  4              0                     0   \n2                  4              0                     0   \n3                  4              0                     0   \n4                  3              0                     0   \n...              ...            ...                   ...   \n29015              4              0                     0   \n29016              4              0                     0   \n29017              2              0                     0   \n29018              3              0                     0   \n29019              4              0                     0   \n\n       NumPreviousNonCancelled  AvgRoomPrice  SpecialRequests  \n0                            0         95.00                0  \n1                            0         61.00                0  \n2                            0        129.75                1  \n3                            0        152.00                3  \n4                            0         87.00                0  \n...                        ...           ...              ...  \n29015                        0        100.67                1  \n29016                        0        119.00                1  \n29017                        0         65.00                0  \n29018                        0         90.00                0  \n29019                        0         96.50                1  \n\n[29020 rows x 17 columns]",
      "text/html": "<div>\n<style scoped>\n    .dataframe tbody tr th:only-of-type {\n        vertical-align: middle;\n    }\n\n    .dataframe tbody tr th {\n        vertical-align: top;\n    }\n\n    .dataframe thead th {\n        text-align: right;\n    }\n</style>\n<table border=\"1\" class=\"dataframe\">\n  <thead>\n    <tr style=\"text-align: right;\">\n      <th></th>\n      <th>LeadTime</th>\n      <th>ArrivalYear</th>\n      <th>ArrivalMonth</th>\n      <th>ArrivalDate</th>\n      <th>NumWeekendNights</th>\n      <th>NumWeekNights</th>\n      <th>MealPlan</th>\n      <th>Parking</th>\n      <th>RoomType</th>\n      <th>NumAdults</th>\n      <th>NumChildren</th>\n      <th>MarketSegment</th>\n      <th>RepeatedGuest</th>\n      <th>NumPrevCancellations</th>\n      <th>NumPreviousNonCancelled</th>\n      <th>AvgRoomPrice</th>\n      <th>SpecialRequests</th>\n    </tr>\n  </thead>\n  <tbody>\n    <tr>\n      <th>0</th>\n      <td>10</td>\n      <td>2018</td>\n      <td>3</td>\n      <td>31</td>\n      <td>0</td>\n      <td>1</td>\n      <td>0</td>\n      <td>0</td>\n      <td>0</td>\n      <td>1</td>\n      <td>0</td>\n      <td>2</td>\n      <td>0</td>\n      <td>0</td>\n      <td>0</td>\n      <td>95.00</td>\n      <td>0</td>\n    </tr>\n    <tr>\n      <th>1</th>\n      <td>116</td>\n      <td>2018</td>\n      <td>2</td>\n      <td>28</td>\n      <td>2</td>\n      <td>1</td>\n      <td>0</td>\n      <td>0</td>\n      <td>0</td>\n      <td>1</td>\n      <td>0</td>\n      <td>4</td>\n      <td>0</td>\n      <td>0</td>\n      <td>0</td>\n      <td>61.00</td>\n      <td>0</td>\n    </tr>\n    <tr>\n      <th>2</th>\n      <td>11</td>\n      <td>2018</td>\n      <td>7</td>\n      <td>25</td>\n      <td>1</td>\n      <td>2</td>\n      <td>0</td>\n      <td>0</td>\n      <td>0</td>\n      <td>2</td>\n      <td>1</td>\n      <td>4</td>\n      <td>0</td>\n      <td>0</td>\n      <td>0</td>\n      <td>129.75</td>\n      <td>1</td>\n    </tr>\n    <tr>\n      <th>3</th>\n      <td>3</td>\n      <td>2017</td>\n      <td>9</td>\n      <td>12</td>\n      <td>0</td>\n      <td>1</td>\n      <td>0</td>\n      <td>0</td>\n      <td>0</td>\n      <td>2</td>\n      <td>0</td>\n      <td>4</td>\n      <td>0</td>\n      <td>0</td>\n      <td>0</td>\n      <td>152.00</td>\n      <td>3</td>\n    </tr>\n    <tr>\n      <th>4</th>\n      <td>28</td>\n      <td>2018</td>\n      <td>3</td>\n      <td>7</td>\n      <td>1</td>\n      <td>3</td>\n      <td>0</td>\n      <td>0</td>\n      <td>0</td>\n      <td>2</td>\n      <td>0</td>\n      <td>3</td>\n      <td>0</td>\n      <td>0</td>\n      <td>0</td>\n      <td>87.00</td>\n      <td>0</td>\n    </tr>\n    <tr>\n      <th>...</th>\n      <td>...</td>\n      <td>...</td>\n      <td>...</td>\n      <td>...</td>\n      <td>...</td>\n      <td>...</td>\n      <td>...</td>\n      <td>...</td>\n      <td>...</td>\n      <td>...</td>\n      <td>...</td>\n      <td>...</td>\n      <td>...</td>\n      <td>...</td>\n      <td>...</td>\n      <td>...</td>\n      <td>...</td>\n    </tr>\n    <tr>\n      <th>29015</th>\n      <td>2</td>\n      <td>2018</td>\n      <td>11</td>\n      <td>21</td>\n      <td>1</td>\n      <td>2</td>\n      <td>0</td>\n      <td>0</td>\n      <td>0</td>\n      <td>1</td>\n      <td>0</td>\n      <td>4</td>\n      <td>0</td>\n      <td>0</td>\n      <td>0</td>\n      <td>100.67</td>\n      <td>1</td>\n    </tr>\n    <tr>\n      <th>29016</th>\n      <td>18</td>\n      <td>2018</td>\n      <td>4</td>\n      <td>12</td>\n      <td>0</td>\n      <td>2</td>\n      <td>3</td>\n      <td>0</td>\n      <td>0</td>\n      <td>2</td>\n      <td>0</td>\n      <td>4</td>\n      <td>0</td>\n      <td>0</td>\n      <td>0</td>\n      <td>119.00</td>\n      <td>1</td>\n    </tr>\n    <tr>\n      <th>29017</th>\n      <td>8</td>\n      <td>2017</td>\n      <td>9</td>\n      <td>29</td>\n      <td>0</td>\n      <td>3</td>\n      <td>0</td>\n      <td>0</td>\n      <td>0</td>\n      <td>1</td>\n      <td>0</td>\n      <td>2</td>\n      <td>0</td>\n      <td>0</td>\n      <td>0</td>\n      <td>65.00</td>\n      <td>0</td>\n    </tr>\n    <tr>\n      <th>29018</th>\n      <td>20</td>\n      <td>2018</td>\n      <td>9</td>\n      <td>18</td>\n      <td>2</td>\n      <td>2</td>\n      <td>0</td>\n      <td>0</td>\n      <td>0</td>\n      <td>1</td>\n      <td>0</td>\n      <td>3</td>\n      <td>0</td>\n      <td>0</td>\n      <td>0</td>\n      <td>90.00</td>\n      <td>0</td>\n    </tr>\n    <tr>\n      <th>29019</th>\n      <td>274</td>\n      <td>2018</td>\n      <td>7</td>\n      <td>31</td>\n      <td>2</td>\n      <td>1</td>\n      <td>0</td>\n      <td>0</td>\n      <td>1</td>\n      <td>2</td>\n      <td>0</td>\n      <td>4</td>\n      <td>0</td>\n      <td>0</td>\n      <td>0</td>\n      <td>96.50</td>\n      <td>1</td>\n    </tr>\n  </tbody>\n</table>\n<p>29020 rows × 17 columns</p>\n</div>"
     },
     "execution_count": 218,
     "metadata": {},
     "output_type": "execute_result"
    }
   ],
   "source": [
    "REMOVED_COL = \"BookingID\"\n",
    "PREDICT_COL = \"BookingStatus\"\n",
    "ENCODING = []\n",
    "\n",
    "df = pd.read_csv(DATA_PATH)\n",
    "df = df.drop(REMOVED_COL, axis=1) # axis: 0 for row, 1 for column\n",
    "\n",
    "\n",
    "for col in df.columns:\n",
    "    if not all(isinstance(x, (int, float)) for x in df[col]):\n",
    "        lst = np.unique(df[col].astype(str))\n",
    "        if col == PREDICT_COL:\n",
    "            for i in range(len(lst)):\n",
    "                ENCODING.append((i, lst[i]))\n",
    "        for i in range(len(lst)):\n",
    "            df[col] = df[col].replace(lst[i], i)\n",
    "        lst = []\n",
    "\n",
    "\n",
    "target = df.pop(PREDICT_COL)\n",
    "print(target)\n",
    "print(ENCODING)\n",
    "df"
   ],
   "metadata": {
    "collapsed": false,
    "ExecuteTime": {
     "end_time": "2023-09-16T07:47:05.078118100Z",
     "start_time": "2023-09-16T07:47:04.934119800Z"
    }
   }
  },
  {
   "cell_type": "code",
   "execution_count": 219,
   "outputs": [
    {
     "name": "stdout",
     "output_type": "stream",
     "text": [
      "<class 'pandas.core.series.Series'>\n"
     ]
    },
    {
     "data": {
      "text/plain": "0        0\n1        0\n2        1\n3        1\n4        1\n        ..\n29015    1\n29016    1\n29017    1\n29018    0\n29019    1\nName: BookingStatus, Length: 29020, dtype: int32"
     },
     "execution_count": 219,
     "metadata": {},
     "output_type": "execute_result"
    }
   ],
   "source": [
    "# Name: BookingStatus, Length: 29020, dtype: object\n",
    "# dtype can't be object or will get error for normalizer(numeric_features.iloc[:3])\n",
    "target = target.astype('int')\n",
    "df = df.astype('int')\n",
    "print(type(target))\n",
    "target"
   ],
   "metadata": {
    "collapsed": false,
    "ExecuteTime": {
     "end_time": "2023-09-16T07:47:09.235096400Z",
     "start_time": "2023-09-16T07:47:09.206097Z"
    }
   }
  },
  {
   "cell_type": "code",
   "execution_count": 232,
   "outputs": [
    {
     "name": "stdout",
     "output_type": "stream",
     "text": [
      "<class 'pandas.core.frame.DataFrame'>\n"
     ]
    }
   ],
   "source": [
    "numeric_feature_names = [name for name in df.columns]\n",
    "# numeric_feature_names = ['LeadTime', 'ArrivalYear', 'ArrivalMonth',  'ArrivalDate', 'NumWeekendNights', \"NumWeekNights\", \"MealPlan\", \"Parking\", \"RoomType\", \"NumAdults\", \"NumChildren\", \"MarketSegment\", \"RepeatedGuest\", \"NumPrevCancellations\", \"NumPreviousNonCancelled\", \"AvgRoomPrice\", \"SpecialRequests\"]\n",
    "numeric_features = df[numeric_feature_names]\n",
    "numeric_features.head()\n",
    "\n",
    "print(type(numeric_features))"
   ],
   "metadata": {
    "collapsed": false,
    "ExecuteTime": {
     "end_time": "2023-09-16T07:53:59.762006Z",
     "start_time": "2023-09-16T07:53:59.741003800Z"
    }
   }
  },
  {
   "cell_type": "code",
   "execution_count": 233,
   "outputs": [
    {
     "data": {
      "text/plain": "<tf.Tensor: shape=(29020, 17), dtype=int32, numpy=\narray([[  10, 2018,    3, ...,    0,   95,    0],\n       [ 116, 2018,    2, ...,    0,   61,    0],\n       [  11, 2018,    7, ...,    0,  129,    1],\n       ...,\n       [   8, 2017,    9, ...,    0,   65,    0],\n       [  20, 2018,    9, ...,    0,   90,    0],\n       [ 274, 2018,    7, ...,    0,   96,    1]])>"
     },
     "execution_count": 233,
     "metadata": {},
     "output_type": "execute_result"
    }
   ],
   "source": [
    "# numeric_features = np.asarray(numeric_features).astype('float32')\n",
    "\n",
    "tf.convert_to_tensor(numeric_features)\n"
   ],
   "metadata": {
    "collapsed": false,
    "ExecuteTime": {
     "end_time": "2023-09-16T07:54:02.095991100Z",
     "start_time": "2023-09-16T07:54:02.079993300Z"
    }
   }
  },
  {
   "cell_type": "code",
   "execution_count": 234,
   "outputs": [],
   "source": [
    "normalizer = tf.keras.layers.Normalization(axis=-1)\n",
    "normalizer.adapt(numeric_features.to_numpy())\n"
   ],
   "metadata": {
    "collapsed": false,
    "ExecuteTime": {
     "end_time": "2023-09-16T07:54:03.197986300Z",
     "start_time": "2023-09-16T07:54:02.643989200Z"
    }
   }
  },
  {
   "cell_type": "code",
   "execution_count": 235,
   "outputs": [
    {
     "data": {
      "text/plain": "pandas.core.frame.DataFrame"
     },
     "execution_count": 235,
     "metadata": {},
     "output_type": "execute_result"
    }
   ],
   "source": [
    "numeric_features = pd.DataFrame(numeric_features)\n",
    "type(numeric_features)\n"
   ],
   "metadata": {
    "collapsed": false,
    "ExecuteTime": {
     "end_time": "2023-09-16T07:54:03.212986600Z",
     "start_time": "2023-09-16T07:54:03.197986300Z"
    }
   }
  },
  {
   "cell_type": "code",
   "execution_count": 236,
   "outputs": [
    {
     "data": {
      "text/plain": "<tf.Tensor: shape=(3, 17), dtype=float32, numpy=\narray([[-0.87647665,  0.46875393, -1.4414891 ,  1.7625139 , -0.9305437 ,\n        -0.84950244, -0.49299878, -0.17818205, -0.50807035, -1.6334727 ,\n        -0.2592433 , -2.279335  , -0.16221005, -0.06437863, -0.08737914,\n        -0.23430355, -0.7885584 ],\n       [ 0.3577327 ,  0.46875393, -1.7678146 ,  1.4194049 ,  1.3596122 ,\n        -0.84950244, -0.49299878, -0.17818205, -0.50807035, -1.6334727 ,\n        -0.2592433 ,  0.6553474 , -0.16221005, -0.06437863, -0.08737914,\n        -1.2049241 , -0.7885584 ],\n       [-0.8648332 ,  0.46875393, -0.13618678,  1.076296  ,  0.2145343 ,\n        -0.14614795, -0.49299878, -0.17818205, -0.50807035,  0.29529724,\n         2.2228546 ,  0.6553474 , -0.16221005, -0.06437863, -0.08737914,\n         0.73631704,  0.482632  ]], dtype=float32)>"
     },
     "execution_count": 236,
     "metadata": {},
     "output_type": "execute_result"
    }
   ],
   "source": [
    "normalizer(numeric_features.iloc[:3])\n"
   ],
   "metadata": {
    "collapsed": false,
    "ExecuteTime": {
     "end_time": "2023-09-16T07:54:04.193981200Z",
     "start_time": "2023-09-16T07:54:04.180981600Z"
    }
   }
  },
  {
   "cell_type": "code",
   "execution_count": 237,
   "outputs": [
    {
     "name": "stdout",
     "output_type": "stream",
     "text": [
      "<keras.src.layers.preprocessing.normalization.Normalization object at 0x000002ACF0FC6460>\n"
     ]
    }
   ],
   "source": [
    "print(normalizer)"
   ],
   "metadata": {
    "collapsed": false,
    "ExecuteTime": {
     "end_time": "2023-09-16T07:54:04.986979Z",
     "start_time": "2023-09-16T07:54:04.967982400Z"
    }
   }
  },
  {
   "cell_type": "code",
   "execution_count": 238,
   "outputs": [
    {
     "name": "stdout",
     "output_type": "stream",
     "text": [
      "Model: \"sequential_13\"\n",
      "_________________________________________________________________\n",
      " Layer (type)                Output Shape              Param #   \n",
      "=================================================================\n",
      " normalization_12 (Normaliz  (None, 17)                35        \n",
      " ation)                                                          \n",
      "                                                                 \n",
      " dense_65 (Dense)            (None, 128)               2304      \n",
      "                                                                 \n",
      " dense_66 (Dense)            (None, 64)                8256      \n",
      "                                                                 \n",
      " dropout_39 (Dropout)        (None, 64)                0         \n",
      "                                                                 \n",
      " dense_67 (Dense)            (None, 32)                2080      \n",
      "                                                                 \n",
      " dropout_40 (Dropout)        (None, 32)                0         \n",
      "                                                                 \n",
      " dense_68 (Dense)            (None, 10)                330       \n",
      "                                                                 \n",
      " dropout_41 (Dropout)        (None, 10)                0         \n",
      "                                                                 \n",
      " dense_69 (Dense)            (None, 2)                 22        \n",
      "                                                                 \n",
      "=================================================================\n",
      "Total params: 13027 (50.89 KB)\n",
      "Trainable params: 12992 (50.75 KB)\n",
      "Non-trainable params: 35 (144.00 Byte)\n",
      "_________________________________________________________________\n"
     ]
    }
   ],
   "source": [
    "def get_basic_model():\n",
    "    model = tf.keras.Sequential([\n",
    "        normalizer,\n",
    "        tf.keras.layers.Dense(128, activation='relu'),\n",
    "        tf.keras.layers.Dense(64, activation='relu'),\n",
    "        tf.keras.layers.Dropout(0.2),\n",
    "        tf.keras.layers.Dense(32, activation='relu'),\n",
    "        tf.keras.layers.Dropout(0.2),\n",
    "        tf.keras.layers.Dense(10, activation='relu'),\n",
    "        tf.keras.layers.Dropout(0.2),\n",
    "        tf.keras.layers.Dense(len(ENCODING), activation='sigmoid')\n",
    "        ])\n",
    "\n",
    "    model.compile(optimizer='adam',\n",
    "                    loss=\"sparse_categorical_crossentropy\", # tf.keras.losses.BinaryCrossentropy(from_logits=True)\n",
    "                    metrics=['accuracy'])\n",
    "    return model\n",
    "\n",
    "get_basic_model().summary()"
   ],
   "metadata": {
    "collapsed": false,
    "ExecuteTime": {
     "end_time": "2023-09-16T07:54:05.660974400Z",
     "start_time": "2023-09-16T07:54:05.605974500Z"
    }
   }
  },
  {
   "cell_type": "code",
   "execution_count": 239,
   "outputs": [
    {
     "name": "stdout",
     "output_type": "stream",
     "text": [
      "   LeadTime  ArrivalYear  ArrivalMonth  ArrivalDate  NumWeekendNights  \\\n",
      "0        10         2018             3           31                 0   \n",
      "1       116         2018             2           28                 2   \n",
      "2        11         2018             7           25                 1   \n",
      "\n",
      "   NumWeekNights  MealPlan  Parking  RoomType  NumAdults  NumChildren  \\\n",
      "0              1         0        0         0          1            0   \n",
      "1              1         0        0         0          1            0   \n",
      "2              2         0        0         0          2            1   \n",
      "\n",
      "   MarketSegment  RepeatedGuest  NumPrevCancellations  \\\n",
      "0              2              0                     0   \n",
      "1              4              0                     0   \n",
      "2              4              0                     0   \n",
      "\n",
      "   NumPreviousNonCancelled  AvgRoomPrice  SpecialRequests  \n",
      "0                        0            95                0  \n",
      "1                        0            61                0  \n",
      "2                        0           129                1  \n"
     ]
    }
   ],
   "source": [
    "print(numeric_features.iloc[:3])"
   ],
   "metadata": {
    "collapsed": false,
    "ExecuteTime": {
     "end_time": "2023-09-16T07:54:06.359969500Z",
     "start_time": "2023-09-16T07:54:06.313970800Z"
    }
   }
  },
  {
   "cell_type": "code",
   "execution_count": 240,
   "outputs": [
    {
     "name": "stdout",
     "output_type": "stream",
     "text": [
      "WARNING:tensorflow:Keras is training/fitting/evaluating on array-like data. Keras may not be optimized for this format, so if your input data format is supported by TensorFlow I/O (https://github.com/tensorflow/io) we recommend using that to load a Dataset instead.\n",
      "Epoch 1/30\n",
      "29/29 [==============================] - 7s 166ms/step - loss: 0.5996 - accuracy: 0.6677\n",
      "Epoch 2/30\n",
      "29/29 [==============================] - 4s 157ms/step - loss: 0.4796 - accuracy: 0.7780\n",
      "Epoch 3/30\n",
      "29/29 [==============================] - 6s 190ms/step - loss: 0.4474 - accuracy: 0.7999\n",
      "Epoch 4/30\n",
      "29/29 [==============================] - 5s 153ms/step - loss: 0.4255 - accuracy: 0.8099\n",
      "Epoch 5/30\n",
      "29/29 [==============================] - 5s 175ms/step - loss: 0.4123 - accuracy: 0.8168\n",
      "Epoch 6/30\n",
      "29/29 [==============================] - 5s 184ms/step - loss: 0.4009 - accuracy: 0.8229\n",
      "Epoch 7/30\n",
      "29/29 [==============================] - 5s 168ms/step - loss: 0.3916 - accuracy: 0.8281\n",
      "Epoch 8/30\n",
      "29/29 [==============================] - 5s 176ms/step - loss: 0.3826 - accuracy: 0.8329\n",
      "Epoch 9/30\n",
      "29/29 [==============================] - 5s 172ms/step - loss: 0.3739 - accuracy: 0.8356\n",
      "Epoch 10/30\n",
      "29/29 [==============================] - 5s 181ms/step - loss: 0.3670 - accuracy: 0.8408\n",
      "Epoch 11/30\n",
      "29/29 [==============================] - 5s 176ms/step - loss: 0.3637 - accuracy: 0.8406\n",
      "Epoch 12/30\n",
      "29/29 [==============================] - 5s 164ms/step - loss: 0.3590 - accuracy: 0.8446\n",
      "Epoch 13/30\n",
      "29/29 [==============================] - 5s 183ms/step - loss: 0.3527 - accuracy: 0.8465\n",
      "Epoch 14/30\n",
      "29/29 [==============================] - 5s 176ms/step - loss: 0.3501 - accuracy: 0.8460\n",
      "Epoch 15/30\n",
      "29/29 [==============================] - 5s 170ms/step - loss: 0.3446 - accuracy: 0.8494\n",
      "Epoch 16/30\n",
      "29/29 [==============================] - 5s 157ms/step - loss: 0.3428 - accuracy: 0.8515\n",
      "Epoch 17/30\n",
      "29/29 [==============================] - 5s 185ms/step - loss: 0.3402 - accuracy: 0.8525\n",
      "Epoch 18/30\n",
      "29/29 [==============================] - 5s 174ms/step - loss: 0.3353 - accuracy: 0.8560\n",
      "Epoch 19/30\n",
      "29/29 [==============================] - 5s 159ms/step - loss: 0.3324 - accuracy: 0.8563\n",
      "Epoch 20/30\n",
      "29/29 [==============================] - 5s 173ms/step - loss: 0.3289 - accuracy: 0.8580\n",
      "Epoch 21/30\n",
      "29/29 [==============================] - 5s 164ms/step - loss: 0.3263 - accuracy: 0.8595\n",
      "Epoch 22/30\n",
      "29/29 [==============================] - 5s 173ms/step - loss: 0.3230 - accuracy: 0.8606\n",
      "Epoch 23/30\n",
      "29/29 [==============================] - 5s 180ms/step - loss: 0.3200 - accuracy: 0.8631\n",
      "Epoch 24/30\n",
      "29/29 [==============================] - 5s 176ms/step - loss: 0.3174 - accuracy: 0.8648\n",
      "Epoch 25/30\n",
      "29/29 [==============================] - 5s 169ms/step - loss: 0.3146 - accuracy: 0.8662\n",
      "Epoch 26/30\n",
      "29/29 [==============================] - 5s 178ms/step - loss: 0.3146 - accuracy: 0.8650\n",
      "Epoch 27/30\n",
      "29/29 [==============================] - 5s 177ms/step - loss: 0.3118 - accuracy: 0.8679\n",
      "Epoch 28/30\n",
      "29/29 [==============================] - 5s 185ms/step - loss: 0.3112 - accuracy: 0.8664\n",
      "Epoch 29/30\n",
      "29/29 [==============================] - 5s 166ms/step - loss: 0.3085 - accuracy: 0.8685\n",
      "Epoch 30/30\n",
      "29/29 [==============================] - 4s 122ms/step - loss: 0.3052 - accuracy: 0.8688\n"
     ]
    }
   ],
   "source": [
    "model = get_basic_model()\n",
    "history = model.fit(numeric_features.to_numpy(), target, epochs=30, batch_size=BATCH_SIZE)\n"
   ],
   "metadata": {
    "collapsed": false,
    "ExecuteTime": {
     "end_time": "2023-09-16T07:56:41.200180900Z",
     "start_time": "2023-09-16T07:54:07.365964500Z"
    }
   }
  },
  {
   "cell_type": "code",
   "execution_count": 241,
   "outputs": [
    {
     "name": "stdout",
     "output_type": "stream",
     "text": [
      "(<tf.Tensor: shape=(17,), dtype=int32, numpy=\n",
      "array([  10, 2018,    3,   31,    0,    1,    0,    0,    0,    1,    0,\n",
      "          2,    0,    0,    0,   95,    0])>, <tf.Tensor: shape=(), dtype=int32, numpy=0>)\n",
      "(<tf.Tensor: shape=(17,), dtype=int32, numpy=\n",
      "array([ 116, 2018,    2,   28,    2,    1,    0,    0,    0,    1,    0,\n",
      "          4,    0,    0,    0,   61,    0])>, <tf.Tensor: shape=(), dtype=int32, numpy=0>)\n",
      "(<tf.Tensor: shape=(17,), dtype=int32, numpy=\n",
      "array([  11, 2018,    7,   25,    1,    2,    0,    0,    0,    2,    1,\n",
      "          4,    0,    0,    0,  129,    1])>, <tf.Tensor: shape=(), dtype=int32, numpy=1>)\n"
     ]
    }
   ],
   "source": [
    "numeric_dataset = tf.data.Dataset.from_tensor_slices((numeric_features, target))\n",
    "\n",
    "for row in numeric_dataset.take(3):\n",
    "  print(row)\n"
   ],
   "metadata": {
    "collapsed": false,
    "ExecuteTime": {
     "end_time": "2023-09-16T07:56:47.795149400Z",
     "start_time": "2023-09-16T07:56:47.780146600Z"
    }
   }
  },
  {
   "cell_type": "code",
   "execution_count": 242,
   "outputs": [
    {
     "name": "stdout",
     "output_type": "stream",
     "text": [
      "Epoch 1/90\n",
      "29/29 [==============================] - 1s 3ms/step - loss: 0.5884 - accuracy: 0.6646\n",
      "Epoch 2/90\n",
      "29/29 [==============================] - 0s 3ms/step - loss: 0.4810 - accuracy: 0.7797\n",
      "Epoch 3/90\n",
      "29/29 [==============================] - 0s 3ms/step - loss: 0.4492 - accuracy: 0.7984\n",
      "Epoch 4/90\n",
      "29/29 [==============================] - 0s 3ms/step - loss: 0.4284 - accuracy: 0.8129\n",
      "Epoch 5/90\n",
      "29/29 [==============================] - 0s 3ms/step - loss: 0.4141 - accuracy: 0.8184\n",
      "Epoch 6/90\n",
      "29/29 [==============================] - 0s 3ms/step - loss: 0.4054 - accuracy: 0.8275\n",
      "Epoch 7/90\n",
      "29/29 [==============================] - 0s 3ms/step - loss: 0.3976 - accuracy: 0.8300\n",
      "Epoch 8/90\n",
      "29/29 [==============================] - 0s 3ms/step - loss: 0.3862 - accuracy: 0.8337\n",
      "Epoch 9/90\n",
      "29/29 [==============================] - 0s 3ms/step - loss: 0.3791 - accuracy: 0.8374\n",
      "Epoch 10/90\n",
      "29/29 [==============================] - 0s 3ms/step - loss: 0.3716 - accuracy: 0.8421\n",
      "Epoch 11/90\n",
      "29/29 [==============================] - 0s 3ms/step - loss: 0.3627 - accuracy: 0.8466\n",
      "Epoch 12/90\n",
      "29/29 [==============================] - 0s 3ms/step - loss: 0.3626 - accuracy: 0.8467\n",
      "Epoch 13/90\n",
      "29/29 [==============================] - 0s 3ms/step - loss: 0.3558 - accuracy: 0.8483\n",
      "Epoch 14/90\n",
      "29/29 [==============================] - 0s 3ms/step - loss: 0.3497 - accuracy: 0.8504\n",
      "Epoch 15/90\n",
      "29/29 [==============================] - 0s 4ms/step - loss: 0.3466 - accuracy: 0.8514\n",
      "Epoch 16/90\n",
      "29/29 [==============================] - 0s 3ms/step - loss: 0.3428 - accuracy: 0.8545\n",
      "Epoch 17/90\n",
      "29/29 [==============================] - 0s 3ms/step - loss: 0.3394 - accuracy: 0.8568\n",
      "Epoch 18/90\n",
      "29/29 [==============================] - 0s 3ms/step - loss: 0.3353 - accuracy: 0.8574\n",
      "Epoch 19/90\n",
      "29/29 [==============================] - 0s 3ms/step - loss: 0.3338 - accuracy: 0.8576\n",
      "Epoch 20/90\n",
      "29/29 [==============================] - 0s 3ms/step - loss: 0.3279 - accuracy: 0.8609\n",
      "Epoch 21/90\n",
      "29/29 [==============================] - 0s 3ms/step - loss: 0.3276 - accuracy: 0.8622\n",
      "Epoch 22/90\n",
      "29/29 [==============================] - 0s 3ms/step - loss: 0.3226 - accuracy: 0.8629\n",
      "Epoch 23/90\n",
      "29/29 [==============================] - 0s 3ms/step - loss: 0.3217 - accuracy: 0.8639\n",
      "Epoch 24/90\n",
      "29/29 [==============================] - 0s 3ms/step - loss: 0.3197 - accuracy: 0.8656\n",
      "Epoch 25/90\n",
      "29/29 [==============================] - 0s 3ms/step - loss: 0.3165 - accuracy: 0.8673\n",
      "Epoch 26/90\n",
      "29/29 [==============================] - 0s 3ms/step - loss: 0.3150 - accuracy: 0.8662\n",
      "Epoch 27/90\n",
      "29/29 [==============================] - 0s 3ms/step - loss: 0.3110 - accuracy: 0.8693\n",
      "Epoch 28/90\n",
      "29/29 [==============================] - 0s 3ms/step - loss: 0.3128 - accuracy: 0.8683\n",
      "Epoch 29/90\n",
      "29/29 [==============================] - 0s 3ms/step - loss: 0.3091 - accuracy: 0.8692\n",
      "Epoch 30/90\n",
      "29/29 [==============================] - 0s 3ms/step - loss: 0.3041 - accuracy: 0.8720\n",
      "Epoch 31/90\n",
      "29/29 [==============================] - 0s 3ms/step - loss: 0.3023 - accuracy: 0.8722\n",
      "Epoch 32/90\n",
      "29/29 [==============================] - 0s 3ms/step - loss: 0.3017 - accuracy: 0.8725\n",
      "Epoch 33/90\n",
      "29/29 [==============================] - 0s 3ms/step - loss: 0.2985 - accuracy: 0.8742\n",
      "Epoch 34/90\n",
      "29/29 [==============================] - 0s 3ms/step - loss: 0.2972 - accuracy: 0.8732\n",
      "Epoch 35/90\n",
      "29/29 [==============================] - 0s 4ms/step - loss: 0.2956 - accuracy: 0.8749\n",
      "Epoch 36/90\n",
      "29/29 [==============================] - 0s 3ms/step - loss: 0.2933 - accuracy: 0.8743\n",
      "Epoch 37/90\n",
      "29/29 [==============================] - 0s 4ms/step - loss: 0.2919 - accuracy: 0.8757\n",
      "Epoch 38/90\n",
      "29/29 [==============================] - 0s 3ms/step - loss: 0.2914 - accuracy: 0.8770\n",
      "Epoch 39/90\n",
      "29/29 [==============================] - 0s 3ms/step - loss: 0.2895 - accuracy: 0.8771\n",
      "Epoch 40/90\n",
      "29/29 [==============================] - 0s 3ms/step - loss: 0.2888 - accuracy: 0.8780\n",
      "Epoch 41/90\n",
      "29/29 [==============================] - 0s 3ms/step - loss: 0.2879 - accuracy: 0.8784\n",
      "Epoch 42/90\n",
      "29/29 [==============================] - 0s 3ms/step - loss: 0.2847 - accuracy: 0.8780\n",
      "Epoch 43/90\n",
      "29/29 [==============================] - 0s 3ms/step - loss: 0.2873 - accuracy: 0.8781\n",
      "Epoch 44/90\n",
      "29/29 [==============================] - 0s 3ms/step - loss: 0.2851 - accuracy: 0.8795\n",
      "Epoch 45/90\n",
      "29/29 [==============================] - 0s 3ms/step - loss: 0.2813 - accuracy: 0.8804\n",
      "Epoch 46/90\n",
      "29/29 [==============================] - 0s 3ms/step - loss: 0.2809 - accuracy: 0.8815\n",
      "Epoch 47/90\n",
      "29/29 [==============================] - 0s 3ms/step - loss: 0.2802 - accuracy: 0.8814\n",
      "Epoch 48/90\n",
      "29/29 [==============================] - 0s 3ms/step - loss: 0.2775 - accuracy: 0.8828\n",
      "Epoch 49/90\n",
      "29/29 [==============================] - 0s 3ms/step - loss: 0.2741 - accuracy: 0.8849\n",
      "Epoch 50/90\n",
      "29/29 [==============================] - 0s 3ms/step - loss: 0.2744 - accuracy: 0.8832\n",
      "Epoch 51/90\n",
      "29/29 [==============================] - 0s 3ms/step - loss: 0.2732 - accuracy: 0.8843\n",
      "Epoch 52/90\n",
      "29/29 [==============================] - 0s 3ms/step - loss: 0.2765 - accuracy: 0.8823\n",
      "Epoch 53/90\n",
      "29/29 [==============================] - 0s 3ms/step - loss: 0.2733 - accuracy: 0.8849\n",
      "Epoch 54/90\n",
      "29/29 [==============================] - 0s 3ms/step - loss: 0.2729 - accuracy: 0.8840\n",
      "Epoch 55/90\n",
      "29/29 [==============================] - 0s 3ms/step - loss: 0.2719 - accuracy: 0.8850\n",
      "Epoch 56/90\n",
      "29/29 [==============================] - 0s 3ms/step - loss: 0.2703 - accuracy: 0.8861\n",
      "Epoch 57/90\n",
      "29/29 [==============================] - 0s 3ms/step - loss: 0.2680 - accuracy: 0.8871\n",
      "Epoch 58/90\n",
      "29/29 [==============================] - 0s 3ms/step - loss: 0.2697 - accuracy: 0.8861\n",
      "Epoch 59/90\n",
      "29/29 [==============================] - 0s 3ms/step - loss: 0.2683 - accuracy: 0.8862\n",
      "Epoch 60/90\n",
      "29/29 [==============================] - 0s 3ms/step - loss: 0.2665 - accuracy: 0.8879\n",
      "Epoch 61/90\n",
      "29/29 [==============================] - 0s 3ms/step - loss: 0.2633 - accuracy: 0.8874\n",
      "Epoch 62/90\n",
      "29/29 [==============================] - 0s 3ms/step - loss: 0.2655 - accuracy: 0.8881\n",
      "Epoch 63/90\n",
      "29/29 [==============================] - 0s 3ms/step - loss: 0.2640 - accuracy: 0.8885\n",
      "Epoch 64/90\n",
      "29/29 [==============================] - 0s 3ms/step - loss: 0.2610 - accuracy: 0.8895\n",
      "Epoch 65/90\n",
      "29/29 [==============================] - 0s 3ms/step - loss: 0.2635 - accuracy: 0.8880\n",
      "Epoch 66/90\n",
      "29/29 [==============================] - 0s 3ms/step - loss: 0.2626 - accuracy: 0.8875\n",
      "Epoch 67/90\n",
      "29/29 [==============================] - 0s 3ms/step - loss: 0.2610 - accuracy: 0.8898\n",
      "Epoch 68/90\n",
      "29/29 [==============================] - 0s 3ms/step - loss: 0.2594 - accuracy: 0.8886\n",
      "Epoch 69/90\n",
      "29/29 [==============================] - 0s 3ms/step - loss: 0.2575 - accuracy: 0.8898\n",
      "Epoch 70/90\n",
      "29/29 [==============================] - 0s 3ms/step - loss: 0.2571 - accuracy: 0.8899\n",
      "Epoch 71/90\n",
      "29/29 [==============================] - 0s 3ms/step - loss: 0.2570 - accuracy: 0.8903\n",
      "Epoch 72/90\n",
      "29/29 [==============================] - 0s 3ms/step - loss: 0.2570 - accuracy: 0.8911\n",
      "Epoch 73/90\n",
      "29/29 [==============================] - 0s 3ms/step - loss: 0.2551 - accuracy: 0.8923\n",
      "Epoch 74/90\n",
      "29/29 [==============================] - 0s 3ms/step - loss: 0.2557 - accuracy: 0.8926\n",
      "Epoch 75/90\n",
      "29/29 [==============================] - 0s 3ms/step - loss: 0.2577 - accuracy: 0.8910\n",
      "Epoch 76/90\n",
      "29/29 [==============================] - 0s 3ms/step - loss: 0.2553 - accuracy: 0.8940\n",
      "Epoch 77/90\n",
      "29/29 [==============================] - 0s 3ms/step - loss: 0.2534 - accuracy: 0.8926\n",
      "Epoch 78/90\n",
      "29/29 [==============================] - 0s 3ms/step - loss: 0.2530 - accuracy: 0.8938\n",
      "Epoch 79/90\n",
      "29/29 [==============================] - 0s 3ms/step - loss: 0.2536 - accuracy: 0.8912\n",
      "Epoch 80/90\n",
      "29/29 [==============================] - 0s 3ms/step - loss: 0.2535 - accuracy: 0.8929\n",
      "Epoch 81/90\n",
      "29/29 [==============================] - 0s 3ms/step - loss: 0.2492 - accuracy: 0.8935\n",
      "Epoch 82/90\n",
      "29/29 [==============================] - 0s 3ms/step - loss: 0.2509 - accuracy: 0.8939\n",
      "Epoch 83/90\n",
      "29/29 [==============================] - 0s 3ms/step - loss: 0.2501 - accuracy: 0.8947\n",
      "Epoch 84/90\n",
      "29/29 [==============================] - 0s 3ms/step - loss: 0.2481 - accuracy: 0.8950\n",
      "Epoch 85/90\n",
      "29/29 [==============================] - 0s 3ms/step - loss: 0.2506 - accuracy: 0.8921\n",
      "Epoch 86/90\n",
      "29/29 [==============================] - 0s 3ms/step - loss: 0.2478 - accuracy: 0.8938\n",
      "Epoch 87/90\n",
      "29/29 [==============================] - 0s 3ms/step - loss: 0.2487 - accuracy: 0.8958\n",
      "Epoch 88/90\n",
      "29/29 [==============================] - 0s 3ms/step - loss: 0.2482 - accuracy: 0.8965\n",
      "Epoch 89/90\n",
      "29/29 [==============================] - 0s 3ms/step - loss: 0.2423 - accuracy: 0.8988\n",
      "Epoch 90/90\n",
      "29/29 [==============================] - 0s 3ms/step - loss: 0.2437 - accuracy: 0.8959\n"
     ]
    }
   ],
   "source": [
    "numeric_batches = numeric_dataset.shuffle(1000).batch(BATCH_SIZE)\n",
    "\n",
    "model = get_basic_model()\n",
    "history = model.fit(numeric_batches, epochs=90)"
   ],
   "metadata": {
    "collapsed": false,
    "ExecuteTime": {
     "end_time": "2023-09-16T07:57:00.287082500Z",
     "start_time": "2023-09-16T07:56:50.690132200Z"
    }
   }
  },
  {
   "cell_type": "code",
   "execution_count": 243,
   "outputs": [
    {
     "ename": "NameError",
     "evalue": "name 'plt' is not defined",
     "output_type": "error",
     "traceback": [
      "\u001B[1;31m---------------------------------------------------------------------------\u001B[0m",
      "\u001B[1;31mNameError\u001B[0m                                 Traceback (most recent call last)",
      "Cell \u001B[1;32mIn[243], line 1\u001B[0m\n\u001B[1;32m----> 1\u001B[0m \u001B[43mplt\u001B[49m\u001B[38;5;241m.\u001B[39mplot(history\u001B[38;5;241m.\u001B[39mhistory[\u001B[38;5;124m'\u001B[39m\u001B[38;5;124maccuracy\u001B[39m\u001B[38;5;124m'\u001B[39m], label\u001B[38;5;241m=\u001B[39m\u001B[38;5;124m'\u001B[39m\u001B[38;5;124maccuracy\u001B[39m\u001B[38;5;124m'\u001B[39m)\n\u001B[0;32m      2\u001B[0m \u001B[38;5;66;03m# plt.plot(history.history['val_accuracy'], label = 'val_accuracy')\u001B[39;00m\n\u001B[0;32m      3\u001B[0m plt\u001B[38;5;241m.\u001B[39mxlabel(\u001B[38;5;124m'\u001B[39m\u001B[38;5;124mEpoch\u001B[39m\u001B[38;5;124m'\u001B[39m)\n",
      "\u001B[1;31mNameError\u001B[0m: name 'plt' is not defined"
     ]
    }
   ],
   "source": [
    "plt.plot(history.history['accuracy'], label='accuracy')\n",
    "# plt.plot(history.history['val_accuracy'], label = 'val_accuracy')\n",
    "plt.xlabel('Epoch')\n",
    "plt.ylabel('Accuracy')\n",
    "plt.ylim([0, 1])\n",
    "plt.legend(loc='lower right')\n",
    "\n",
    "# 💀💀💀💀💀💀💀💀💀"
   ],
   "metadata": {
    "collapsed": false,
    "ExecuteTime": {
     "end_time": "2023-09-16T07:57:00.347082100Z",
     "start_time": "2023-09-16T07:57:00.291083200Z"
    }
   }
  },
  {
   "cell_type": "code",
   "execution_count": 244,
   "outputs": [
    {
     "name": "stdout",
     "output_type": "stream",
     "text": [
      "<class 'pandas.core.frame.DataFrame'>\n",
      "       LeadTime  ArrivalYear  ArrivalMonth  ArrivalDate  NumWeekendNights  \\\n",
      "0            10         2018             3           31                 0   \n",
      "1           116         2018             2           28                 2   \n",
      "2            11         2018             7           25                 1   \n",
      "3             3         2017             9           12                 0   \n",
      "4            28         2018             3            7                 1   \n",
      "...         ...          ...           ...          ...               ...   \n",
      "29015         2         2018            11           21                 1   \n",
      "29016        18         2018             4           12                 0   \n",
      "29017         8         2017             9           29                 0   \n",
      "29018        20         2018             9           18                 2   \n",
      "29019       274         2018             7           31                 2   \n",
      "\n",
      "       NumWeekNights  MealPlan  Parking  RoomType  NumAdults  NumChildren  \\\n",
      "0                  1         0        0         0          1            0   \n",
      "1                  1         0        0         0          1            0   \n",
      "2                  2         0        0         0          2            1   \n",
      "3                  1         0        0         0          2            0   \n",
      "4                  3         0        0         0          2            0   \n",
      "...              ...       ...      ...       ...        ...          ...   \n",
      "29015              2         0        0         0          1            0   \n",
      "29016              2         3        0         0          2            0   \n",
      "29017              3         0        0         0          1            0   \n",
      "29018              2         0        0         0          1            0   \n",
      "29019              1         0        0         1          2            0   \n",
      "\n",
      "       MarketSegment  RepeatedGuest  NumPrevCancellations  \\\n",
      "0                  2              0                     0   \n",
      "1                  4              0                     0   \n",
      "2                  4              0                     0   \n",
      "3                  4              0                     0   \n",
      "4                  3              0                     0   \n",
      "...              ...            ...                   ...   \n",
      "29015              4              0                     0   \n",
      "29016              4              0                     0   \n",
      "29017              2              0                     0   \n",
      "29018              3              0                     0   \n",
      "29019              4              0                     0   \n",
      "\n",
      "       NumPreviousNonCancelled  AvgRoomPrice  SpecialRequests  \n",
      "0                            0            95                0  \n",
      "1                            0            61                0  \n",
      "2                            0           129                1  \n",
      "3                            0           152                3  \n",
      "4                            0            87                0  \n",
      "...                        ...           ...              ...  \n",
      "29015                        0           100                1  \n",
      "29016                        0           119                1  \n",
      "29017                        0            65                0  \n",
      "29018                        0            90                0  \n",
      "29019                        0            96                1  \n",
      "\n",
      "[29020 rows x 17 columns]\n",
      "1/1 [==============================] - 0s 40ms/step\n",
      "asdf\n",
      "[0.3436088 0.7326662]: Canceled\n",
      "Predicted: not_canceled\n",
      "[0.8374077 0.0674181]: Canceled\n",
      "Predicted: cancled\n",
      "[0.34224766 0.7408705 ]: Not_Canceled\n",
      "Predicted: not_canceled\n",
      "[2.0879937e-05 1.0000000e+00]: Not_Canceled\n",
      "Predicted: not_canceled\n",
      "[0.17748545 0.95185226]: Not_Canceled\n",
      "Predicted: not_canceled\n",
      "[9.9987984e-01 1.2494859e-06]: Canceled\n",
      "Predicted: cancled\n",
      "[0.34457892 0.7321894 ]: Not_Canceled\n",
      "Predicted: not_canceled\n",
      "[0.02260997 0.99971205]: Not_Canceled\n",
      "Predicted: not_canceled\n",
      "[9.996377e-01 6.806200e-06]: Canceled\n",
      "Predicted: cancled\n",
      "[0.33214816 0.753281  ]: Not_Canceled\n",
      "Predicted: not_canceled\n",
      "[0.0018897  0.99999875]: Not_Canceled\n",
      "Predicted: not_canceled\n",
      "[0.24996254 0.8897424 ]: Not_Canceled\n",
      "Predicted: not_canceled\n",
      "[0.64251935 0.26658046]: Canceled\n",
      "Predicted: cancled\n",
      "[0.971817  0.0044541]: Canceled\n",
      "Predicted: cancled\n",
      "[0.34626144 0.7336322 ]: Not_Canceled\n",
      "Predicted: not_canceled\n",
      "[0.3612685 0.6995206]: Not_Canceled\n",
      "Predicted: not_canceled\n",
      "[0.36433774 0.6923749 ]: Not_Canceled\n",
      "Predicted: not_canceled\n",
      "[0.10856873 0.9860986 ]: Not_Canceled\n",
      "Predicted: not_canceled\n",
      "[0.4350022 0.5740422]: Canceled\n",
      "Predicted: not_canceled\n"
     ]
    }
   ],
   "source": [
    "# pd.DataFrame(numeric_features.numpy())\n",
    "print(type(numeric_features))\n",
    "print(numeric_features)\n",
    "predictions = model.predict(np.array(numeric_features.iloc[:20]))\n",
    "\n",
    "print(\"asdf\")\n",
    "\n",
    "lst = [\"Canceled\",\n",
    "\"Canceled\",\n",
    "\"Not_Canceled\",\n",
    "\"Not_Canceled\",\n",
    "\"Not_Canceled\",\n",
    "\"Canceled\",\n",
    "\"Not_Canceled\",\n",
    "\"Not_Canceled\",\n",
    "\"Canceled\",\n",
    "\"Not_Canceled\",\n",
    "\"Not_Canceled\",\n",
    "\"Not_Canceled\",\n",
    "\"Canceled\",\n",
    "\"Canceled\",\n",
    "\"Not_Canceled\",\n",
    "\"Not_Canceled\",\n",
    "\"Not_Canceled\",\n",
    "\"Not_Canceled\",\n",
    "\"Canceled\"]\n",
    "# print(predictions)\n",
    "\n",
    "for i in range(len(predictions)-1):\n",
    "    print(f\"{predictions[i]}: {lst[i]}\")\n",
    "    if predictions[i][0] > predictions[i][1]:\n",
    "        print(\"Predicted: cancled\")\n",
    "    else:\n",
    "        print(\"Predicted: not_canceled\")\n"
   ],
   "metadata": {
    "collapsed": false,
    "ExecuteTime": {
     "end_time": "2023-09-16T07:57:03.399066500Z",
     "start_time": "2023-09-16T07:57:03.329067900Z"
    }
   }
  }
 ],
 "metadata": {
  "kernelspec": {
   "display_name": "Python 3",
   "language": "python",
   "name": "python3"
  },
  "language_info": {
   "codemirror_mode": {
    "name": "ipython",
    "version": 2
   },
   "file_extension": ".py",
   "mimetype": "text/x-python",
   "name": "python",
   "nbconvert_exporter": "python",
   "pygments_lexer": "ipython2",
   "version": "2.7.6"
  }
 },
 "nbformat": 4,
 "nbformat_minor": 0
}
