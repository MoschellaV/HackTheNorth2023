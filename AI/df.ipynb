{
 "cells": [
  {
   "cell_type": "code",
   "execution_count": 3,
   "metadata": {
    "collapsed": true,
    "ExecuteTime": {
     "end_time": "2023-09-17T00:38:46.141484200Z",
     "start_time": "2023-09-17T00:38:43.212482200Z"
    }
   },
   "outputs": [],
   "source": [
    "import os\n",
    "import tensorflow as tf\n",
    "import pandas as pd"
   ]
  },
  {
   "cell_type": "code",
   "execution_count": 4,
   "outputs": [],
   "source": [
    "import numpy as np\n",
    "import shutil\n",
    "import matplotlib\n",
    "import matplotlib.pyplot as plt\n"
   ],
   "metadata": {
    "collapsed": false,
    "ExecuteTime": {
     "end_time": "2023-09-17T00:38:46.568481500Z",
     "start_time": "2023-09-17T00:38:46.140481900Z"
    }
   }
  },
  {
   "cell_type": "code",
   "execution_count": 5,
   "outputs": [
    {
     "data": {
      "text/plain": "'C:\\\\Users\\\\Kevin Tang\\\\Documents\\\\HackTheNorth2023\\\\AI'"
     },
     "execution_count": 5,
     "metadata": {},
     "output_type": "execute_result"
    }
   ],
   "source": [
    "pwd"
   ],
   "metadata": {
    "collapsed": false,
    "ExecuteTime": {
     "end_time": "2023-09-17T00:38:46.584482Z",
     "start_time": "2023-09-17T00:38:46.569482600Z"
    }
   }
  },
  {
   "cell_type": "markdown",
   "source": [],
   "metadata": {
    "collapsed": false
   }
  },
  {
   "cell_type": "code",
   "execution_count": 6,
   "outputs": [],
   "source": [
    "SHUFFLE_BUFFER = 500\n",
    "BATCH_SIZE = 1024"
   ],
   "metadata": {
    "collapsed": false,
    "ExecuteTime": {
     "end_time": "2023-09-17T00:38:46.629481600Z",
     "start_time": "2023-09-17T00:38:46.585482800Z"
    }
   }
  },
  {
   "cell_type": "code",
   "execution_count": 9,
   "outputs": [],
   "source": [
    "DATA_PATH = \"../backend/local/UAQ3GzHi8TNmOS9qjtnEroOcIuy2/model_64dc6cae-932e-413a-bba5-831aca573647/data.csv\"\n",
    "TEST_PATH = \"dataset/test_data.csv\""
   ],
   "metadata": {
    "collapsed": false,
    "ExecuteTime": {
     "end_time": "2023-09-17T00:39:13.529481600Z",
     "start_time": "2023-09-17T00:39:13.515482900Z"
    }
   }
  },
  {
   "cell_type": "code",
   "execution_count": 10,
   "outputs": [
    {
     "data": {
      "text/plain": "3"
     },
     "execution_count": 10,
     "metadata": {},
     "output_type": "execute_result"
    }
   ],
   "source": [
    "df = pd.DataFrame([[0, 2, 3], [0, 4, 1], [10, 20, 30]])\n",
    "df.at[0, 2]"
   ],
   "metadata": {
    "collapsed": false,
    "ExecuteTime": {
     "end_time": "2023-09-17T00:39:13.939482600Z",
     "start_time": "2023-09-17T00:39:13.916483600Z"
    }
   }
  },
  {
   "cell_type": "code",
   "execution_count": 11,
   "outputs": [
    {
     "name": "stdout",
     "output_type": "stream",
     "text": [
      "      age  anaemia  creatinine_phosphokinase  diabetes  ejection_fraction  \\\n",
      "0    75.0        0                       582         0                 20   \n",
      "1    55.0        0                      7861         0                 38   \n",
      "2    65.0        0                       146         0                 20   \n",
      "3    50.0        1                       111         0                 20   \n",
      "4    65.0        1                       160         1                 20   \n",
      "..    ...      ...                       ...       ...                ...   \n",
      "294  62.0        0                        61         1                 38   \n",
      "295  55.0        0                      1820         0                 38   \n",
      "296  45.0        0                      2060         1                 60   \n",
      "297  45.0        0                      2413         0                 38   \n",
      "298  50.0        0                       196         0                 45   \n",
      "\n",
      "     high_blood_pressure  platelets  serum_creatinine  serum_sodium  sex  \\\n",
      "0                      1  265000.00               1.9           130    1   \n",
      "1                      0  263358.03               1.1           136    1   \n",
      "2                      0  162000.00               1.3           129    1   \n",
      "3                      0  210000.00               1.9           137    1   \n",
      "4                      0  327000.00               2.7           116    0   \n",
      "..                   ...        ...               ...           ...  ...   \n",
      "294                    1  155000.00               1.1           143    1   \n",
      "295                    0  270000.00               1.2           139    0   \n",
      "296                    0  742000.00               0.8           138    0   \n",
      "297                    0  140000.00               1.4           140    1   \n",
      "298                    0  395000.00               1.6           136    1   \n",
      "\n",
      "     smoking  time  DEATH_EVENT  \n",
      "0          0     4            1  \n",
      "1          0     6            1  \n",
      "2          1     7            1  \n",
      "3          0     7            1  \n",
      "4          0     8            1  \n",
      "..       ...   ...          ...  \n",
      "294        1   270            0  \n",
      "295        0   271            0  \n",
      "296        0   278            0  \n",
      "297        1   280            0  \n",
      "298        1   285            0  \n",
      "\n",
      "[299 rows x 13 columns]\n"
     ]
    }
   ],
   "source": [
    "df = pd.read_csv(DATA_PATH)\n",
    "print(df)"
   ],
   "metadata": {
    "collapsed": false,
    "ExecuteTime": {
     "end_time": "2023-09-17T00:39:14.669485400Z",
     "start_time": "2023-09-17T00:39:14.655482100Z"
    }
   }
  },
  {
   "cell_type": "code",
   "execution_count": 25,
   "outputs": [
    {
     "name": "stdout",
     "output_type": "stream",
     "text": [
      "29020\n"
     ]
    },
    {
     "data": {
      "text/plain": "       LeadTime  ArrivalYear  ArrivalMonth  ArrivalDate  NumWeekendNights  \\\n0            10           18             3           31                 0   \n1           116           18             2           28                 2   \n2            11           18             7           25                 1   \n3             3           17             9           12                 0   \n4            28           18             3            7                 1   \n...         ...          ...           ...          ...               ...   \n29015         2           18            11           21                 1   \n29016        18           18             4           12                 0   \n29017         8           17             9           29                 0   \n29018        20           18             9           18                 2   \n29019       274           18             7           31                 2   \n\n       NumWeekNights MealPlan  Parking RoomType  NumAdults  NumChildren  \\\n0                  1        1        0        1          1            0   \n1                  1        1        0        1          1            0   \n2                  2        1        0        1          2            1   \n3                  1        1        0        1          2            0   \n4                  3        1        0        1          2            0   \n...              ...      ...      ...      ...        ...          ...   \n29015              2        1        0        1          1            0   \n29016              2        0        0        1          2            0   \n29017              3        1        0        1          1            0   \n29018              2        1        0        1          1            0   \n29019              1        1        0        2          2            0   \n\n      MarketSegment  RepeatedGuest  NumPrevCancellations  \\\n0                 3              0                     0   \n1                 5              0                     0   \n2                 5              0                     0   \n3                 5              0                     0   \n4                 4              0                     0   \n...             ...            ...                   ...   \n29015             5              0                     0   \n29016             5              0                     0   \n29017             3              0                     0   \n29018             4              0                     0   \n29019             5              0                     0   \n\n       NumPreviousNonCancelled  AvgRoomPrice  SpecialRequests  \n0                            0         95.00                0  \n1                            0         61.00                0  \n2                            0        129.75                1  \n3                            0        152.00                3  \n4                            0         87.00                0  \n...                        ...           ...              ...  \n29015                        0        100.67                1  \n29016                        0        119.00                1  \n29017                        0         65.00                0  \n29018                        0         90.00                0  \n29019                        0         96.50                1  \n\n[29020 rows x 17 columns]",
      "text/html": "<div>\n<style scoped>\n    .dataframe tbody tr th:only-of-type {\n        vertical-align: middle;\n    }\n\n    .dataframe tbody tr th {\n        vertical-align: top;\n    }\n\n    .dataframe thead th {\n        text-align: right;\n    }\n</style>\n<table border=\"1\" class=\"dataframe\">\n  <thead>\n    <tr style=\"text-align: right;\">\n      <th></th>\n      <th>LeadTime</th>\n      <th>ArrivalYear</th>\n      <th>ArrivalMonth</th>\n      <th>ArrivalDate</th>\n      <th>NumWeekendNights</th>\n      <th>NumWeekNights</th>\n      <th>MealPlan</th>\n      <th>Parking</th>\n      <th>RoomType</th>\n      <th>NumAdults</th>\n      <th>NumChildren</th>\n      <th>MarketSegment</th>\n      <th>RepeatedGuest</th>\n      <th>NumPrevCancellations</th>\n      <th>NumPreviousNonCancelled</th>\n      <th>AvgRoomPrice</th>\n      <th>SpecialRequests</th>\n    </tr>\n  </thead>\n  <tbody>\n    <tr>\n      <th>0</th>\n      <td>10</td>\n      <td>18</td>\n      <td>3</td>\n      <td>31</td>\n      <td>0</td>\n      <td>1</td>\n      <td>1</td>\n      <td>0</td>\n      <td>1</td>\n      <td>1</td>\n      <td>0</td>\n      <td>3</td>\n      <td>0</td>\n      <td>0</td>\n      <td>0</td>\n      <td>95.00</td>\n      <td>0</td>\n    </tr>\n    <tr>\n      <th>1</th>\n      <td>116</td>\n      <td>18</td>\n      <td>2</td>\n      <td>28</td>\n      <td>2</td>\n      <td>1</td>\n      <td>1</td>\n      <td>0</td>\n      <td>1</td>\n      <td>1</td>\n      <td>0</td>\n      <td>5</td>\n      <td>0</td>\n      <td>0</td>\n      <td>0</td>\n      <td>61.00</td>\n      <td>0</td>\n    </tr>\n    <tr>\n      <th>2</th>\n      <td>11</td>\n      <td>18</td>\n      <td>7</td>\n      <td>25</td>\n      <td>1</td>\n      <td>2</td>\n      <td>1</td>\n      <td>0</td>\n      <td>1</td>\n      <td>2</td>\n      <td>1</td>\n      <td>5</td>\n      <td>0</td>\n      <td>0</td>\n      <td>0</td>\n      <td>129.75</td>\n      <td>1</td>\n    </tr>\n    <tr>\n      <th>3</th>\n      <td>3</td>\n      <td>17</td>\n      <td>9</td>\n      <td>12</td>\n      <td>0</td>\n      <td>1</td>\n      <td>1</td>\n      <td>0</td>\n      <td>1</td>\n      <td>2</td>\n      <td>0</td>\n      <td>5</td>\n      <td>0</td>\n      <td>0</td>\n      <td>0</td>\n      <td>152.00</td>\n      <td>3</td>\n    </tr>\n    <tr>\n      <th>4</th>\n      <td>28</td>\n      <td>18</td>\n      <td>3</td>\n      <td>7</td>\n      <td>1</td>\n      <td>3</td>\n      <td>1</td>\n      <td>0</td>\n      <td>1</td>\n      <td>2</td>\n      <td>0</td>\n      <td>4</td>\n      <td>0</td>\n      <td>0</td>\n      <td>0</td>\n      <td>87.00</td>\n      <td>0</td>\n    </tr>\n    <tr>\n      <th>...</th>\n      <td>...</td>\n      <td>...</td>\n      <td>...</td>\n      <td>...</td>\n      <td>...</td>\n      <td>...</td>\n      <td>...</td>\n      <td>...</td>\n      <td>...</td>\n      <td>...</td>\n      <td>...</td>\n      <td>...</td>\n      <td>...</td>\n      <td>...</td>\n      <td>...</td>\n      <td>...</td>\n      <td>...</td>\n    </tr>\n    <tr>\n      <th>29015</th>\n      <td>2</td>\n      <td>18</td>\n      <td>11</td>\n      <td>21</td>\n      <td>1</td>\n      <td>2</td>\n      <td>1</td>\n      <td>0</td>\n      <td>1</td>\n      <td>1</td>\n      <td>0</td>\n      <td>5</td>\n      <td>0</td>\n      <td>0</td>\n      <td>0</td>\n      <td>100.67</td>\n      <td>1</td>\n    </tr>\n    <tr>\n      <th>29016</th>\n      <td>18</td>\n      <td>18</td>\n      <td>4</td>\n      <td>12</td>\n      <td>0</td>\n      <td>2</td>\n      <td>0</td>\n      <td>0</td>\n      <td>1</td>\n      <td>2</td>\n      <td>0</td>\n      <td>5</td>\n      <td>0</td>\n      <td>0</td>\n      <td>0</td>\n      <td>119.00</td>\n      <td>1</td>\n    </tr>\n    <tr>\n      <th>29017</th>\n      <td>8</td>\n      <td>17</td>\n      <td>9</td>\n      <td>29</td>\n      <td>0</td>\n      <td>3</td>\n      <td>1</td>\n      <td>0</td>\n      <td>1</td>\n      <td>1</td>\n      <td>0</td>\n      <td>3</td>\n      <td>0</td>\n      <td>0</td>\n      <td>0</td>\n      <td>65.00</td>\n      <td>0</td>\n    </tr>\n    <tr>\n      <th>29018</th>\n      <td>20</td>\n      <td>18</td>\n      <td>9</td>\n      <td>18</td>\n      <td>2</td>\n      <td>2</td>\n      <td>1</td>\n      <td>0</td>\n      <td>1</td>\n      <td>1</td>\n      <td>0</td>\n      <td>4</td>\n      <td>0</td>\n      <td>0</td>\n      <td>0</td>\n      <td>90.00</td>\n      <td>0</td>\n    </tr>\n    <tr>\n      <th>29019</th>\n      <td>274</td>\n      <td>18</td>\n      <td>7</td>\n      <td>31</td>\n      <td>2</td>\n      <td>1</td>\n      <td>1</td>\n      <td>0</td>\n      <td>2</td>\n      <td>2</td>\n      <td>0</td>\n      <td>5</td>\n      <td>0</td>\n      <td>0</td>\n      <td>0</td>\n      <td>96.50</td>\n      <td>1</td>\n    </tr>\n  </tbody>\n</table>\n<p>29020 rows × 17 columns</p>\n</div>"
     },
     "execution_count": 25,
     "metadata": {},
     "output_type": "execute_result"
    }
   ],
   "source": [
    "df = pd.read_csv(DATA_PATH)\n",
    "\n",
    "df = df.drop('BookingID', axis=1) # axis: 0 for row, 1 for column\n",
    "\n",
    "print(len(df))\n",
    "\n",
    "for i in range(len(df)):\n",
    "    # ARRIVAL YEAR\n",
    "    df.at[i, \"ArrivalYear\"] = df.at[i, \"ArrivalYear\"] % 2000\n",
    "\n",
    "    # MEAL PARSING\n",
    "    if df.at[i, \"MealPlan\"].startswith(\"Not\"):\n",
    "        df.at[i, \"MealPlan\"] = 0\n",
    "    else:\n",
    "        df.at[i, \"MealPlan\"] = df.at[i, \"MealPlan\"].split()[-1]\n",
    "\n",
    "    # ROOM TYPE\n",
    "    df.at[i, \"RoomType\"] = df.at[i, \"RoomType\"].split()[-1]\n",
    "\n",
    "    # MARKET SEGMENT\n",
    "    if df.at[i, \"MarketSegment\"] == \"Online\":\n",
    "        df.at[i, \"MarketSegment\"] = 5\n",
    "    elif df.at[i, \"MarketSegment\"] == \"Offline\":\n",
    "        df.at[i, \"MarketSegment\"] = 4\n",
    "    elif df.at[i, \"MarketSegment\"] == \"Corporate\":\n",
    "        df.at[i, \"MarketSegment\"] = 3\n",
    "    elif df.at[i, \"MarketSegment\"] == \"Complementary\":\n",
    "        df.at[i, \"MarketSegment\"] = 2\n",
    "    elif df.at[i, \"MarketSegment\"] == \"Aviation\":\n",
    "        df.at[i, \"MarketSegment\"] = 1\n",
    "    else:\n",
    "        print(\"Recheck data.\")\n",
    "\n",
    "    # BOOKING STATUS\n",
    "    if df.at[i, \"BookingStatus\"] == \"Canceled\":\n",
    "        df.at[i, \"BookingStatus\"] = 0\n",
    "    elif df.at[i, \"BookingStatus\"] == \"Not_Canceled\":\n",
    "        df.at[i, \"BookingStatus\"] = 1\n",
    "\n",
    "# BOOKING STATUS\n",
    "target = df.pop(\"BookingStatus\")\n",
    "df"
   ],
   "metadata": {
    "collapsed": false,
    "ExecuteTime": {
     "end_time": "2023-09-16T12:38:02.323943900Z",
     "start_time": "2023-09-16T12:37:58.241943400Z"
    }
   }
  },
  {
   "cell_type": "markdown",
   "source": [
    "# Normalizing the dataframe"
   ],
   "metadata": {
    "collapsed": false
   }
  },
  {
   "cell_type": "code",
   "execution_count": 12,
   "outputs": [
    {
     "name": "stdout",
     "output_type": "stream",
     "text": [
      "0      1\n",
      "1      1\n",
      "2      1\n",
      "3      1\n",
      "4      1\n",
      "      ..\n",
      "294    0\n",
      "295    0\n",
      "296    0\n",
      "297    0\n",
      "298    0\n",
      "Name: DEATH_EVENT, Length: 299, dtype: int64\n",
      "[]\n"
     ]
    },
    {
     "data": {
      "text/plain": "      age  anaemia  creatinine_phosphokinase  diabetes  ejection_fraction  \\\n0    75.0        0                       582         0                 20   \n1    55.0        0                      7861         0                 38   \n2    65.0        0                       146         0                 20   \n3    50.0        1                       111         0                 20   \n4    65.0        1                       160         1                 20   \n..    ...      ...                       ...       ...                ...   \n294  62.0        0                        61         1                 38   \n295  55.0        0                      1820         0                 38   \n296  45.0        0                      2060         1                 60   \n297  45.0        0                      2413         0                 38   \n298  50.0        0                       196         0                 45   \n\n     high_blood_pressure  platelets  serum_creatinine  serum_sodium  sex  \\\n0                      1  265000.00               1.9           130    1   \n1                      0  263358.03               1.1           136    1   \n2                      0  162000.00               1.3           129    1   \n3                      0  210000.00               1.9           137    1   \n4                      0  327000.00               2.7           116    0   \n..                   ...        ...               ...           ...  ...   \n294                    1  155000.00               1.1           143    1   \n295                    0  270000.00               1.2           139    0   \n296                    0  742000.00               0.8           138    0   \n297                    0  140000.00               1.4           140    1   \n298                    0  395000.00               1.6           136    1   \n\n     smoking  time  \n0          0     4  \n1          0     6  \n2          1     7  \n3          0     7  \n4          0     8  \n..       ...   ...  \n294        1   270  \n295        0   271  \n296        0   278  \n297        1   280  \n298        1   285  \n\n[299 rows x 12 columns]",
      "text/html": "<div>\n<style scoped>\n    .dataframe tbody tr th:only-of-type {\n        vertical-align: middle;\n    }\n\n    .dataframe tbody tr th {\n        vertical-align: top;\n    }\n\n    .dataframe thead th {\n        text-align: right;\n    }\n</style>\n<table border=\"1\" class=\"dataframe\">\n  <thead>\n    <tr style=\"text-align: right;\">\n      <th></th>\n      <th>age</th>\n      <th>anaemia</th>\n      <th>creatinine_phosphokinase</th>\n      <th>diabetes</th>\n      <th>ejection_fraction</th>\n      <th>high_blood_pressure</th>\n      <th>platelets</th>\n      <th>serum_creatinine</th>\n      <th>serum_sodium</th>\n      <th>sex</th>\n      <th>smoking</th>\n      <th>time</th>\n    </tr>\n  </thead>\n  <tbody>\n    <tr>\n      <th>0</th>\n      <td>75.0</td>\n      <td>0</td>\n      <td>582</td>\n      <td>0</td>\n      <td>20</td>\n      <td>1</td>\n      <td>265000.00</td>\n      <td>1.9</td>\n      <td>130</td>\n      <td>1</td>\n      <td>0</td>\n      <td>4</td>\n    </tr>\n    <tr>\n      <th>1</th>\n      <td>55.0</td>\n      <td>0</td>\n      <td>7861</td>\n      <td>0</td>\n      <td>38</td>\n      <td>0</td>\n      <td>263358.03</td>\n      <td>1.1</td>\n      <td>136</td>\n      <td>1</td>\n      <td>0</td>\n      <td>6</td>\n    </tr>\n    <tr>\n      <th>2</th>\n      <td>65.0</td>\n      <td>0</td>\n      <td>146</td>\n      <td>0</td>\n      <td>20</td>\n      <td>0</td>\n      <td>162000.00</td>\n      <td>1.3</td>\n      <td>129</td>\n      <td>1</td>\n      <td>1</td>\n      <td>7</td>\n    </tr>\n    <tr>\n      <th>3</th>\n      <td>50.0</td>\n      <td>1</td>\n      <td>111</td>\n      <td>0</td>\n      <td>20</td>\n      <td>0</td>\n      <td>210000.00</td>\n      <td>1.9</td>\n      <td>137</td>\n      <td>1</td>\n      <td>0</td>\n      <td>7</td>\n    </tr>\n    <tr>\n      <th>4</th>\n      <td>65.0</td>\n      <td>1</td>\n      <td>160</td>\n      <td>1</td>\n      <td>20</td>\n      <td>0</td>\n      <td>327000.00</td>\n      <td>2.7</td>\n      <td>116</td>\n      <td>0</td>\n      <td>0</td>\n      <td>8</td>\n    </tr>\n    <tr>\n      <th>...</th>\n      <td>...</td>\n      <td>...</td>\n      <td>...</td>\n      <td>...</td>\n      <td>...</td>\n      <td>...</td>\n      <td>...</td>\n      <td>...</td>\n      <td>...</td>\n      <td>...</td>\n      <td>...</td>\n      <td>...</td>\n    </tr>\n    <tr>\n      <th>294</th>\n      <td>62.0</td>\n      <td>0</td>\n      <td>61</td>\n      <td>1</td>\n      <td>38</td>\n      <td>1</td>\n      <td>155000.00</td>\n      <td>1.1</td>\n      <td>143</td>\n      <td>1</td>\n      <td>1</td>\n      <td>270</td>\n    </tr>\n    <tr>\n      <th>295</th>\n      <td>55.0</td>\n      <td>0</td>\n      <td>1820</td>\n      <td>0</td>\n      <td>38</td>\n      <td>0</td>\n      <td>270000.00</td>\n      <td>1.2</td>\n      <td>139</td>\n      <td>0</td>\n      <td>0</td>\n      <td>271</td>\n    </tr>\n    <tr>\n      <th>296</th>\n      <td>45.0</td>\n      <td>0</td>\n      <td>2060</td>\n      <td>1</td>\n      <td>60</td>\n      <td>0</td>\n      <td>742000.00</td>\n      <td>0.8</td>\n      <td>138</td>\n      <td>0</td>\n      <td>0</td>\n      <td>278</td>\n    </tr>\n    <tr>\n      <th>297</th>\n      <td>45.0</td>\n      <td>0</td>\n      <td>2413</td>\n      <td>0</td>\n      <td>38</td>\n      <td>0</td>\n      <td>140000.00</td>\n      <td>1.4</td>\n      <td>140</td>\n      <td>1</td>\n      <td>1</td>\n      <td>280</td>\n    </tr>\n    <tr>\n      <th>298</th>\n      <td>50.0</td>\n      <td>0</td>\n      <td>196</td>\n      <td>0</td>\n      <td>45</td>\n      <td>0</td>\n      <td>395000.00</td>\n      <td>1.6</td>\n      <td>136</td>\n      <td>1</td>\n      <td>1</td>\n      <td>285</td>\n    </tr>\n  </tbody>\n</table>\n<p>299 rows × 12 columns</p>\n</div>"
     },
     "execution_count": 12,
     "metadata": {},
     "output_type": "execute_result"
    }
   ],
   "source": [
    "# REMOVED_COL = \"BookingID\"\n",
    "PREDICT_COL = \"DEATH_EVENT\"\n",
    "ENCODING = []\n",
    "\n",
    "df = pd.read_csv(DATA_PATH)\n",
    "# df = df.drop(REMOVED_COL, axis=1) # axis: 0 for row, 1 for column\n",
    "\n",
    "\n",
    "for col in df.columns:\n",
    "    if not all(isinstance(x, (int, float)) for x in df[col]):\n",
    "        lst = np.unique(df[col].astype(str))\n",
    "        if col == PREDICT_COL:\n",
    "            for i in range(len(lst)):\n",
    "                ENCODING.append((i, lst[i]))\n",
    "        for i in range(len(lst)):\n",
    "            df[col] = df[col].replace(lst[i], i)\n",
    "        lst = []\n",
    "\n",
    "\n",
    "target = df.pop(PREDICT_COL)\n",
    "print(target)\n",
    "print(ENCODING)\n",
    "df"
   ],
   "metadata": {
    "collapsed": false,
    "ExecuteTime": {
     "end_time": "2023-09-17T00:39:52.062019800Z",
     "start_time": "2023-09-17T00:39:52.025019300Z"
    }
   }
  },
  {
   "cell_type": "code",
   "execution_count": 13,
   "outputs": [
    {
     "name": "stdout",
     "output_type": "stream",
     "text": [
      "<class 'pandas.core.series.Series'>\n"
     ]
    },
    {
     "data": {
      "text/plain": "0      1\n1      1\n2      1\n3      1\n4      1\n      ..\n294    0\n295    0\n296    0\n297    0\n298    0\nName: DEATH_EVENT, Length: 299, dtype: int32"
     },
     "execution_count": 13,
     "metadata": {},
     "output_type": "execute_result"
    }
   ],
   "source": [
    "# Name: BookingStatus, Length: 29020, dtype: object\n",
    "# dtype can't be object or will get error for normalizer(numeric_features.iloc[:3])\n",
    "target = target.astype('int')\n",
    "df = df.astype('int')\n",
    "print(type(target))\n",
    "target"
   ],
   "metadata": {
    "collapsed": false,
    "ExecuteTime": {
     "end_time": "2023-09-17T00:39:54.957019200Z",
     "start_time": "2023-09-17T00:39:54.935018600Z"
    }
   }
  },
  {
   "cell_type": "code",
   "execution_count": 14,
   "outputs": [
    {
     "name": "stdout",
     "output_type": "stream",
     "text": [
      "<class 'pandas.core.frame.DataFrame'>\n"
     ]
    }
   ],
   "source": [
    "numeric_feature_names = [name for name in df.columns]\n",
    "# numeric_feature_names = ['LeadTime', 'ArrivalYear', 'ArrivalMonth',  'ArrivalDate', 'NumWeekendNights', \"NumWeekNights\", \"MealPlan\", \"Parking\", \"RoomType\", \"NumAdults\", \"NumChildren\", \"MarketSegment\", \"RepeatedGuest\", \"NumPrevCancellations\", \"NumPreviousNonCancelled\", \"AvgRoomPrice\", \"SpecialRequests\"]\n",
    "numeric_features = df[numeric_feature_names]\n",
    "numeric_features.head()\n",
    "\n",
    "print(type(numeric_features))"
   ],
   "metadata": {
    "collapsed": false,
    "ExecuteTime": {
     "end_time": "2023-09-17T00:39:58.425018900Z",
     "start_time": "2023-09-17T00:39:58.416018300Z"
    }
   }
  },
  {
   "cell_type": "code",
   "execution_count": 15,
   "outputs": [
    {
     "data": {
      "text/plain": "<tf.Tensor: shape=(299, 12), dtype=int32, numpy=\narray([[  75,    0,  582, ...,    1,    0,    4],\n       [  55,    0, 7861, ...,    1,    0,    6],\n       [  65,    0,  146, ...,    1,    1,    7],\n       ...,\n       [  45,    0, 2060, ...,    0,    0,  278],\n       [  45,    0, 2413, ...,    1,    1,  280],\n       [  50,    0,  196, ...,    1,    1,  285]])>"
     },
     "execution_count": 15,
     "metadata": {},
     "output_type": "execute_result"
    }
   ],
   "source": [
    "# numeric_features = np.asarray(numeric_features).astype('float32')\n",
    "\n",
    "tf.convert_to_tensor(numeric_features)\n"
   ],
   "metadata": {
    "collapsed": false,
    "ExecuteTime": {
     "end_time": "2023-09-17T00:39:59.209018800Z",
     "start_time": "2023-09-17T00:39:59.187019800Z"
    }
   }
  },
  {
   "cell_type": "code",
   "execution_count": 16,
   "outputs": [],
   "source": [
    "normalizer = tf.keras.layers.Normalization(axis=-1)\n",
    "normalizer.adapt(numeric_features.to_numpy())\n"
   ],
   "metadata": {
    "collapsed": false,
    "ExecuteTime": {
     "end_time": "2023-09-17T00:40:00.607019Z",
     "start_time": "2023-09-17T00:40:00.393021900Z"
    }
   }
  },
  {
   "cell_type": "code",
   "execution_count": 17,
   "outputs": [
    {
     "data": {
      "text/plain": "pandas.core.frame.DataFrame"
     },
     "execution_count": 17,
     "metadata": {},
     "output_type": "execute_result"
    }
   ],
   "source": [
    "numeric_features = pd.DataFrame(numeric_features)\n",
    "type(numeric_features)\n"
   ],
   "metadata": {
    "collapsed": false,
    "ExecuteTime": {
     "end_time": "2023-09-17T00:40:01.157018800Z",
     "start_time": "2023-09-17T00:40:01.129019400Z"
    }
   }
  },
  {
   "cell_type": "code",
   "execution_count": 18,
   "outputs": [
    {
     "data": {
      "text/plain": "<tf.Tensor: shape=(3, 12), dtype=float32, numpy=\narray([[ 1.1933013e+00, -8.7110478e-01,  1.6571533e-04, -8.4757942e-01,\n        -1.5305597e+00,  1.3592716e+00,  1.6816784e-02,  1.8290954e-02,\n        -1.5040385e+00,  7.3568821e-01, -6.8768191e-01, -1.6295023e+00],\n       [-4.9089664e-01, -8.7110478e-01,  7.5146399e+00, -8.4757942e-01,\n        -7.0769452e-03, -7.3568821e-01,  0.0000000e+00,  1.8290954e-02,\n        -1.4197825e-01,  7.3568821e-01, -6.8768191e-01, -1.6036906e+00],\n       [ 3.5120234e-01, -8.7110478e-01, -4.4993877e-01, -8.4757942e-01,\n        -1.5305597e+00, -7.3568821e-01, -1.0380728e+00,  1.8290954e-02,\n        -1.7310485e+00,  7.3568821e-01,  1.4541606e+00, -1.5907848e+00]],\n      dtype=float32)>"
     },
     "execution_count": 18,
     "metadata": {},
     "output_type": "execute_result"
    }
   ],
   "source": [
    "normalizer(numeric_features.iloc[:3])\n"
   ],
   "metadata": {
    "collapsed": false,
    "ExecuteTime": {
     "end_time": "2023-09-17T00:40:02.107018400Z",
     "start_time": "2023-09-17T00:40:02.097019100Z"
    }
   }
  },
  {
   "cell_type": "code",
   "execution_count": 19,
   "outputs": [
    {
     "name": "stdout",
     "output_type": "stream",
     "text": [
      "<keras.src.layers.preprocessing.normalization.Normalization object at 0x000002E506648D90>\n"
     ]
    }
   ],
   "source": [
    "print(normalizer)"
   ],
   "metadata": {
    "collapsed": false,
    "ExecuteTime": {
     "end_time": "2023-09-17T00:40:03.091019800Z",
     "start_time": "2023-09-17T00:40:03.084019100Z"
    }
   }
  },
  {
   "cell_type": "code",
   "execution_count": 20,
   "outputs": [
    {
     "data": {
      "text/plain": "12"
     },
     "execution_count": 20,
     "metadata": {},
     "output_type": "execute_result"
    }
   ],
   "source": [
    "len(numeric_features.iloc[0])"
   ],
   "metadata": {
    "collapsed": false,
    "ExecuteTime": {
     "end_time": "2023-09-17T00:40:04.104019Z",
     "start_time": "2023-09-17T00:40:04.086019300Z"
    }
   }
  },
  {
   "cell_type": "code",
   "execution_count": 21,
   "outputs": [
    {
     "name": "stdout",
     "output_type": "stream",
     "text": [
      "[4, 2.0, 1.0, 0.5]\n"
     ]
    }
   ],
   "source": [
    "from math import floor\n",
    "# some complex math\n",
    "nodes = len(numeric_features)/(4 * (len(numeric_features.iloc[0]) + len(ENCODING)))\n",
    "res = 0\n",
    "for i in range(floor(nodes), 0, -1):\n",
    "    if (i & (i - 1)) == 0:\n",
    "        res = i\n",
    "        break\n",
    "\n",
    "lst = [res]\n",
    "for i in range(3):\n",
    "    res /= 2\n",
    "    lst.append(res)\n",
    "print(lst)\n"
   ],
   "metadata": {
    "collapsed": false,
    "ExecuteTime": {
     "end_time": "2023-09-17T00:40:05.468018600Z",
     "start_time": "2023-09-17T00:40:05.451018800Z"
    }
   }
  },
  {
   "cell_type": "code",
   "execution_count": 22,
   "outputs": [
    {
     "name": "stdout",
     "output_type": "stream",
     "text": [
      "0 0 0 0\n"
     ]
    }
   ],
   "source": [
    "from math import floor\n",
    "\n",
    "# some complex math\n",
    "nodes = len(numeric_features)/(2 * (len(numeric_features.iloc[0]) + len(ENCODING)))\n",
    "res = floor(nodes/15)\n",
    "\n",
    "print(res*1, res*2, res*4, res*8)\n",
    "\n",
    "\n",
    "# for i in range(nodes, 0, -1):\n",
    "#     if (i & (i - 1)) == 0:\n",
    "#         res = i\n",
    "#         break\n",
    "#\n",
    "# lst = [res]\n",
    "# for i in range(4):\n",
    "#     res /= 2\n",
    "#     lst.append(res)\n",
    "# print(lst)"
   ],
   "metadata": {
    "collapsed": false,
    "ExecuteTime": {
     "end_time": "2023-09-17T00:40:07.224022Z",
     "start_time": "2023-09-17T00:40:07.212019400Z"
    }
   }
  },
  {
   "cell_type": "code",
   "execution_count": 23,
   "outputs": [
    {
     "name": "stdout",
     "output_type": "stream",
     "text": [
      "Model: \"sequential\"\n",
      "_________________________________________________________________\n",
      " Layer (type)                Output Shape              Param #   \n",
      "=================================================================\n",
      " normalization (Normalizati  (None, 12)                25        \n",
      " on)                                                             \n",
      "                                                                 \n",
      " dense (Dense)               (None, 128)               1664      \n",
      "                                                                 \n",
      " dense_1 (Dense)             (None, 64)                8256      \n",
      "                                                                 \n",
      " dropout (Dropout)           (None, 64)                0         \n",
      "                                                                 \n",
      " dense_2 (Dense)             (None, 32)                2080      \n",
      "                                                                 \n",
      " dropout_1 (Dropout)         (None, 32)                0         \n",
      "                                                                 \n",
      " dense_3 (Dense)             (None, 10)                330       \n",
      "                                                                 \n",
      " dropout_2 (Dropout)         (None, 10)                0         \n",
      "                                                                 \n",
      " dense_4 (Dense)             (None, 0)                 0         \n",
      "                                                                 \n",
      "=================================================================\n",
      "Total params: 12355 (48.27 KB)\n",
      "Trainable params: 12330 (48.16 KB)\n",
      "Non-trainable params: 25 (104.00 Byte)\n",
      "_________________________________________________________________\n"
     ]
    }
   ],
   "source": [
    "def get_basic_model():\n",
    "    model = tf.keras.Sequential([\n",
    "        normalizer,\n",
    "        tf.keras.layers.Dense(128, activation='relu'),\n",
    "        tf.keras.layers.Dense(64, activation='relu'),\n",
    "        tf.keras.layers.Dropout(0.2),\n",
    "        tf.keras.layers.Dense(32, activation='relu'),\n",
    "        tf.keras.layers.Dropout(0.2),\n",
    "        tf.keras.layers.Dense(10, activation='relu'),\n",
    "        tf.keras.layers.Dropout(0.2),\n",
    "        tf.keras.layers.Dense(len(ENCODING), activation='sigmoid')\n",
    "        ])\n",
    "\n",
    "    model.compile(optimizer='adam',\n",
    "                    loss=\"sparse_categorical_crossentropy\", # tf.keras.losses.BinaryCrossentropy(from_logits=True)\n",
    "                    metrics=['accuracy'])\n",
    "    return model\n",
    "\n",
    "get_basic_model().summary()"
   ],
   "metadata": {
    "collapsed": false,
    "ExecuteTime": {
     "end_time": "2023-09-17T00:40:08.491020300Z",
     "start_time": "2023-09-17T00:40:08.409021100Z"
    }
   }
  },
  {
   "cell_type": "code",
   "execution_count": 24,
   "outputs": [
    {
     "name": "stdout",
     "output_type": "stream",
     "text": [
      "   age  anaemia  creatinine_phosphokinase  diabetes  ejection_fraction  \\\n",
      "0   75        0                       582         0                 20   \n",
      "1   55        0                      7861         0                 38   \n",
      "2   65        0                       146         0                 20   \n",
      "\n",
      "   high_blood_pressure  platelets  serum_creatinine  serum_sodium  sex  \\\n",
      "0                    1     265000                 1           130    1   \n",
      "1                    0     263358                 1           136    1   \n",
      "2                    0     162000                 1           129    1   \n",
      "\n",
      "   smoking  time  \n",
      "0        0     4  \n",
      "1        0     6  \n",
      "2        1     7  \n"
     ]
    }
   ],
   "source": [
    "print(numeric_features.iloc[:3])"
   ],
   "metadata": {
    "collapsed": false,
    "ExecuteTime": {
     "end_time": "2023-09-17T00:40:12.304018600Z",
     "start_time": "2023-09-17T00:40:12.293019Z"
    }
   }
  },
  {
   "cell_type": "code",
   "execution_count": 25,
   "outputs": [
    {
     "name": "stdout",
     "output_type": "stream",
     "text": [
      "Epoch 1/30\n"
     ]
    },
    {
     "ename": "InvalidArgumentError",
     "evalue": "Graph execution error:\n\nDetected at node 'ArgMax_1' defined at (most recent call last):\n    File \"C:\\Users\\Kevin Tang\\AppData\\Local\\Programs\\Python\\Python310\\lib\\runpy.py\", line 196, in _run_module_as_main\n      return _run_code(code, main_globals, None,\n    File \"C:\\Users\\Kevin Tang\\AppData\\Local\\Programs\\Python\\Python310\\lib\\runpy.py\", line 86, in _run_code\n      exec(code, run_globals)\n    File \"C:\\Users\\Kevin Tang\\Documents\\HackTheNorth2023\\backend\\venv\\lib\\site-packages\\ipykernel_launcher.py\", line 17, in <module>\n      app.launch_new_instance()\n    File \"C:\\Users\\Kevin Tang\\Documents\\HackTheNorth2023\\backend\\venv\\lib\\site-packages\\traitlets\\config\\application.py\", line 1046, in launch_instance\n      app.start()\n    File \"C:\\Users\\Kevin Tang\\Documents\\HackTheNorth2023\\backend\\venv\\lib\\site-packages\\ipykernel\\kernelapp.py\", line 736, in start\n      self.io_loop.start()\n    File \"C:\\Users\\Kevin Tang\\Documents\\HackTheNorth2023\\backend\\venv\\lib\\site-packages\\tornado\\platform\\asyncio.py\", line 195, in start\n      self.asyncio_loop.run_forever()\n    File \"C:\\Users\\Kevin Tang\\AppData\\Local\\Programs\\Python\\Python310\\lib\\asyncio\\base_events.py\", line 600, in run_forever\n      self._run_once()\n    File \"C:\\Users\\Kevin Tang\\AppData\\Local\\Programs\\Python\\Python310\\lib\\asyncio\\base_events.py\", line 1896, in _run_once\n      handle._run()\n    File \"C:\\Users\\Kevin Tang\\AppData\\Local\\Programs\\Python\\Python310\\lib\\asyncio\\events.py\", line 80, in _run\n      self._context.run(self._callback, *self._args)\n    File \"C:\\Users\\Kevin Tang\\Documents\\HackTheNorth2023\\backend\\venv\\lib\\site-packages\\ipykernel\\kernelbase.py\", line 516, in dispatch_queue\n      await self.process_one()\n    File \"C:\\Users\\Kevin Tang\\Documents\\HackTheNorth2023\\backend\\venv\\lib\\site-packages\\ipykernel\\kernelbase.py\", line 505, in process_one\n      await dispatch(*args)\n    File \"C:\\Users\\Kevin Tang\\Documents\\HackTheNorth2023\\backend\\venv\\lib\\site-packages\\ipykernel\\kernelbase.py\", line 412, in dispatch_shell\n      await result\n    File \"C:\\Users\\Kevin Tang\\Documents\\HackTheNorth2023\\backend\\venv\\lib\\site-packages\\ipykernel\\kernelbase.py\", line 740, in execute_request\n      reply_content = await reply_content\n    File \"C:\\Users\\Kevin Tang\\Documents\\HackTheNorth2023\\backend\\venv\\lib\\site-packages\\ipykernel\\ipkernel.py\", line 422, in do_execute\n      res = shell.run_cell(\n    File \"C:\\Users\\Kevin Tang\\Documents\\HackTheNorth2023\\backend\\venv\\lib\\site-packages\\ipykernel\\zmqshell.py\", line 546, in run_cell\n      return super().run_cell(*args, **kwargs)\n    File \"C:\\Users\\Kevin Tang\\Documents\\HackTheNorth2023\\backend\\venv\\lib\\site-packages\\IPython\\core\\interactiveshell.py\", line 3024, in run_cell\n      result = self._run_cell(\n    File \"C:\\Users\\Kevin Tang\\Documents\\HackTheNorth2023\\backend\\venv\\lib\\site-packages\\IPython\\core\\interactiveshell.py\", line 3079, in _run_cell\n      result = runner(coro)\n    File \"C:\\Users\\Kevin Tang\\Documents\\HackTheNorth2023\\backend\\venv\\lib\\site-packages\\IPython\\core\\async_helpers.py\", line 129, in _pseudo_sync_runner\n      coro.send(None)\n    File \"C:\\Users\\Kevin Tang\\Documents\\HackTheNorth2023\\backend\\venv\\lib\\site-packages\\IPython\\core\\interactiveshell.py\", line 3284, in run_cell_async\n      has_raised = await self.run_ast_nodes(code_ast.body, cell_name,\n    File \"C:\\Users\\Kevin Tang\\Documents\\HackTheNorth2023\\backend\\venv\\lib\\site-packages\\IPython\\core\\interactiveshell.py\", line 3466, in run_ast_nodes\n      if await self.run_code(code, result, async_=asy):\n    File \"C:\\Users\\Kevin Tang\\Documents\\HackTheNorth2023\\backend\\venv\\lib\\site-packages\\IPython\\core\\interactiveshell.py\", line 3526, in run_code\n      exec(code_obj, self.user_global_ns, self.user_ns)\n    File \"C:\\Users\\Kevin Tang\\AppData\\Local\\Temp\\ipykernel_28224\\21716421.py\", line 2, in <module>\n      history = model.fit(numeric_features.to_numpy(), target, epochs=30, batch_size=BATCH_SIZE)\n    File \"C:\\Users\\Kevin Tang\\Documents\\HackTheNorth2023\\backend\\venv\\lib\\site-packages\\keras\\src\\utils\\traceback_utils.py\", line 65, in error_handler\n      return fn(*args, **kwargs)\n    File \"C:\\Users\\Kevin Tang\\Documents\\HackTheNorth2023\\backend\\venv\\lib\\site-packages\\keras\\src\\engine\\training.py\", line 1742, in fit\n      tmp_logs = self.train_function(iterator)\n    File \"C:\\Users\\Kevin Tang\\Documents\\HackTheNorth2023\\backend\\venv\\lib\\site-packages\\keras\\src\\engine\\training.py\", line 1338, in train_function\n      return step_function(self, iterator)\n    File \"C:\\Users\\Kevin Tang\\Documents\\HackTheNorth2023\\backend\\venv\\lib\\site-packages\\keras\\src\\engine\\training.py\", line 1322, in step_function\n      outputs = model.distribute_strategy.run(run_step, args=(data,))\n    File \"C:\\Users\\Kevin Tang\\Documents\\HackTheNorth2023\\backend\\venv\\lib\\site-packages\\keras\\src\\engine\\training.py\", line 1303, in run_step\n      outputs = model.train_step(data)\n    File \"C:\\Users\\Kevin Tang\\Documents\\HackTheNorth2023\\backend\\venv\\lib\\site-packages\\keras\\src\\engine\\training.py\", line 1085, in train_step\n      return self.compute_metrics(x, y, y_pred, sample_weight)\n    File \"C:\\Users\\Kevin Tang\\Documents\\HackTheNorth2023\\backend\\venv\\lib\\site-packages\\keras\\src\\engine\\training.py\", line 1179, in compute_metrics\n      self.compiled_metrics.update_state(y, y_pred, sample_weight)\n    File \"C:\\Users\\Kevin Tang\\Documents\\HackTheNorth2023\\backend\\venv\\lib\\site-packages\\keras\\src\\engine\\compile_utils.py\", line 605, in update_state\n      metric_obj.update_state(y_t, y_p, sample_weight=mask)\n    File \"C:\\Users\\Kevin Tang\\Documents\\HackTheNorth2023\\backend\\venv\\lib\\site-packages\\keras\\src\\utils\\metrics_utils.py\", line 77, in decorated\n      update_op = update_state_fn(*args, **kwargs)\n    File \"C:\\Users\\Kevin Tang\\Documents\\HackTheNorth2023\\backend\\venv\\lib\\site-packages\\keras\\src\\metrics\\base_metric.py\", line 140, in update_state_fn\n      return ag_update_state(*args, **kwargs)\n    File \"C:\\Users\\Kevin Tang\\Documents\\HackTheNorth2023\\backend\\venv\\lib\\site-packages\\keras\\src\\metrics\\base_metric.py\", line 723, in update_state\n      matches = ag_fn(y_true, y_pred, **self._fn_kwargs)\n    File \"C:\\Users\\Kevin Tang\\Documents\\HackTheNorth2023\\backend\\venv\\lib\\site-packages\\keras\\src\\metrics\\accuracy_metrics.py\", line 426, in categorical_accuracy\n      return metrics_utils.sparse_categorical_matches(\n    File \"C:\\Users\\Kevin Tang\\Documents\\HackTheNorth2023\\backend\\venv\\lib\\site-packages\\keras\\src\\utils\\metrics_utils.py\", line 962, in sparse_categorical_matches\n      y_pred = tf.math.argmax(y_pred, axis=-1)\nNode: 'ArgMax_1'\nReduction axis -1 is empty in shape [299,0]\n\t [[{{node ArgMax_1}}]] [Op:__inference_train_function_2028]",
     "output_type": "error",
     "traceback": [
      "\u001B[1;31m---------------------------------------------------------------------------\u001B[0m",
      "\u001B[1;31mInvalidArgumentError\u001B[0m                      Traceback (most recent call last)",
      "Cell \u001B[1;32mIn[25], line 2\u001B[0m\n\u001B[0;32m      1\u001B[0m model \u001B[38;5;241m=\u001B[39m get_basic_model()\n\u001B[1;32m----> 2\u001B[0m history \u001B[38;5;241m=\u001B[39m \u001B[43mmodel\u001B[49m\u001B[38;5;241;43m.\u001B[39;49m\u001B[43mfit\u001B[49m\u001B[43m(\u001B[49m\u001B[43mnumeric_features\u001B[49m\u001B[38;5;241;43m.\u001B[39;49m\u001B[43mto_numpy\u001B[49m\u001B[43m(\u001B[49m\u001B[43m)\u001B[49m\u001B[43m,\u001B[49m\u001B[43m \u001B[49m\u001B[43mtarget\u001B[49m\u001B[43m,\u001B[49m\u001B[43m \u001B[49m\u001B[43mepochs\u001B[49m\u001B[38;5;241;43m=\u001B[39;49m\u001B[38;5;241;43m30\u001B[39;49m\u001B[43m,\u001B[49m\u001B[43m \u001B[49m\u001B[43mbatch_size\u001B[49m\u001B[38;5;241;43m=\u001B[39;49m\u001B[43mBATCH_SIZE\u001B[49m\u001B[43m)\u001B[49m\n",
      "File \u001B[1;32m~\\Documents\\HackTheNorth2023\\backend\\venv\\lib\\site-packages\\keras\\src\\utils\\traceback_utils.py:70\u001B[0m, in \u001B[0;36mfilter_traceback.<locals>.error_handler\u001B[1;34m(*args, **kwargs)\u001B[0m\n\u001B[0;32m     67\u001B[0m     filtered_tb \u001B[38;5;241m=\u001B[39m _process_traceback_frames(e\u001B[38;5;241m.\u001B[39m__traceback__)\n\u001B[0;32m     68\u001B[0m     \u001B[38;5;66;03m# To get the full stack trace, call:\u001B[39;00m\n\u001B[0;32m     69\u001B[0m     \u001B[38;5;66;03m# `tf.debugging.disable_traceback_filtering()`\u001B[39;00m\n\u001B[1;32m---> 70\u001B[0m     \u001B[38;5;28;01mraise\u001B[39;00m e\u001B[38;5;241m.\u001B[39mwith_traceback(filtered_tb) \u001B[38;5;28;01mfrom\u001B[39;00m \u001B[38;5;28;01mNone\u001B[39;00m\n\u001B[0;32m     71\u001B[0m \u001B[38;5;28;01mfinally\u001B[39;00m:\n\u001B[0;32m     72\u001B[0m     \u001B[38;5;28;01mdel\u001B[39;00m filtered_tb\n",
      "File \u001B[1;32m~\\Documents\\HackTheNorth2023\\backend\\venv\\lib\\site-packages\\tensorflow\\python\\eager\\execute.py:53\u001B[0m, in \u001B[0;36mquick_execute\u001B[1;34m(op_name, num_outputs, inputs, attrs, ctx, name)\u001B[0m\n\u001B[0;32m     51\u001B[0m \u001B[38;5;28;01mtry\u001B[39;00m:\n\u001B[0;32m     52\u001B[0m   ctx\u001B[38;5;241m.\u001B[39mensure_initialized()\n\u001B[1;32m---> 53\u001B[0m   tensors \u001B[38;5;241m=\u001B[39m pywrap_tfe\u001B[38;5;241m.\u001B[39mTFE_Py_Execute(ctx\u001B[38;5;241m.\u001B[39m_handle, device_name, op_name,\n\u001B[0;32m     54\u001B[0m                                       inputs, attrs, num_outputs)\n\u001B[0;32m     55\u001B[0m \u001B[38;5;28;01mexcept\u001B[39;00m core\u001B[38;5;241m.\u001B[39m_NotOkStatusException \u001B[38;5;28;01mas\u001B[39;00m e:\n\u001B[0;32m     56\u001B[0m   \u001B[38;5;28;01mif\u001B[39;00m name \u001B[38;5;129;01mis\u001B[39;00m \u001B[38;5;129;01mnot\u001B[39;00m \u001B[38;5;28;01mNone\u001B[39;00m:\n",
      "\u001B[1;31mInvalidArgumentError\u001B[0m: Graph execution error:\n\nDetected at node 'ArgMax_1' defined at (most recent call last):\n    File \"C:\\Users\\Kevin Tang\\AppData\\Local\\Programs\\Python\\Python310\\lib\\runpy.py\", line 196, in _run_module_as_main\n      return _run_code(code, main_globals, None,\n    File \"C:\\Users\\Kevin Tang\\AppData\\Local\\Programs\\Python\\Python310\\lib\\runpy.py\", line 86, in _run_code\n      exec(code, run_globals)\n    File \"C:\\Users\\Kevin Tang\\Documents\\HackTheNorth2023\\backend\\venv\\lib\\site-packages\\ipykernel_launcher.py\", line 17, in <module>\n      app.launch_new_instance()\n    File \"C:\\Users\\Kevin Tang\\Documents\\HackTheNorth2023\\backend\\venv\\lib\\site-packages\\traitlets\\config\\application.py\", line 1046, in launch_instance\n      app.start()\n    File \"C:\\Users\\Kevin Tang\\Documents\\HackTheNorth2023\\backend\\venv\\lib\\site-packages\\ipykernel\\kernelapp.py\", line 736, in start\n      self.io_loop.start()\n    File \"C:\\Users\\Kevin Tang\\Documents\\HackTheNorth2023\\backend\\venv\\lib\\site-packages\\tornado\\platform\\asyncio.py\", line 195, in start\n      self.asyncio_loop.run_forever()\n    File \"C:\\Users\\Kevin Tang\\AppData\\Local\\Programs\\Python\\Python310\\lib\\asyncio\\base_events.py\", line 600, in run_forever\n      self._run_once()\n    File \"C:\\Users\\Kevin Tang\\AppData\\Local\\Programs\\Python\\Python310\\lib\\asyncio\\base_events.py\", line 1896, in _run_once\n      handle._run()\n    File \"C:\\Users\\Kevin Tang\\AppData\\Local\\Programs\\Python\\Python310\\lib\\asyncio\\events.py\", line 80, in _run\n      self._context.run(self._callback, *self._args)\n    File \"C:\\Users\\Kevin Tang\\Documents\\HackTheNorth2023\\backend\\venv\\lib\\site-packages\\ipykernel\\kernelbase.py\", line 516, in dispatch_queue\n      await self.process_one()\n    File \"C:\\Users\\Kevin Tang\\Documents\\HackTheNorth2023\\backend\\venv\\lib\\site-packages\\ipykernel\\kernelbase.py\", line 505, in process_one\n      await dispatch(*args)\n    File \"C:\\Users\\Kevin Tang\\Documents\\HackTheNorth2023\\backend\\venv\\lib\\site-packages\\ipykernel\\kernelbase.py\", line 412, in dispatch_shell\n      await result\n    File \"C:\\Users\\Kevin Tang\\Documents\\HackTheNorth2023\\backend\\venv\\lib\\site-packages\\ipykernel\\kernelbase.py\", line 740, in execute_request\n      reply_content = await reply_content\n    File \"C:\\Users\\Kevin Tang\\Documents\\HackTheNorth2023\\backend\\venv\\lib\\site-packages\\ipykernel\\ipkernel.py\", line 422, in do_execute\n      res = shell.run_cell(\n    File \"C:\\Users\\Kevin Tang\\Documents\\HackTheNorth2023\\backend\\venv\\lib\\site-packages\\ipykernel\\zmqshell.py\", line 546, in run_cell\n      return super().run_cell(*args, **kwargs)\n    File \"C:\\Users\\Kevin Tang\\Documents\\HackTheNorth2023\\backend\\venv\\lib\\site-packages\\IPython\\core\\interactiveshell.py\", line 3024, in run_cell\n      result = self._run_cell(\n    File \"C:\\Users\\Kevin Tang\\Documents\\HackTheNorth2023\\backend\\venv\\lib\\site-packages\\IPython\\core\\interactiveshell.py\", line 3079, in _run_cell\n      result = runner(coro)\n    File \"C:\\Users\\Kevin Tang\\Documents\\HackTheNorth2023\\backend\\venv\\lib\\site-packages\\IPython\\core\\async_helpers.py\", line 129, in _pseudo_sync_runner\n      coro.send(None)\n    File \"C:\\Users\\Kevin Tang\\Documents\\HackTheNorth2023\\backend\\venv\\lib\\site-packages\\IPython\\core\\interactiveshell.py\", line 3284, in run_cell_async\n      has_raised = await self.run_ast_nodes(code_ast.body, cell_name,\n    File \"C:\\Users\\Kevin Tang\\Documents\\HackTheNorth2023\\backend\\venv\\lib\\site-packages\\IPython\\core\\interactiveshell.py\", line 3466, in run_ast_nodes\n      if await self.run_code(code, result, async_=asy):\n    File \"C:\\Users\\Kevin Tang\\Documents\\HackTheNorth2023\\backend\\venv\\lib\\site-packages\\IPython\\core\\interactiveshell.py\", line 3526, in run_code\n      exec(code_obj, self.user_global_ns, self.user_ns)\n    File \"C:\\Users\\Kevin Tang\\AppData\\Local\\Temp\\ipykernel_28224\\21716421.py\", line 2, in <module>\n      history = model.fit(numeric_features.to_numpy(), target, epochs=30, batch_size=BATCH_SIZE)\n    File \"C:\\Users\\Kevin Tang\\Documents\\HackTheNorth2023\\backend\\venv\\lib\\site-packages\\keras\\src\\utils\\traceback_utils.py\", line 65, in error_handler\n      return fn(*args, **kwargs)\n    File \"C:\\Users\\Kevin Tang\\Documents\\HackTheNorth2023\\backend\\venv\\lib\\site-packages\\keras\\src\\engine\\training.py\", line 1742, in fit\n      tmp_logs = self.train_function(iterator)\n    File \"C:\\Users\\Kevin Tang\\Documents\\HackTheNorth2023\\backend\\venv\\lib\\site-packages\\keras\\src\\engine\\training.py\", line 1338, in train_function\n      return step_function(self, iterator)\n    File \"C:\\Users\\Kevin Tang\\Documents\\HackTheNorth2023\\backend\\venv\\lib\\site-packages\\keras\\src\\engine\\training.py\", line 1322, in step_function\n      outputs = model.distribute_strategy.run(run_step, args=(data,))\n    File \"C:\\Users\\Kevin Tang\\Documents\\HackTheNorth2023\\backend\\venv\\lib\\site-packages\\keras\\src\\engine\\training.py\", line 1303, in run_step\n      outputs = model.train_step(data)\n    File \"C:\\Users\\Kevin Tang\\Documents\\HackTheNorth2023\\backend\\venv\\lib\\site-packages\\keras\\src\\engine\\training.py\", line 1085, in train_step\n      return self.compute_metrics(x, y, y_pred, sample_weight)\n    File \"C:\\Users\\Kevin Tang\\Documents\\HackTheNorth2023\\backend\\venv\\lib\\site-packages\\keras\\src\\engine\\training.py\", line 1179, in compute_metrics\n      self.compiled_metrics.update_state(y, y_pred, sample_weight)\n    File \"C:\\Users\\Kevin Tang\\Documents\\HackTheNorth2023\\backend\\venv\\lib\\site-packages\\keras\\src\\engine\\compile_utils.py\", line 605, in update_state\n      metric_obj.update_state(y_t, y_p, sample_weight=mask)\n    File \"C:\\Users\\Kevin Tang\\Documents\\HackTheNorth2023\\backend\\venv\\lib\\site-packages\\keras\\src\\utils\\metrics_utils.py\", line 77, in decorated\n      update_op = update_state_fn(*args, **kwargs)\n    File \"C:\\Users\\Kevin Tang\\Documents\\HackTheNorth2023\\backend\\venv\\lib\\site-packages\\keras\\src\\metrics\\base_metric.py\", line 140, in update_state_fn\n      return ag_update_state(*args, **kwargs)\n    File \"C:\\Users\\Kevin Tang\\Documents\\HackTheNorth2023\\backend\\venv\\lib\\site-packages\\keras\\src\\metrics\\base_metric.py\", line 723, in update_state\n      matches = ag_fn(y_true, y_pred, **self._fn_kwargs)\n    File \"C:\\Users\\Kevin Tang\\Documents\\HackTheNorth2023\\backend\\venv\\lib\\site-packages\\keras\\src\\metrics\\accuracy_metrics.py\", line 426, in categorical_accuracy\n      return metrics_utils.sparse_categorical_matches(\n    File \"C:\\Users\\Kevin Tang\\Documents\\HackTheNorth2023\\backend\\venv\\lib\\site-packages\\keras\\src\\utils\\metrics_utils.py\", line 962, in sparse_categorical_matches\n      y_pred = tf.math.argmax(y_pred, axis=-1)\nNode: 'ArgMax_1'\nReduction axis -1 is empty in shape [299,0]\n\t [[{{node ArgMax_1}}]] [Op:__inference_train_function_2028]"
     ]
    }
   ],
   "source": [
    "model = get_basic_model()\n",
    "history = model.fit(numeric_features.to_numpy(), target, epochs=30, batch_size=BATCH_SIZE)\n"
   ],
   "metadata": {
    "collapsed": false,
    "ExecuteTime": {
     "end_time": "2023-09-17T00:40:14.829019200Z",
     "start_time": "2023-09-17T00:40:13.885020500Z"
    }
   }
  },
  {
   "cell_type": "code",
   "execution_count": 45,
   "outputs": [
    {
     "name": "stdout",
     "output_type": "stream",
     "text": [
      "(<tf.Tensor: shape=(17,), dtype=int32, numpy=\n",
      "array([  10, 2018,    3,   31,    0,    1,    0,    0,    0,    1,    0,\n",
      "          2,    0,    0,    0,   95,    0])>, <tf.Tensor: shape=(), dtype=int32, numpy=0>)\n",
      "(<tf.Tensor: shape=(17,), dtype=int32, numpy=\n",
      "array([ 116, 2018,    2,   28,    2,    1,    0,    0,    0,    1,    0,\n",
      "          4,    0,    0,    0,   61,    0])>, <tf.Tensor: shape=(), dtype=int32, numpy=0>)\n",
      "(<tf.Tensor: shape=(17,), dtype=int32, numpy=\n",
      "array([  11, 2018,    7,   25,    1,    2,    0,    0,    0,    2,    1,\n",
      "          4,    0,    0,    0,  129,    1])>, <tf.Tensor: shape=(), dtype=int32, numpy=1>)\n"
     ]
    }
   ],
   "source": [
    "numeric_dataset = tf.data.Dataset.from_tensor_slices((numeric_features, target))\n",
    "\n",
    "for row in numeric_dataset.take(3):\n",
    "  print(row)\n"
   ],
   "metadata": {
    "collapsed": false,
    "ExecuteTime": {
     "end_time": "2023-09-16T12:39:11.626944600Z",
     "start_time": "2023-09-16T12:39:11.593943100Z"
    }
   }
  },
  {
   "cell_type": "code",
   "execution_count": 46,
   "outputs": [
    {
     "name": "stdout",
     "output_type": "stream",
     "text": [
      "Epoch 1/90\n",
      "29/29 [==============================] - 1s 3ms/step - loss: 0.5702 - accuracy: 0.6997\n",
      "Epoch 2/90\n",
      "29/29 [==============================] - 0s 3ms/step - loss: 0.4738 - accuracy: 0.7826\n",
      "Epoch 3/90\n",
      "29/29 [==============================] - 0s 3ms/step - loss: 0.4436 - accuracy: 0.8005\n",
      "Epoch 4/90\n",
      "29/29 [==============================] - 0s 3ms/step - loss: 0.4265 - accuracy: 0.8103\n",
      "Epoch 5/90\n",
      "29/29 [==============================] - 0s 2ms/step - loss: 0.4111 - accuracy: 0.8187\n",
      "Epoch 6/90\n",
      "29/29 [==============================] - 0s 2ms/step - loss: 0.4040 - accuracy: 0.8251\n",
      "Epoch 7/90\n",
      "29/29 [==============================] - 0s 3ms/step - loss: 0.3958 - accuracy: 0.8281\n",
      "Epoch 8/90\n",
      "29/29 [==============================] - 0s 2ms/step - loss: 0.3841 - accuracy: 0.8326\n",
      "Epoch 9/90\n",
      "29/29 [==============================] - 0s 3ms/step - loss: 0.3770 - accuracy: 0.8369\n",
      "Epoch 10/90\n",
      "29/29 [==============================] - 0s 3ms/step - loss: 0.3723 - accuracy: 0.8387\n",
      "Epoch 11/90\n",
      "29/29 [==============================] - 0s 3ms/step - loss: 0.3678 - accuracy: 0.8407\n",
      "Epoch 12/90\n",
      "29/29 [==============================] - 0s 3ms/step - loss: 0.3613 - accuracy: 0.8431\n",
      "Epoch 13/90\n",
      "29/29 [==============================] - 0s 3ms/step - loss: 0.3557 - accuracy: 0.8458\n",
      "Epoch 14/90\n",
      "29/29 [==============================] - 0s 3ms/step - loss: 0.3515 - accuracy: 0.8478\n",
      "Epoch 15/90\n",
      "29/29 [==============================] - 0s 3ms/step - loss: 0.3464 - accuracy: 0.8502\n",
      "Epoch 16/90\n",
      "29/29 [==============================] - 0s 3ms/step - loss: 0.3427 - accuracy: 0.8518\n",
      "Epoch 17/90\n",
      "29/29 [==============================] - 0s 3ms/step - loss: 0.3414 - accuracy: 0.8543\n",
      "Epoch 18/90\n",
      "29/29 [==============================] - 0s 3ms/step - loss: 0.3376 - accuracy: 0.8549\n",
      "Epoch 19/90\n",
      "29/29 [==============================] - 0s 3ms/step - loss: 0.3356 - accuracy: 0.8575\n",
      "Epoch 20/90\n",
      "29/29 [==============================] - 0s 3ms/step - loss: 0.3324 - accuracy: 0.8582\n",
      "Epoch 21/90\n",
      "29/29 [==============================] - 0s 3ms/step - loss: 0.3298 - accuracy: 0.8596\n",
      "Epoch 22/90\n",
      "29/29 [==============================] - 0s 3ms/step - loss: 0.3254 - accuracy: 0.8597\n",
      "Epoch 23/90\n",
      "29/29 [==============================] - 0s 2ms/step - loss: 0.3221 - accuracy: 0.8632\n",
      "Epoch 24/90\n",
      "29/29 [==============================] - 0s 3ms/step - loss: 0.3208 - accuracy: 0.8634\n",
      "Epoch 25/90\n",
      "29/29 [==============================] - 0s 2ms/step - loss: 0.3165 - accuracy: 0.8640\n",
      "Epoch 26/90\n",
      "29/29 [==============================] - 0s 3ms/step - loss: 0.3180 - accuracy: 0.8652\n",
      "Epoch 27/90\n",
      "29/29 [==============================] - 0s 3ms/step - loss: 0.3157 - accuracy: 0.8653\n",
      "Epoch 28/90\n",
      "29/29 [==============================] - 0s 3ms/step - loss: 0.3111 - accuracy: 0.8663\n",
      "Epoch 29/90\n",
      "29/29 [==============================] - 0s 3ms/step - loss: 0.3080 - accuracy: 0.8681\n",
      "Epoch 30/90\n",
      "29/29 [==============================] - 0s 3ms/step - loss: 0.3090 - accuracy: 0.8676\n",
      "Epoch 31/90\n",
      "29/29 [==============================] - 0s 3ms/step - loss: 0.3062 - accuracy: 0.8698\n",
      "Epoch 32/90\n",
      "29/29 [==============================] - 0s 3ms/step - loss: 0.3065 - accuracy: 0.8678\n",
      "Epoch 33/90\n",
      "29/29 [==============================] - 0s 2ms/step - loss: 0.3023 - accuracy: 0.8701\n",
      "Epoch 34/90\n",
      "29/29 [==============================] - 0s 2ms/step - loss: 0.3020 - accuracy: 0.8708\n",
      "Epoch 35/90\n",
      "29/29 [==============================] - 0s 2ms/step - loss: 0.2990 - accuracy: 0.8710\n",
      "Epoch 36/90\n",
      "29/29 [==============================] - 0s 2ms/step - loss: 0.2965 - accuracy: 0.8744\n",
      "Epoch 37/90\n",
      "29/29 [==============================] - 0s 3ms/step - loss: 0.2959 - accuracy: 0.8754\n",
      "Epoch 38/90\n",
      "29/29 [==============================] - 0s 3ms/step - loss: 0.2918 - accuracy: 0.8752\n",
      "Epoch 39/90\n",
      "29/29 [==============================] - 0s 2ms/step - loss: 0.2917 - accuracy: 0.8769\n",
      "Epoch 40/90\n",
      "29/29 [==============================] - 0s 3ms/step - loss: 0.2903 - accuracy: 0.8777\n",
      "Epoch 41/90\n",
      "29/29 [==============================] - 0s 3ms/step - loss: 0.2897 - accuracy: 0.8760\n",
      "Epoch 42/90\n",
      "29/29 [==============================] - 0s 3ms/step - loss: 0.2892 - accuracy: 0.8776\n",
      "Epoch 43/90\n",
      "29/29 [==============================] - 0s 3ms/step - loss: 0.2869 - accuracy: 0.8785\n",
      "Epoch 44/90\n",
      "29/29 [==============================] - 0s 3ms/step - loss: 0.2847 - accuracy: 0.8786\n",
      "Epoch 45/90\n",
      "29/29 [==============================] - 0s 2ms/step - loss: 0.2837 - accuracy: 0.8814\n",
      "Epoch 46/90\n",
      "29/29 [==============================] - 0s 3ms/step - loss: 0.2844 - accuracy: 0.8793\n",
      "Epoch 47/90\n",
      "29/29 [==============================] - 0s 3ms/step - loss: 0.2782 - accuracy: 0.8834\n",
      "Epoch 48/90\n",
      "29/29 [==============================] - 0s 3ms/step - loss: 0.2801 - accuracy: 0.8815\n",
      "Epoch 49/90\n",
      "29/29 [==============================] - 0s 3ms/step - loss: 0.2770 - accuracy: 0.8832\n",
      "Epoch 50/90\n",
      "29/29 [==============================] - 0s 3ms/step - loss: 0.2767 - accuracy: 0.8831\n",
      "Epoch 51/90\n",
      "29/29 [==============================] - 0s 3ms/step - loss: 0.2744 - accuracy: 0.8834\n",
      "Epoch 52/90\n",
      "29/29 [==============================] - 0s 3ms/step - loss: 0.2735 - accuracy: 0.8849\n",
      "Epoch 53/90\n",
      "29/29 [==============================] - 0s 3ms/step - loss: 0.2716 - accuracy: 0.8846\n",
      "Epoch 54/90\n",
      "29/29 [==============================] - 0s 3ms/step - loss: 0.2739 - accuracy: 0.8840\n",
      "Epoch 55/90\n",
      "29/29 [==============================] - 0s 3ms/step - loss: 0.2733 - accuracy: 0.8839\n",
      "Epoch 56/90\n",
      "29/29 [==============================] - 0s 3ms/step - loss: 0.2707 - accuracy: 0.8854\n",
      "Epoch 57/90\n",
      "29/29 [==============================] - 0s 3ms/step - loss: 0.2689 - accuracy: 0.8861\n",
      "Epoch 58/90\n",
      "29/29 [==============================] - 0s 3ms/step - loss: 0.2682 - accuracy: 0.8853\n",
      "Epoch 59/90\n",
      "29/29 [==============================] - 0s 3ms/step - loss: 0.2650 - accuracy: 0.8886\n",
      "Epoch 60/90\n",
      "29/29 [==============================] - 0s 3ms/step - loss: 0.2658 - accuracy: 0.8877\n",
      "Epoch 61/90\n",
      "29/29 [==============================] - 0s 3ms/step - loss: 0.2658 - accuracy: 0.8875\n",
      "Epoch 62/90\n",
      "29/29 [==============================] - 0s 2ms/step - loss: 0.2673 - accuracy: 0.8873\n",
      "Epoch 63/90\n",
      "29/29 [==============================] - 0s 2ms/step - loss: 0.2642 - accuracy: 0.8896\n",
      "Epoch 64/90\n",
      "29/29 [==============================] - 0s 3ms/step - loss: 0.2630 - accuracy: 0.8903\n",
      "Epoch 65/90\n",
      "29/29 [==============================] - 0s 3ms/step - loss: 0.2636 - accuracy: 0.8889\n",
      "Epoch 66/90\n",
      "29/29 [==============================] - 0s 3ms/step - loss: 0.2614 - accuracy: 0.8902\n",
      "Epoch 67/90\n",
      "29/29 [==============================] - 0s 3ms/step - loss: 0.2613 - accuracy: 0.8899\n",
      "Epoch 68/90\n",
      "29/29 [==============================] - 0s 2ms/step - loss: 0.2611 - accuracy: 0.8897\n",
      "Epoch 69/90\n",
      "29/29 [==============================] - 0s 2ms/step - loss: 0.2586 - accuracy: 0.8890\n",
      "Epoch 70/90\n",
      "29/29 [==============================] - 0s 3ms/step - loss: 0.2579 - accuracy: 0.8911\n",
      "Epoch 71/90\n",
      "29/29 [==============================] - 0s 3ms/step - loss: 0.2598 - accuracy: 0.8893\n",
      "Epoch 72/90\n",
      "29/29 [==============================] - 0s 3ms/step - loss: 0.2574 - accuracy: 0.8907\n",
      "Epoch 73/90\n",
      "29/29 [==============================] - 0s 3ms/step - loss: 0.2549 - accuracy: 0.8896\n",
      "Epoch 74/90\n",
      "29/29 [==============================] - 0s 3ms/step - loss: 0.2534 - accuracy: 0.8927\n",
      "Epoch 75/90\n",
      "29/29 [==============================] - 0s 2ms/step - loss: 0.2549 - accuracy: 0.8915\n",
      "Epoch 76/90\n",
      "29/29 [==============================] - 0s 3ms/step - loss: 0.2527 - accuracy: 0.8933\n",
      "Epoch 77/90\n",
      "29/29 [==============================] - 0s 2ms/step - loss: 0.2549 - accuracy: 0.8928\n",
      "Epoch 78/90\n",
      "29/29 [==============================] - 0s 2ms/step - loss: 0.2525 - accuracy: 0.8938\n",
      "Epoch 79/90\n",
      "29/29 [==============================] - 0s 2ms/step - loss: 0.2507 - accuracy: 0.8932\n",
      "Epoch 80/90\n",
      "29/29 [==============================] - 0s 3ms/step - loss: 0.2503 - accuracy: 0.8927\n",
      "Epoch 81/90\n",
      "29/29 [==============================] - 0s 3ms/step - loss: 0.2530 - accuracy: 0.8912\n",
      "Epoch 82/90\n",
      "29/29 [==============================] - 0s 3ms/step - loss: 0.2500 - accuracy: 0.8936\n",
      "Epoch 83/90\n",
      "29/29 [==============================] - 0s 3ms/step - loss: 0.2474 - accuracy: 0.8941\n",
      "Epoch 84/90\n",
      "29/29 [==============================] - 0s 3ms/step - loss: 0.2516 - accuracy: 0.8938\n",
      "Epoch 85/90\n",
      "29/29 [==============================] - 0s 2ms/step - loss: 0.2460 - accuracy: 0.8949\n",
      "Epoch 86/90\n",
      "29/29 [==============================] - 0s 3ms/step - loss: 0.2457 - accuracy: 0.8961\n",
      "Epoch 87/90\n",
      "29/29 [==============================] - 0s 3ms/step - loss: 0.2486 - accuracy: 0.8936\n",
      "Epoch 88/90\n",
      "29/29 [==============================] - 0s 3ms/step - loss: 0.2441 - accuracy: 0.8958\n",
      "Epoch 89/90\n",
      "29/29 [==============================] - 0s 2ms/step - loss: 0.2463 - accuracy: 0.8955\n",
      "Epoch 90/90\n",
      "29/29 [==============================] - 0s 2ms/step - loss: 0.2471 - accuracy: 0.8949\n"
     ]
    }
   ],
   "source": [
    "numeric_batches = numeric_dataset.shuffle(1000).batch(BATCH_SIZE)\n",
    "\n",
    "model = get_basic_model()\n",
    "history = model.fit(numeric_batches, epochs=90)"
   ],
   "metadata": {
    "collapsed": false,
    "ExecuteTime": {
     "end_time": "2023-09-16T12:39:20.866943400Z",
     "start_time": "2023-09-16T12:39:12.649944600Z"
    }
   }
  },
  {
   "cell_type": "code",
   "execution_count": 243,
   "outputs": [
    {
     "ename": "NameError",
     "evalue": "name 'plt' is not defined",
     "output_type": "error",
     "traceback": [
      "\u001B[1;31m---------------------------------------------------------------------------\u001B[0m",
      "\u001B[1;31mNameError\u001B[0m                                 Traceback (most recent call last)",
      "Cell \u001B[1;32mIn[243], line 1\u001B[0m\n\u001B[1;32m----> 1\u001B[0m \u001B[43mplt\u001B[49m\u001B[38;5;241m.\u001B[39mplot(history\u001B[38;5;241m.\u001B[39mhistory[\u001B[38;5;124m'\u001B[39m\u001B[38;5;124maccuracy\u001B[39m\u001B[38;5;124m'\u001B[39m], label\u001B[38;5;241m=\u001B[39m\u001B[38;5;124m'\u001B[39m\u001B[38;5;124maccuracy\u001B[39m\u001B[38;5;124m'\u001B[39m)\n\u001B[0;32m      2\u001B[0m \u001B[38;5;66;03m# plt.plot(history.history['val_accuracy'], label = 'val_accuracy')\u001B[39;00m\n\u001B[0;32m      3\u001B[0m plt\u001B[38;5;241m.\u001B[39mxlabel(\u001B[38;5;124m'\u001B[39m\u001B[38;5;124mEpoch\u001B[39m\u001B[38;5;124m'\u001B[39m)\n",
      "\u001B[1;31mNameError\u001B[0m: name 'plt' is not defined"
     ]
    }
   ],
   "source": [
    "plt.plot(history.history['accuracy'], label='accuracy')\n",
    "# plt.plot(history.history['val_accuracy'], label = 'val_accuracy')\n",
    "plt.xlabel('Epoch')\n",
    "plt.ylabel('Accuracy')\n",
    "plt.ylim([0, 1])\n",
    "plt.legend(loc='lower right')\n",
    "\n",
    "# 💀💀💀💀💀💀💀💀💀"
   ],
   "metadata": {
    "collapsed": false,
    "ExecuteTime": {
     "end_time": "2023-09-16T07:57:00.347082100Z",
     "start_time": "2023-09-16T07:57:00.291083200Z"
    }
   }
  },
  {
   "cell_type": "code",
   "execution_count": 47,
   "outputs": [
    {
     "name": "stdout",
     "output_type": "stream",
     "text": [
      "<class 'pandas.core.frame.DataFrame'>\n",
      "       LeadTime  ArrivalYear  ArrivalMonth  ArrivalDate  NumWeekendNights  \\\n",
      "0            10         2018             3           31                 0   \n",
      "1           116         2018             2           28                 2   \n",
      "2            11         2018             7           25                 1   \n",
      "3             3         2017             9           12                 0   \n",
      "4            28         2018             3            7                 1   \n",
      "...         ...          ...           ...          ...               ...   \n",
      "29015         2         2018            11           21                 1   \n",
      "29016        18         2018             4           12                 0   \n",
      "29017         8         2017             9           29                 0   \n",
      "29018        20         2018             9           18                 2   \n",
      "29019       274         2018             7           31                 2   \n",
      "\n",
      "       NumWeekNights  MealPlan  Parking  RoomType  NumAdults  NumChildren  \\\n",
      "0                  1         0        0         0          1            0   \n",
      "1                  1         0        0         0          1            0   \n",
      "2                  2         0        0         0          2            1   \n",
      "3                  1         0        0         0          2            0   \n",
      "4                  3         0        0         0          2            0   \n",
      "...              ...       ...      ...       ...        ...          ...   \n",
      "29015              2         0        0         0          1            0   \n",
      "29016              2         3        0         0          2            0   \n",
      "29017              3         0        0         0          1            0   \n",
      "29018              2         0        0         0          1            0   \n",
      "29019              1         0        0         1          2            0   \n",
      "\n",
      "       MarketSegment  RepeatedGuest  NumPrevCancellations  \\\n",
      "0                  2              0                     0   \n",
      "1                  4              0                     0   \n",
      "2                  4              0                     0   \n",
      "3                  4              0                     0   \n",
      "4                  3              0                     0   \n",
      "...              ...            ...                   ...   \n",
      "29015              4              0                     0   \n",
      "29016              4              0                     0   \n",
      "29017              2              0                     0   \n",
      "29018              3              0                     0   \n",
      "29019              4              0                     0   \n",
      "\n",
      "       NumPreviousNonCancelled  AvgRoomPrice  SpecialRequests  \n",
      "0                            0            95                0  \n",
      "1                            0            61                0  \n",
      "2                            0           129                1  \n",
      "3                            0           152                3  \n",
      "4                            0            87                0  \n",
      "...                        ...           ...              ...  \n",
      "29015                        0           100                1  \n",
      "29016                        0           119                1  \n",
      "29017                        0            65                0  \n",
      "29018                        0            90                0  \n",
      "29019                        0            96                1  \n",
      "\n",
      "[29020 rows x 17 columns]\n",
      "1/1 [==============================] - 0s 65ms/step\n",
      "asdf\n",
      "[0.39277416 0.7548501 ]: Canceled\n",
      "Predicted: not_canceled\n",
      "[0.6867731  0.26358438]: Canceled\n",
      "Predicted: cancled\n",
      "[0.34898084 0.82999235]: Not_Canceled\n",
      "Predicted: not_canceled\n",
      "[7.94646e-04 1.00000e+00]: Not_Canceled\n",
      "Predicted: not_canceled\n",
      "[0.15628146 0.98875374]: Not_Canceled\n",
      "Predicted: not_canceled\n",
      "[9.9995601e-01 1.6352764e-06]: Canceled\n",
      "Predicted: cancled\n",
      "[0.42184302 0.6676913 ]: Not_Canceled\n",
      "Predicted: not_canceled\n",
      "[0.08235473 0.9984864 ]: Not_Canceled\n",
      "Predicted: not_canceled\n",
      "[0.983537   0.00467323]: Canceled\n",
      "Predicted: cancled\n",
      "[0.32572675 0.84828115]: Not_Canceled\n",
      "Predicted: not_canceled\n",
      "[0.0406679  0.99982685]: Not_Canceled\n",
      "Predicted: not_canceled\n",
      "[0.37252697 0.78271157]: Not_Canceled\n",
      "Predicted: not_canceled\n",
      "[0.5947372  0.38173053]: Canceled\n",
      "Predicted: cancled\n",
      "[0.8852312  0.06146049]: Canceled\n",
      "Predicted: cancled\n",
      "[0.39846635 0.73197794]: Not_Canceled\n",
      "Predicted: not_canceled\n",
      "[0.39028665 0.73795986]: Not_Canceled\n",
      "Predicted: not_canceled\n",
      "[0.41292304 0.6932778 ]: Not_Canceled\n",
      "Predicted: not_canceled\n",
      "[0.1311401  0.99237466]: Not_Canceled\n",
      "Predicted: not_canceled\n",
      "[0.5762995  0.41764417]: Canceled\n",
      "Predicted: cancled\n"
     ]
    }
   ],
   "source": [
    "# pd.DataFrame(numeric_features.numpy())\n",
    "print(type(numeric_features))\n",
    "print(numeric_features)\n",
    "predictions = model.predict(np.array(numeric_features.iloc[:20]))\n",
    "\n",
    "print(\"asdf\")\n",
    "\n",
    "lst = [\"Canceled\",\n",
    "\"Canceled\",\n",
    "\"Not_Canceled\",\n",
    "\"Not_Canceled\",\n",
    "\"Not_Canceled\",\n",
    "\"Canceled\",\n",
    "\"Not_Canceled\",\n",
    "\"Not_Canceled\",\n",
    "\"Canceled\",\n",
    "\"Not_Canceled\",\n",
    "\"Not_Canceled\",\n",
    "\"Not_Canceled\",\n",
    "\"Canceled\",\n",
    "\"Canceled\",\n",
    "\"Not_Canceled\",\n",
    "\"Not_Canceled\",\n",
    "\"Not_Canceled\",\n",
    "\"Not_Canceled\",\n",
    "\"Canceled\"]\n",
    "# print(predictions)\n",
    "\n",
    "for i in range(len(predictions)-1):\n",
    "    print(f\"{predictions[i]}: {lst[i]}\")\n",
    "    if predictions[i][0] > predictions[i][1]:\n",
    "        print(\"Predicted: cancled\")\n",
    "    else:\n",
    "        print(\"Predicted: not_canceled\")\n"
   ],
   "metadata": {
    "collapsed": false,
    "ExecuteTime": {
     "end_time": "2023-09-16T12:39:25.399944Z",
     "start_time": "2023-09-16T12:39:25.290943800Z"
    }
   }
  },
  {
   "cell_type": "code",
   "execution_count": 11,
   "outputs": [
    {
     "data": {
      "text/plain": "'C:\\\\Users\\\\Kevin Tang\\\\Documents\\\\HackTheNorth2023\\\\AI'"
     },
     "execution_count": 11,
     "metadata": {},
     "output_type": "execute_result"
    }
   ],
   "source": [
    "pwd"
   ],
   "metadata": {
    "collapsed": false,
    "ExecuteTime": {
     "end_time": "2023-09-16T12:33:23.142036300Z",
     "start_time": "2023-09-16T12:33:23.091035100Z"
    }
   }
  },
  {
   "cell_type": "code",
   "execution_count": 63,
   "outputs": [
    {
     "name": "stdout",
     "output_type": "stream",
     "text": [
      "17\n",
      "17\n",
      "227/227 [==============================] - 0s 549us/step\n"
     ]
    }
   ],
   "source": [
    "DATA_PATH = \"dataset/updated_test_data.csv\"\n",
    "\n",
    "# prediction\n",
    "REMOVED_COL = \"BookingID\"\n",
    "PREDICT_COL = \"BookingStatus\"\n",
    "\n",
    "df = pd.read_csv(DATA_PATH)\n",
    "df = df.drop(REMOVED_COL, axis=1) # axis: 0 for row, 1 for column\n",
    "# target = df.drop(PREDICT_COL)\n",
    "\n",
    "for col in df.columns:\n",
    "    if not all(isinstance(x, (int, float)) for x in df[col]):\n",
    "        lst = np.unique(df[col].astype(str))\n",
    "        for i in range(len(lst)):\n",
    "            df[col] = df[col].replace(lst[i], i)\n",
    "\n",
    "\n",
    "# target = df.drop(PREDICT_COL)\n",
    "print(len(numeric_feature_names))\n",
    "df = df.astype('int')\n",
    "numeric_feature_names = [name for name in df.columns]\n",
    "print(len(numeric_feature_names))\n",
    "\n",
    "numeric_features = df[numeric_feature_names]\n",
    "numeric_features.head()\n",
    "tf.convert_to_tensor(numeric_features)\n",
    "normalizer = tf.keras.layers.Normalization(axis=-1)\n",
    "normalizer.adapt(numeric_features.to_numpy())\n",
    "\n",
    "\n",
    "# new_model = tf.keras.models.load_model('../backend/local/UAQ3GzHi8TNmOS9qjtnEroOcIuy2/model_ac699aad-290c-47bc-8f7c-a80eb84b0b01/model.keras')\n",
    "\n",
    "new_model = tf.keras.models.load_model('../backend/local/UAQ3GzHi8TNmOS9qjtnEroOcIuy2/model_ac699aad-290c-47bc-8f7c-a80eb84b0b01/model')\n",
    "\n",
    "# new_model.load_weights('../backend/local/UAQ3GzHi8TNmOS9qjtnEroOcIuy2/model_ac699aad-290c-47bc-8f7c-a80eb84b0b01/model')\n",
    "\n",
    "predictions = new_model.predict(np.array(numeric_features))\n",
    "\n"
   ],
   "metadata": {
    "collapsed": false,
    "ExecuteTime": {
     "end_time": "2023-09-16T13:45:21.921604400Z",
     "start_time": "2023-09-16T13:45:21.216632100Z"
    }
   }
  },
  {
   "cell_type": "code",
   "execution_count": 58,
   "outputs": [
    {
     "name": "stdout",
     "output_type": "stream",
     "text": [
      "[[0.15406722 0.9829524 ]\n",
      " [0.16708525 0.9810974 ]\n",
      " [0.02197331 0.99994904]\n",
      " ...\n",
      " [0.0456804  0.99965805]\n",
      " [0.07709794 0.99846077]\n",
      " [0.09470014 0.9967107 ]]\n"
     ]
    }
   ],
   "source": [
    "print(predictions)"
   ],
   "metadata": {
    "collapsed": false,
    "ExecuteTime": {
     "end_time": "2023-09-16T13:28:43.300367600Z",
     "start_time": "2023-09-16T13:28:43.293365400Z"
    }
   }
  },
  {
   "cell_type": "code",
   "execution_count": 57,
   "outputs": [],
   "source": [],
   "metadata": {
    "collapsed": false,
    "ExecuteTime": {
     "end_time": "2023-09-16T13:28:39.311581900Z",
     "start_time": "2023-09-16T13:28:39.300582300Z"
    }
   }
  },
  {
   "cell_type": "code",
   "execution_count": 57,
   "outputs": [],
   "source": [],
   "metadata": {
    "collapsed": false,
    "ExecuteTime": {
     "end_time": "2023-09-16T13:28:40.554513900Z",
     "start_time": "2023-09-16T13:28:40.543514400Z"
    }
   }
  },
  {
   "cell_type": "code",
   "execution_count": null,
   "outputs": [],
   "source": [],
   "metadata": {
    "collapsed": false
   }
  }
 ],
 "metadata": {
  "kernelspec": {
   "display_name": "Python 3",
   "language": "python",
   "name": "python3"
  },
  "language_info": {
   "codemirror_mode": {
    "name": "ipython",
    "version": 2
   },
   "file_extension": ".py",
   "mimetype": "text/x-python",
   "name": "python",
   "nbconvert_exporter": "python",
   "pygments_lexer": "ipython2",
   "version": "2.7.6"
  }
 },
 "nbformat": 4,
 "nbformat_minor": 0
}
