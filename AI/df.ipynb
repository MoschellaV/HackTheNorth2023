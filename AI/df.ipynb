{
 "cells": [
  {
   "cell_type": "code",
   "execution_count": 3,
   "metadata": {
    "collapsed": true,
    "ExecuteTime": {
     "end_time": "2023-09-17T00:38:46.141484200Z",
     "start_time": "2023-09-17T00:38:43.212482200Z"
    }
   },
   "outputs": [],
   "source": [
    "import os\n",
    "import tensorflow as tf\n",
    "import pandas as pd"
   ]
  },
  {
   "cell_type": "code",
   "execution_count": 4,
   "outputs": [],
   "source": [
    "import numpy as np\n",
    "import shutil\n",
    "import matplotlib\n",
    "import matplotlib.pyplot as plt\n"
   ],
   "metadata": {
    "collapsed": false,
    "ExecuteTime": {
     "end_time": "2023-09-17T00:38:46.568481500Z",
     "start_time": "2023-09-17T00:38:46.140481900Z"
    }
   }
  },
  {
   "cell_type": "code",
   "execution_count": 5,
   "outputs": [
    {
     "data": {
      "text/plain": "'C:\\\\Users\\\\Kevin Tang\\\\Documents\\\\HackTheNorth2023\\\\AI'"
     },
     "execution_count": 5,
     "metadata": {},
     "output_type": "execute_result"
    }
   ],
   "source": [
    "pwd"
   ],
   "metadata": {
    "collapsed": false,
    "ExecuteTime": {
     "end_time": "2023-09-17T00:38:46.584482Z",
     "start_time": "2023-09-17T00:38:46.569482600Z"
    }
   }
  },
  {
   "cell_type": "markdown",
   "source": [],
   "metadata": {
    "collapsed": false
   }
  },
  {
   "cell_type": "code",
   "execution_count": 51,
   "outputs": [],
   "source": [
    "SHUFFLE_BUFFER = 500\n",
    "BATCH_SIZE = 32"
   ],
   "metadata": {
    "collapsed": false,
    "ExecuteTime": {
     "end_time": "2023-09-17T04:45:06.198384900Z",
     "start_time": "2023-09-17T04:45:06.181387300Z"
    }
   }
  },
  {
   "cell_type": "code",
   "execution_count": 30,
   "outputs": [],
   "source": [
    "DATA_PATH = r\"C:\\Users\\Kevin Tang\\Downloads\\shuttle.csv\"\n",
    "\n",
    "TEST_PATH = \"dataset/test_data.csv\""
   ],
   "metadata": {
    "collapsed": false,
    "ExecuteTime": {
     "end_time": "2023-09-17T04:39:09.987119900Z",
     "start_time": "2023-09-17T04:39:09.966121200Z"
    }
   }
  },
  {
   "cell_type": "code",
   "execution_count": 31,
   "outputs": [
    {
     "data": {
      "text/plain": "3"
     },
     "execution_count": 31,
     "metadata": {},
     "output_type": "execute_result"
    }
   ],
   "source": [
    "df = pd.DataFrame([[0, 2, 3], [0, 4, 1], [10, 20, 30]])\n",
    "df.at[0, 2]"
   ],
   "metadata": {
    "collapsed": false,
    "ExecuteTime": {
     "end_time": "2023-09-17T04:39:11.250119300Z",
     "start_time": "2023-09-17T04:39:11.223121400Z"
    }
   }
  },
  {
   "cell_type": "code",
   "execution_count": 32,
   "outputs": [
    {
     "name": "stdout",
     "output_type": "stream",
     "text": [
      "       time  rad_flow  fpv_close  fpv_open  high  bypass  bvp_close  bvp_open  \\\n",
      "0        50        21         77         0    28       0         27        48   \n",
      "1        55         0         92         0     0      26         36        92   \n",
      "2        53         0         82         0    52      -5         29        30   \n",
      "3        37         0         76         0    28      18         40        48   \n",
      "4        37         0         79         0    34     -26         43        46   \n",
      "...     ...       ...        ...       ...   ...     ...        ...       ...   \n",
      "43495    46         5         78         0    46       5         32        32   \n",
      "43496    37         0         79        -1    10       3         43        69   \n",
      "43497    48         0         78         3    46       0         30        32   \n",
      "43498    41         0         79         0    38     -25         38        40   \n",
      "43499    40        -3        100         0    38       0         61        62   \n",
      "\n",
      "       feature  class  \n",
      "0           22      2  \n",
      "1           56      4  \n",
      "2            2      1  \n",
      "3            8      1  \n",
      "4            2      1  \n",
      "...        ...    ...  \n",
      "43495        0      1  \n",
      "43496       26      1  \n",
      "43497        2      1  \n",
      "43498        2      1  \n",
      "43499        2      1  \n",
      "\n",
      "[43500 rows x 10 columns]\n"
     ]
    }
   ],
   "source": [
    "df = pd.read_csv(DATA_PATH)\n",
    "print(df)"
   ],
   "metadata": {
    "collapsed": false,
    "ExecuteTime": {
     "end_time": "2023-09-17T04:39:17.368120600Z",
     "start_time": "2023-09-17T04:39:17.291120800Z"
    }
   }
  },
  {
   "cell_type": "code",
   "execution_count": 33,
   "outputs": [
    {
     "ename": "KeyError",
     "evalue": "\"['BookingID'] not found in axis\"",
     "output_type": "error",
     "traceback": [
      "\u001B[1;31m---------------------------------------------------------------------------\u001B[0m",
      "\u001B[1;31mKeyError\u001B[0m                                  Traceback (most recent call last)",
      "Cell \u001B[1;32mIn[33], line 3\u001B[0m\n\u001B[0;32m      1\u001B[0m df \u001B[38;5;241m=\u001B[39m pd\u001B[38;5;241m.\u001B[39mread_csv(DATA_PATH)\n\u001B[1;32m----> 3\u001B[0m df \u001B[38;5;241m=\u001B[39m \u001B[43mdf\u001B[49m\u001B[38;5;241;43m.\u001B[39;49m\u001B[43mdrop\u001B[49m\u001B[43m(\u001B[49m\u001B[38;5;124;43m'\u001B[39;49m\u001B[38;5;124;43mBookingID\u001B[39;49m\u001B[38;5;124;43m'\u001B[39;49m\u001B[43m,\u001B[49m\u001B[43m \u001B[49m\u001B[43maxis\u001B[49m\u001B[38;5;241;43m=\u001B[39;49m\u001B[38;5;241;43m1\u001B[39;49m\u001B[43m)\u001B[49m \u001B[38;5;66;03m# axis: 0 for row, 1 for column\u001B[39;00m\n\u001B[0;32m      5\u001B[0m \u001B[38;5;28mprint\u001B[39m(\u001B[38;5;28mlen\u001B[39m(df))\n\u001B[0;32m      7\u001B[0m \u001B[38;5;28;01mfor\u001B[39;00m i \u001B[38;5;129;01min\u001B[39;00m \u001B[38;5;28mrange\u001B[39m(\u001B[38;5;28mlen\u001B[39m(df)):\n\u001B[0;32m      8\u001B[0m     \u001B[38;5;66;03m# ARRIVAL YEAR\u001B[39;00m\n",
      "File \u001B[1;32m~\\Documents\\HackTheNorth2023\\backend\\venv\\lib\\site-packages\\pandas\\util\\_decorators.py:331\u001B[0m, in \u001B[0;36mdeprecate_nonkeyword_arguments.<locals>.decorate.<locals>.wrapper\u001B[1;34m(*args, **kwargs)\u001B[0m\n\u001B[0;32m    325\u001B[0m \u001B[38;5;28;01mif\u001B[39;00m \u001B[38;5;28mlen\u001B[39m(args) \u001B[38;5;241m>\u001B[39m num_allow_args:\n\u001B[0;32m    326\u001B[0m     warnings\u001B[38;5;241m.\u001B[39mwarn(\n\u001B[0;32m    327\u001B[0m         msg\u001B[38;5;241m.\u001B[39mformat(arguments\u001B[38;5;241m=\u001B[39m_format_argument_list(allow_args)),\n\u001B[0;32m    328\u001B[0m         \u001B[38;5;167;01mFutureWarning\u001B[39;00m,\n\u001B[0;32m    329\u001B[0m         stacklevel\u001B[38;5;241m=\u001B[39mfind_stack_level(),\n\u001B[0;32m    330\u001B[0m     )\n\u001B[1;32m--> 331\u001B[0m \u001B[38;5;28;01mreturn\u001B[39;00m func(\u001B[38;5;241m*\u001B[39margs, \u001B[38;5;241m*\u001B[39m\u001B[38;5;241m*\u001B[39mkwargs)\n",
      "File \u001B[1;32m~\\Documents\\HackTheNorth2023\\backend\\venv\\lib\\site-packages\\pandas\\core\\frame.py:5399\u001B[0m, in \u001B[0;36mDataFrame.drop\u001B[1;34m(self, labels, axis, index, columns, level, inplace, errors)\u001B[0m\n\u001B[0;32m   5251\u001B[0m \u001B[38;5;129m@deprecate_nonkeyword_arguments\u001B[39m(version\u001B[38;5;241m=\u001B[39m\u001B[38;5;28;01mNone\u001B[39;00m, allowed_args\u001B[38;5;241m=\u001B[39m[\u001B[38;5;124m\"\u001B[39m\u001B[38;5;124mself\u001B[39m\u001B[38;5;124m\"\u001B[39m, \u001B[38;5;124m\"\u001B[39m\u001B[38;5;124mlabels\u001B[39m\u001B[38;5;124m\"\u001B[39m])\n\u001B[0;32m   5252\u001B[0m \u001B[38;5;28;01mdef\u001B[39;00m \u001B[38;5;21mdrop\u001B[39m(  \u001B[38;5;66;03m# type: ignore[override]\u001B[39;00m\n\u001B[0;32m   5253\u001B[0m     \u001B[38;5;28mself\u001B[39m,\n\u001B[1;32m   (...)\u001B[0m\n\u001B[0;32m   5260\u001B[0m     errors: IgnoreRaise \u001B[38;5;241m=\u001B[39m \u001B[38;5;124m\"\u001B[39m\u001B[38;5;124mraise\u001B[39m\u001B[38;5;124m\"\u001B[39m,\n\u001B[0;32m   5261\u001B[0m ) \u001B[38;5;241m-\u001B[39m\u001B[38;5;241m>\u001B[39m DataFrame \u001B[38;5;241m|\u001B[39m \u001B[38;5;28;01mNone\u001B[39;00m:\n\u001B[0;32m   5262\u001B[0m \u001B[38;5;250m    \u001B[39m\u001B[38;5;124;03m\"\"\"\u001B[39;00m\n\u001B[0;32m   5263\u001B[0m \u001B[38;5;124;03m    Drop specified labels from rows or columns.\u001B[39;00m\n\u001B[0;32m   5264\u001B[0m \n\u001B[1;32m   (...)\u001B[0m\n\u001B[0;32m   5397\u001B[0m \u001B[38;5;124;03m            weight  1.0     0.8\u001B[39;00m\n\u001B[0;32m   5398\u001B[0m \u001B[38;5;124;03m    \"\"\"\u001B[39;00m\n\u001B[1;32m-> 5399\u001B[0m     \u001B[38;5;28;01mreturn\u001B[39;00m \u001B[38;5;28;43msuper\u001B[39;49m\u001B[43m(\u001B[49m\u001B[43m)\u001B[49m\u001B[38;5;241;43m.\u001B[39;49m\u001B[43mdrop\u001B[49m\u001B[43m(\u001B[49m\n\u001B[0;32m   5400\u001B[0m \u001B[43m        \u001B[49m\u001B[43mlabels\u001B[49m\u001B[38;5;241;43m=\u001B[39;49m\u001B[43mlabels\u001B[49m\u001B[43m,\u001B[49m\n\u001B[0;32m   5401\u001B[0m \u001B[43m        \u001B[49m\u001B[43maxis\u001B[49m\u001B[38;5;241;43m=\u001B[39;49m\u001B[43maxis\u001B[49m\u001B[43m,\u001B[49m\n\u001B[0;32m   5402\u001B[0m \u001B[43m        \u001B[49m\u001B[43mindex\u001B[49m\u001B[38;5;241;43m=\u001B[39;49m\u001B[43mindex\u001B[49m\u001B[43m,\u001B[49m\n\u001B[0;32m   5403\u001B[0m \u001B[43m        \u001B[49m\u001B[43mcolumns\u001B[49m\u001B[38;5;241;43m=\u001B[39;49m\u001B[43mcolumns\u001B[49m\u001B[43m,\u001B[49m\n\u001B[0;32m   5404\u001B[0m \u001B[43m        \u001B[49m\u001B[43mlevel\u001B[49m\u001B[38;5;241;43m=\u001B[39;49m\u001B[43mlevel\u001B[49m\u001B[43m,\u001B[49m\n\u001B[0;32m   5405\u001B[0m \u001B[43m        \u001B[49m\u001B[43minplace\u001B[49m\u001B[38;5;241;43m=\u001B[39;49m\u001B[43minplace\u001B[49m\u001B[43m,\u001B[49m\n\u001B[0;32m   5406\u001B[0m \u001B[43m        \u001B[49m\u001B[43merrors\u001B[49m\u001B[38;5;241;43m=\u001B[39;49m\u001B[43merrors\u001B[49m\u001B[43m,\u001B[49m\n\u001B[0;32m   5407\u001B[0m \u001B[43m    \u001B[49m\u001B[43m)\u001B[49m\n",
      "File \u001B[1;32m~\\Documents\\HackTheNorth2023\\backend\\venv\\lib\\site-packages\\pandas\\util\\_decorators.py:331\u001B[0m, in \u001B[0;36mdeprecate_nonkeyword_arguments.<locals>.decorate.<locals>.wrapper\u001B[1;34m(*args, **kwargs)\u001B[0m\n\u001B[0;32m    325\u001B[0m \u001B[38;5;28;01mif\u001B[39;00m \u001B[38;5;28mlen\u001B[39m(args) \u001B[38;5;241m>\u001B[39m num_allow_args:\n\u001B[0;32m    326\u001B[0m     warnings\u001B[38;5;241m.\u001B[39mwarn(\n\u001B[0;32m    327\u001B[0m         msg\u001B[38;5;241m.\u001B[39mformat(arguments\u001B[38;5;241m=\u001B[39m_format_argument_list(allow_args)),\n\u001B[0;32m    328\u001B[0m         \u001B[38;5;167;01mFutureWarning\u001B[39;00m,\n\u001B[0;32m    329\u001B[0m         stacklevel\u001B[38;5;241m=\u001B[39mfind_stack_level(),\n\u001B[0;32m    330\u001B[0m     )\n\u001B[1;32m--> 331\u001B[0m \u001B[38;5;28;01mreturn\u001B[39;00m func(\u001B[38;5;241m*\u001B[39margs, \u001B[38;5;241m*\u001B[39m\u001B[38;5;241m*\u001B[39mkwargs)\n",
      "File \u001B[1;32m~\\Documents\\HackTheNorth2023\\backend\\venv\\lib\\site-packages\\pandas\\core\\generic.py:4505\u001B[0m, in \u001B[0;36mNDFrame.drop\u001B[1;34m(self, labels, axis, index, columns, level, inplace, errors)\u001B[0m\n\u001B[0;32m   4503\u001B[0m \u001B[38;5;28;01mfor\u001B[39;00m axis, labels \u001B[38;5;129;01min\u001B[39;00m axes\u001B[38;5;241m.\u001B[39mitems():\n\u001B[0;32m   4504\u001B[0m     \u001B[38;5;28;01mif\u001B[39;00m labels \u001B[38;5;129;01mis\u001B[39;00m \u001B[38;5;129;01mnot\u001B[39;00m \u001B[38;5;28;01mNone\u001B[39;00m:\n\u001B[1;32m-> 4505\u001B[0m         obj \u001B[38;5;241m=\u001B[39m \u001B[43mobj\u001B[49m\u001B[38;5;241;43m.\u001B[39;49m\u001B[43m_drop_axis\u001B[49m\u001B[43m(\u001B[49m\u001B[43mlabels\u001B[49m\u001B[43m,\u001B[49m\u001B[43m \u001B[49m\u001B[43maxis\u001B[49m\u001B[43m,\u001B[49m\u001B[43m \u001B[49m\u001B[43mlevel\u001B[49m\u001B[38;5;241;43m=\u001B[39;49m\u001B[43mlevel\u001B[49m\u001B[43m,\u001B[49m\u001B[43m \u001B[49m\u001B[43merrors\u001B[49m\u001B[38;5;241;43m=\u001B[39;49m\u001B[43merrors\u001B[49m\u001B[43m)\u001B[49m\n\u001B[0;32m   4507\u001B[0m \u001B[38;5;28;01mif\u001B[39;00m inplace:\n\u001B[0;32m   4508\u001B[0m     \u001B[38;5;28mself\u001B[39m\u001B[38;5;241m.\u001B[39m_update_inplace(obj)\n",
      "File \u001B[1;32m~\\Documents\\HackTheNorth2023\\backend\\venv\\lib\\site-packages\\pandas\\core\\generic.py:4546\u001B[0m, in \u001B[0;36mNDFrame._drop_axis\u001B[1;34m(self, labels, axis, level, errors, only_slice)\u001B[0m\n\u001B[0;32m   4544\u001B[0m         new_axis \u001B[38;5;241m=\u001B[39m axis\u001B[38;5;241m.\u001B[39mdrop(labels, level\u001B[38;5;241m=\u001B[39mlevel, errors\u001B[38;5;241m=\u001B[39merrors)\n\u001B[0;32m   4545\u001B[0m     \u001B[38;5;28;01melse\u001B[39;00m:\n\u001B[1;32m-> 4546\u001B[0m         new_axis \u001B[38;5;241m=\u001B[39m \u001B[43maxis\u001B[49m\u001B[38;5;241;43m.\u001B[39;49m\u001B[43mdrop\u001B[49m\u001B[43m(\u001B[49m\u001B[43mlabels\u001B[49m\u001B[43m,\u001B[49m\u001B[43m \u001B[49m\u001B[43merrors\u001B[49m\u001B[38;5;241;43m=\u001B[39;49m\u001B[43merrors\u001B[49m\u001B[43m)\u001B[49m\n\u001B[0;32m   4547\u001B[0m     indexer \u001B[38;5;241m=\u001B[39m axis\u001B[38;5;241m.\u001B[39mget_indexer(new_axis)\n\u001B[0;32m   4549\u001B[0m \u001B[38;5;66;03m# Case for non-unique axis\u001B[39;00m\n\u001B[0;32m   4550\u001B[0m \u001B[38;5;28;01melse\u001B[39;00m:\n",
      "File \u001B[1;32m~\\Documents\\HackTheNorth2023\\backend\\venv\\lib\\site-packages\\pandas\\core\\indexes\\base.py:6934\u001B[0m, in \u001B[0;36mIndex.drop\u001B[1;34m(self, labels, errors)\u001B[0m\n\u001B[0;32m   6932\u001B[0m \u001B[38;5;28;01mif\u001B[39;00m mask\u001B[38;5;241m.\u001B[39many():\n\u001B[0;32m   6933\u001B[0m     \u001B[38;5;28;01mif\u001B[39;00m errors \u001B[38;5;241m!=\u001B[39m \u001B[38;5;124m\"\u001B[39m\u001B[38;5;124mignore\u001B[39m\u001B[38;5;124m\"\u001B[39m:\n\u001B[1;32m-> 6934\u001B[0m         \u001B[38;5;28;01mraise\u001B[39;00m \u001B[38;5;167;01mKeyError\u001B[39;00m(\u001B[38;5;124mf\u001B[39m\u001B[38;5;124m\"\u001B[39m\u001B[38;5;132;01m{\u001B[39;00m\u001B[38;5;28mlist\u001B[39m(labels[mask])\u001B[38;5;132;01m}\u001B[39;00m\u001B[38;5;124m not found in axis\u001B[39m\u001B[38;5;124m\"\u001B[39m)\n\u001B[0;32m   6935\u001B[0m     indexer \u001B[38;5;241m=\u001B[39m indexer[\u001B[38;5;241m~\u001B[39mmask]\n\u001B[0;32m   6936\u001B[0m \u001B[38;5;28;01mreturn\u001B[39;00m \u001B[38;5;28mself\u001B[39m\u001B[38;5;241m.\u001B[39mdelete(indexer)\n",
      "\u001B[1;31mKeyError\u001B[0m: \"['BookingID'] not found in axis\""
     ]
    }
   ],
   "source": [
    "df = pd.read_csv(DATA_PATH)\n",
    "\n",
    "df = df.drop('BookingID', axis=1) # axis: 0 for row, 1 for column\n",
    "\n",
    "print(len(df))\n",
    "\n",
    "for i in range(len(df)):\n",
    "    # ARRIVAL YEAR\n",
    "    df.at[i, \"ArrivalYear\"] = df.at[i, \"ArrivalYear\"] % 2000\n",
    "\n",
    "    # MEAL PARSING\n",
    "    if df.at[i, \"MealPlan\"].startswith(\"Not\"):\n",
    "        df.at[i, \"MealPlan\"] = 0\n",
    "    else:\n",
    "        df.at[i, \"MealPlan\"] = df.at[i, \"MealPlan\"].split()[-1]\n",
    "\n",
    "    # ROOM TYPE\n",
    "    df.at[i, \"RoomType\"] = df.at[i, \"RoomType\"].split()[-1]\n",
    "\n",
    "    # MARKET SEGMENT\n",
    "    if df.at[i, \"MarketSegment\"] == \"Online\":\n",
    "        df.at[i, \"MarketSegment\"] = 5\n",
    "    elif df.at[i, \"MarketSegment\"] == \"Offline\":\n",
    "        df.at[i, \"MarketSegment\"] = 4\n",
    "    elif df.at[i, \"MarketSegment\"] == \"Corporate\":\n",
    "        df.at[i, \"MarketSegment\"] = 3\n",
    "    elif df.at[i, \"MarketSegment\"] == \"Complementary\":\n",
    "        df.at[i, \"MarketSegment\"] = 2\n",
    "    elif df.at[i, \"MarketSegment\"] == \"Aviation\":\n",
    "        df.at[i, \"MarketSegment\"] = 1\n",
    "    else:\n",
    "        print(\"Recheck data.\")\n",
    "\n",
    "    # BOOKING STATUS\n",
    "    if df.at[i, \"BookingStatus\"] == \"Canceled\":\n",
    "        df.at[i, \"BookingStatus\"] = 0\n",
    "    elif df.at[i, \"BookingStatus\"] == \"Not_Canceled\":\n",
    "        df.at[i, \"BookingStatus\"] = 1\n",
    "\n",
    "# BOOKING STATUS\n",
    "target = df.pop(\"BookingStatus\")\n",
    "df"
   ],
   "metadata": {
    "collapsed": false,
    "ExecuteTime": {
     "end_time": "2023-09-17T04:39:20.473122500Z",
     "start_time": "2023-09-17T04:39:18.307121100Z"
    }
   }
  },
  {
   "cell_type": "markdown",
   "source": [
    "# Normalizing the dataframe"
   ],
   "metadata": {
    "collapsed": false
   }
  },
  {
   "cell_type": "code",
   "execution_count": 107,
   "outputs": [
    {
     "name": "stdout",
     "output_type": "stream",
     "text": [
      "tf.Tensor(\n",
      "[[0. 0. 1. ... 0. 0. 0.]\n",
      " [0. 0. 0. ... 0. 0. 0.]\n",
      " [0. 1. 0. ... 0. 0. 0.]\n",
      " ...\n",
      " [0. 1. 0. ... 0. 0. 0.]\n",
      " [0. 1. 0. ... 0. 0. 0.]\n",
      " [0. 1. 0. ... 0. 0. 0.]], shape=(43500, 9), dtype=float32)\n",
      "[]\n",
      "0\n"
     ]
    }
   ],
   "source": [
    "# REMOVED_COL = \"BookingID\"\n",
    "PREDICT_COL = \"class\"\n",
    "ENCODING = []\n",
    "\n",
    "df = pd.read_csv(DATA_PATH)\n",
    "# df = df.drop(REMOVED_COL, axis=1) # axis: 0 for row, 1 for column\n",
    "\n",
    "\n",
    "for col in df.columns:\n",
    "    if not all(isinstance(x, (int, float)) for x in df[col]):\n",
    "        lst = np.unique(df[col].astype(str))\n",
    "        if col == PREDICT_COL:\n",
    "            for i in range(len(lst)):\n",
    "                ENCODING.append((i, lst[i]))\n",
    "        for i in range(len(lst)):\n",
    "            df[col] = df[col].replace(lst[i], i)\n",
    "        lst = []\n",
    "\n",
    "\n",
    "target = df.pop(PREDICT_COL)\n",
    "target = tf.one_hot(target, depth=9)\n",
    "print(target)\n",
    "print(ENCODING)\n",
    "df\n",
    "print(len(ENCODING))"
   ],
   "metadata": {
    "collapsed": false,
    "ExecuteTime": {
     "end_time": "2023-09-17T05:43:46.425408600Z",
     "start_time": "2023-09-17T05:43:46.357407500Z"
    }
   }
  },
  {
   "cell_type": "code",
   "execution_count": 36,
   "outputs": [
    {
     "name": "stdout",
     "output_type": "stream",
     "text": [
      "<class 'pandas.core.series.Series'>\n"
     ]
    },
    {
     "data": {
      "text/plain": "0        2\n1        4\n2        1\n3        1\n4        1\n        ..\n43495    1\n43496    1\n43497    1\n43498    1\n43499    1\nName: class, Length: 43500, dtype: int32"
     },
     "execution_count": 36,
     "metadata": {},
     "output_type": "execute_result"
    }
   ],
   "source": [
    "# Name: BookingStatus, Length: 29020, dtype: object\n",
    "# dtype can't be object or will get error for normalizer(numeric_features.iloc[:3])\n",
    "target = target.astype('int')\n",
    "df = df.astype('int')\n",
    "print(type(target))\n",
    "target"
   ],
   "metadata": {
    "collapsed": false,
    "ExecuteTime": {
     "end_time": "2023-09-17T04:39:36.574120Z",
     "start_time": "2023-09-17T04:39:36.559121700Z"
    }
   }
  },
  {
   "cell_type": "code",
   "execution_count": 37,
   "outputs": [
    {
     "name": "stdout",
     "output_type": "stream",
     "text": [
      "<class 'pandas.core.frame.DataFrame'>\n"
     ]
    }
   ],
   "source": [
    "numeric_feature_names = [name for name in df.columns]\n",
    "# numeric_feature_names = ['LeadTime', 'ArrivalYear', 'ArrivalMonth',  'ArrivalDate', 'NumWeekendNights', \"NumWeekNights\", \"MealPlan\", \"Parking\", \"RoomType\", \"NumAdults\", \"NumChildren\", \"MarketSegment\", \"RepeatedGuest\", \"NumPrevCancellations\", \"NumPreviousNonCancelled\", \"AvgRoomPrice\", \"SpecialRequests\"]\n",
    "numeric_features = df[numeric_feature_names]\n",
    "numeric_features.head()\n",
    "\n",
    "print(type(numeric_features))"
   ],
   "metadata": {
    "collapsed": false,
    "ExecuteTime": {
     "end_time": "2023-09-17T04:39:37.920120800Z",
     "start_time": "2023-09-17T04:39:37.902120900Z"
    }
   }
  },
  {
   "cell_type": "code",
   "execution_count": 38,
   "outputs": [
    {
     "data": {
      "text/plain": "<tf.Tensor: shape=(43500, 9), dtype=int32, numpy=\narray([[ 50,  21,  77, ...,  27,  48,  22],\n       [ 55,   0,  92, ...,  36,  92,  56],\n       [ 53,   0,  82, ...,  29,  30,   2],\n       ...,\n       [ 48,   0,  78, ...,  30,  32,   2],\n       [ 41,   0,  79, ...,  38,  40,   2],\n       [ 40,  -3, 100, ...,  61,  62,   2]])>"
     },
     "execution_count": 38,
     "metadata": {},
     "output_type": "execute_result"
    }
   ],
   "source": [
    "# numeric_features = np.asarray(numeric_features).astype('float32')\n",
    "\n",
    "tf.convert_to_tensor(numeric_features)\n"
   ],
   "metadata": {
    "collapsed": false,
    "ExecuteTime": {
     "end_time": "2023-09-17T04:39:39.597119900Z",
     "start_time": "2023-09-17T04:39:39.577121800Z"
    }
   }
  },
  {
   "cell_type": "code",
   "execution_count": 54,
   "outputs": [],
   "source": [
    "normalizer = tf.keras.layers.Normalization(axis=-1)\n",
    "normalizer.adapt(numeric_features.to_numpy())\n"
   ],
   "metadata": {
    "collapsed": false,
    "ExecuteTime": {
     "end_time": "2023-09-17T04:48:47.143484800Z",
     "start_time": "2023-09-17T04:48:46.202485400Z"
    }
   }
  },
  {
   "cell_type": "code",
   "execution_count": 40,
   "outputs": [
    {
     "name": "stdout",
     "output_type": "stream",
     "text": [
      "       time  rad_flow  fpv_close  fpv_open  high  bypass  bvp_close  bvp_open  \\\n",
      "0        50        21         77         0    28       0         27        48   \n",
      "1        55         0         92         0     0      26         36        92   \n",
      "2        53         0         82         0    52      -5         29        30   \n",
      "3        37         0         76         0    28      18         40        48   \n",
      "4        37         0         79         0    34     -26         43        46   \n",
      "...     ...       ...        ...       ...   ...     ...        ...       ...   \n",
      "43495    46         5         78         0    46       5         32        32   \n",
      "43496    37         0         79        -1    10       3         43        69   \n",
      "43497    48         0         78         3    46       0         30        32   \n",
      "43498    41         0         79         0    38     -25         38        40   \n",
      "43499    40        -3        100         0    38       0         61        62   \n",
      "\n",
      "       feature  \n",
      "0           22  \n",
      "1           56  \n",
      "2            2  \n",
      "3            8  \n",
      "4            2  \n",
      "...        ...  \n",
      "43495        0  \n",
      "43496       26  \n",
      "43497        2  \n",
      "43498        2  \n",
      "43499        2  \n",
      "\n",
      "[43500 rows x 9 columns]\n"
     ]
    }
   ],
   "source": [
    "numeric_features = pd.DataFrame(numeric_features)\n",
    "type(numeric_features)\n",
    "print(numeric_features)"
   ],
   "metadata": {
    "collapsed": false,
    "ExecuteTime": {
     "end_time": "2023-09-17T04:39:42.424120Z",
     "start_time": "2023-09-17T04:39:42.413120Z"
    }
   }
  },
  {
   "cell_type": "code",
   "execution_count": 41,
   "outputs": [
    {
     "data": {
      "text/plain": "<tf.Tensor: shape=(3, 9), dtype=float32, numpy=\narray([[ 0.14285067,  0.27136692, -0.9363581 , -0.00640761, -0.3008231 ,\n        -0.00723336, -0.7669769 , -0.13511065,  0.31329548],\n       [ 0.5509323 ,  0.00262505,  0.7474303 , -0.00640761, -1.5909599 ,\n         0.13762584, -0.08180439,  1.9149319 ,  1.6389323 ],\n       [ 0.38769963,  0.00262505, -0.37509528, -0.00640761,  0.8050085 ,\n        -0.03509089, -0.61471635, -0.9737644 , -0.46649086]],\n      dtype=float32)>"
     },
     "execution_count": 41,
     "metadata": {},
     "output_type": "execute_result"
    }
   ],
   "source": [
    "normalizer(numeric_features.iloc[:3])\n"
   ],
   "metadata": {
    "collapsed": false,
    "ExecuteTime": {
     "end_time": "2023-09-17T04:39:44.019120400Z",
     "start_time": "2023-09-17T04:39:44.008120800Z"
    }
   }
  },
  {
   "cell_type": "code",
   "execution_count": 42,
   "outputs": [
    {
     "name": "stdout",
     "output_type": "stream",
     "text": [
      "<keras.src.layers.preprocessing.normalization.Normalization object at 0x000002E52B9B8430>\n"
     ]
    },
    {
     "ename": "AttributeError",
     "evalue": "Layer normalization_1 is not connected, no input to return.",
     "output_type": "error",
     "traceback": [
      "\u001B[1;31m---------------------------------------------------------------------------\u001B[0m",
      "\u001B[1;31mAttributeError\u001B[0m                            Traceback (most recent call last)",
      "Cell \u001B[1;32mIn[42], line 2\u001B[0m\n\u001B[0;32m      1\u001B[0m \u001B[38;5;28mprint\u001B[39m(normalizer)\n\u001B[1;32m----> 2\u001B[0m \u001B[38;5;28mprint\u001B[39m(\u001B[43mnormalizer\u001B[49m\u001B[38;5;241;43m.\u001B[39;49m\u001B[43minput\u001B[49m)\n\u001B[0;32m      3\u001B[0m \u001B[38;5;28mprint\u001B[39m(normalizer\u001B[38;5;241m.\u001B[39moutput)\n",
      "File \u001B[1;32m~\\Documents\\HackTheNorth2023\\backend\\venv\\lib\\site-packages\\keras\\src\\engine\\base_layer.py:2084\u001B[0m, in \u001B[0;36mLayer.input\u001B[1;34m(self)\u001B[0m\n\u001B[0;32m   2071\u001B[0m \u001B[38;5;250m\u001B[39m\u001B[38;5;124;03m\"\"\"Retrieves the input tensor(s) of a layer.\u001B[39;00m\n\u001B[0;32m   2072\u001B[0m \n\u001B[0;32m   2073\u001B[0m \u001B[38;5;124;03mOnly applicable if the layer has exactly one input,\u001B[39;00m\n\u001B[1;32m   (...)\u001B[0m\n\u001B[0;32m   2081\u001B[0m \u001B[38;5;124;03m  AttributeError: If no inbound nodes are found.\u001B[39;00m\n\u001B[0;32m   2082\u001B[0m \u001B[38;5;124;03m\"\"\"\u001B[39;00m\n\u001B[0;32m   2083\u001B[0m \u001B[38;5;28;01mif\u001B[39;00m \u001B[38;5;129;01mnot\u001B[39;00m \u001B[38;5;28mself\u001B[39m\u001B[38;5;241m.\u001B[39m_inbound_nodes:\n\u001B[1;32m-> 2084\u001B[0m     \u001B[38;5;28;01mraise\u001B[39;00m \u001B[38;5;167;01mAttributeError\u001B[39;00m(\n\u001B[0;32m   2085\u001B[0m         \u001B[38;5;124m\"\u001B[39m\u001B[38;5;124mLayer \u001B[39m\u001B[38;5;124m\"\u001B[39m \u001B[38;5;241m+\u001B[39m \u001B[38;5;28mself\u001B[39m\u001B[38;5;241m.\u001B[39mname \u001B[38;5;241m+\u001B[39m \u001B[38;5;124m\"\u001B[39m\u001B[38;5;124m is not connected, no input to return.\u001B[39m\u001B[38;5;124m\"\u001B[39m\n\u001B[0;32m   2086\u001B[0m     )\n\u001B[0;32m   2087\u001B[0m \u001B[38;5;28;01mreturn\u001B[39;00m \u001B[38;5;28mself\u001B[39m\u001B[38;5;241m.\u001B[39m_get_node_attribute_at_index(\u001B[38;5;241m0\u001B[39m, \u001B[38;5;124m\"\u001B[39m\u001B[38;5;124minput_tensors\u001B[39m\u001B[38;5;124m\"\u001B[39m, \u001B[38;5;124m\"\u001B[39m\u001B[38;5;124minput\u001B[39m\u001B[38;5;124m\"\u001B[39m)\n",
      "\u001B[1;31mAttributeError\u001B[0m: Layer normalization_1 is not connected, no input to return."
     ]
    }
   ],
   "source": [
    "print(normalizer)\n",
    "print(normalizer.input)\n",
    "print(normalizer.output)\n"
   ],
   "metadata": {
    "collapsed": false,
    "ExecuteTime": {
     "end_time": "2023-09-17T04:39:54.654119700Z",
     "start_time": "2023-09-17T04:39:54.466119900Z"
    }
   }
  },
  {
   "cell_type": "code",
   "execution_count": 43,
   "outputs": [
    {
     "data": {
      "text/plain": "9"
     },
     "execution_count": 43,
     "metadata": {},
     "output_type": "execute_result"
    }
   ],
   "source": [
    "len(numeric_features.iloc[0])"
   ],
   "metadata": {
    "collapsed": false,
    "ExecuteTime": {
     "end_time": "2023-09-17T04:39:59.006119700Z",
     "start_time": "2023-09-17T04:39:58.993121600Z"
    }
   }
  },
  {
   "cell_type": "code",
   "execution_count": 44,
   "outputs": [
    {
     "name": "stdout",
     "output_type": "stream",
     "text": [
      "[1024, 512.0, 256.0, 128.0]\n"
     ]
    }
   ],
   "source": [
    "from math import floor\n",
    "# some complex math\n",
    "nodes = len(numeric_features)/(4 * (len(numeric_features.iloc[0]) + len(ENCODING)))\n",
    "res = 0\n",
    "for i in range(floor(nodes), 0, -1):\n",
    "    if (i & (i - 1)) == 0:\n",
    "        res = i\n",
    "        break\n",
    "\n",
    "lst = [res]\n",
    "for i in range(3):\n",
    "    res /= 2\n",
    "    lst.append(res)\n",
    "print(lst)\n"
   ],
   "metadata": {
    "collapsed": false,
    "ExecuteTime": {
     "end_time": "2023-09-17T04:40:00.497119200Z",
     "start_time": "2023-09-17T04:40:00.473122100Z"
    }
   }
  },
  {
   "cell_type": "code",
   "execution_count": 45,
   "outputs": [
    {
     "name": "stdout",
     "output_type": "stream",
     "text": [
      "161 322 644 1288\n"
     ]
    }
   ],
   "source": [
    "from math import floor\n",
    "\n",
    "# some complex math\n",
    "nodes = len(numeric_features)/(2 * (len(numeric_features.iloc[0]) + len(ENCODING)))\n",
    "res = floor(nodes/15)\n",
    "\n",
    "print(res*1, res*2, res*4, res*8)\n",
    "\n",
    "\n",
    "# for i in range(nodes, 0, -1):\n",
    "#     if (i & (i - 1)) == 0:\n",
    "#         res = i\n",
    "#         break\n",
    "#\n",
    "# lst = [res]\n",
    "# for i in range(4):\n",
    "#     res /= 2\n",
    "#     lst.append(res)\n",
    "# print(lst)"
   ],
   "metadata": {
    "collapsed": false,
    "ExecuteTime": {
     "end_time": "2023-09-17T04:40:03.300120400Z",
     "start_time": "2023-09-17T04:40:03.282120400Z"
    }
   }
  },
  {
   "cell_type": "code",
   "execution_count": 104,
   "outputs": [],
   "source": [
    "def get_basic_model():\n",
    "    model = tf.keras.Sequential([\n",
    "        normalizer,\n",
    "        tf.keras.layers.Dense(128, activation='relu'),\n",
    "        tf.keras.layers.Dense(64, activation='relu'),\n",
    "        tf.keras.layers.Dropout(0.2),\n",
    "        tf.keras.layers.Dense(32, activation='relu'),\n",
    "        tf.keras.layers.Dropout(0.2),\n",
    "        tf.keras.layers.Dense(10, activation='relu'),\n",
    "        tf.keras.layers.Dropout(0.2),\n",
    "        tf.keras.layers.Dense(9, activation='sigmoid')\n",
    "        ])\n",
    "\n",
    "    model.compile(optimizer='adam',\n",
    "                    loss=\"categorical_crossentropy\", # tf.keras.losses.BinaryCrossentropy(from_logits=True)\n",
    "                    metrics=['accuracy'])\n",
    "    return model\n",
    "\n",
    "model = get_basic_model()"
   ],
   "metadata": {
    "collapsed": false,
    "ExecuteTime": {
     "end_time": "2023-09-17T05:23:59.570798600Z",
     "start_time": "2023-09-17T05:23:59.523798300Z"
    }
   }
  },
  {
   "cell_type": "code",
   "execution_count": 100,
   "outputs": [
    {
     "data": {
      "text/plain": "0"
     },
     "execution_count": 100,
     "metadata": {},
     "output_type": "execute_result"
    }
   ],
   "source": [],
   "metadata": {
    "collapsed": false,
    "ExecuteTime": {
     "end_time": "2023-09-17T05:22:47.713799800Z",
     "start_time": "2023-09-17T05:22:47.706798500Z"
    }
   }
  },
  {
   "cell_type": "code",
   "execution_count": 56,
   "outputs": [
    {
     "name": "stdout",
     "output_type": "stream",
     "text": [
      "   time  rad_flow  fpv_close  fpv_open  high  bypass  bvp_close  bvp_open  \\\n",
      "0    50        21         77         0    28       0         27        48   \n",
      "1    55         0         92         0     0      26         36        92   \n",
      "2    53         0         82         0    52      -5         29        30   \n",
      "\n",
      "   feature  \n",
      "0       22  \n",
      "1       56  \n",
      "2        2  \n"
     ]
    }
   ],
   "source": [
    "print(numeric_features.iloc[:3])"
   ],
   "metadata": {
    "collapsed": false,
    "ExecuteTime": {
     "end_time": "2023-09-17T04:48:57.184483200Z",
     "start_time": "2023-09-17T04:48:57.161485800Z"
    }
   }
  },
  {
   "cell_type": "code",
   "execution_count": 76,
   "outputs": [
    {
     "data": {
      "text/plain": "0        2\n1        4\n2        1\n3        1\n4        1\n        ..\n43495    1\n43496    1\n43497    1\n43498    1\n43499    1\nName: class, Length: 43500, dtype: int32"
     },
     "execution_count": 76,
     "metadata": {},
     "output_type": "execute_result"
    }
   ],
   "source": [
    "target"
   ],
   "metadata": {
    "collapsed": false,
    "ExecuteTime": {
     "end_time": "2023-09-17T05:11:29.547692900Z",
     "start_time": "2023-09-17T05:11:29.528694100Z"
    }
   }
  },
  {
   "cell_type": "code",
   "execution_count": 86,
   "outputs": [
    {
     "data": {
      "text/plain": "((43500, 9), TensorShape([43500, 9]))"
     },
     "execution_count": 86,
     "metadata": {},
     "output_type": "execute_result"
    }
   ],
   "source": [
    "numeric_features.shape, target.shape"
   ],
   "metadata": {
    "collapsed": false,
    "ExecuteTime": {
     "end_time": "2023-09-17T05:16:52.158285400Z",
     "start_time": "2023-09-17T05:16:52.148286400Z"
    }
   }
  },
  {
   "cell_type": "code",
   "execution_count": 102,
   "outputs": [
    {
     "name": "stdout",
     "output_type": "stream",
     "text": [
      "1360/1360 [==============================] - 1s 521us/step\n"
     ]
    },
    {
     "data": {
      "text/plain": "(43500, 9)"
     },
     "execution_count": 102,
     "metadata": {},
     "output_type": "execute_result"
    }
   ],
   "source": [
    "model.predict(numeric_features).shape"
   ],
   "metadata": {
    "collapsed": false,
    "ExecuteTime": {
     "end_time": "2023-09-17T05:23:03.284800100Z",
     "start_time": "2023-09-17T05:23:02.258798200Z"
    }
   }
  },
  {
   "cell_type": "code",
   "execution_count": 105,
   "outputs": [
    {
     "name": "stdout",
     "output_type": "stream",
     "text": [
      "1360/1360 [==============================] - 2s 833us/step - loss: 0.2303 - accuracy: 0.9441\n"
     ]
    },
    {
     "data": {
      "text/plain": "<keras.src.callbacks.History at 0x2e5304650c0>"
     },
     "execution_count": 105,
     "metadata": {},
     "output_type": "execute_result"
    }
   ],
   "source": [
    "model.fit(numeric_features, target)"
   ],
   "metadata": {
    "collapsed": false,
    "ExecuteTime": {
     "end_time": "2023-09-17T05:24:07.632797600Z",
     "start_time": "2023-09-17T05:24:05.703801900Z"
    }
   }
  },
  {
   "cell_type": "code",
   "execution_count": 106,
   "outputs": [
    {
     "name": "stdout",
     "output_type": "stream",
     "text": [
      "(43500, 9)\n",
      "(43500, 9)\n",
      "tf.Tensor(\n",
      "[[0. 0. 1. ... 0. 0. 0.]\n",
      " [0. 0. 0. ... 0. 0. 0.]\n",
      " [0. 1. 0. ... 0. 0. 0.]\n",
      " ...\n",
      " [0. 1. 0. ... 0. 0. 0.]\n",
      " [0. 1. 0. ... 0. 0. 0.]\n",
      " [0. 1. 0. ... 0. 0. 0.]], shape=(43500, 9), dtype=float32)\n",
      "Epoch 1/30\n",
      "1360/1360 [==============================] - 2s 817us/step - loss: 0.2337 - accuracy: 0.9417\n",
      "Epoch 2/30\n",
      "1360/1360 [==============================] - 1s 785us/step - loss: 0.0775 - accuracy: 0.9881\n",
      "Epoch 3/30\n",
      "1360/1360 [==============================] - 1s 785us/step - loss: 0.0548 - accuracy: 0.9901\n",
      "Epoch 4/30\n",
      "1360/1360 [==============================] - 1s 792us/step - loss: 0.0449 - accuracy: 0.9926\n",
      "Epoch 5/30\n",
      "1360/1360 [==============================] - 1s 788us/step - loss: 0.0335 - accuracy: 0.9934\n",
      "Epoch 6/30\n",
      "1360/1360 [==============================] - 1s 790us/step - loss: 0.0263 - accuracy: 0.9936\n",
      "Epoch 7/30\n",
      "1360/1360 [==============================] - 1s 782us/step - loss: 0.0248 - accuracy: 0.9941\n",
      "Epoch 8/30\n",
      "1360/1360 [==============================] - 1s 788us/step - loss: 0.0236 - accuracy: 0.9942\n",
      "Epoch 9/30\n",
      "1360/1360 [==============================] - 1s 805us/step - loss: 0.0195 - accuracy: 0.9950\n",
      "Epoch 10/30\n",
      "1360/1360 [==============================] - 1s 786us/step - loss: 0.0177 - accuracy: 0.9954\n",
      "Epoch 11/30\n",
      "1360/1360 [==============================] - 1s 783us/step - loss: 0.0241 - accuracy: 0.9956\n",
      "Epoch 12/30\n",
      "1360/1360 [==============================] - 1s 787us/step - loss: 0.0177 - accuracy: 0.9962\n",
      "Epoch 13/30\n",
      "1360/1360 [==============================] - 1s 800us/step - loss: 0.0207 - accuracy: 0.9962\n",
      "Epoch 14/30\n",
      "1360/1360 [==============================] - 1s 795us/step - loss: 0.0163 - accuracy: 0.9959\n",
      "Epoch 15/30\n",
      "1360/1360 [==============================] - 1s 791us/step - loss: 0.0143 - accuracy: 0.9962\n",
      "Epoch 16/30\n",
      "1360/1360 [==============================] - 1s 785us/step - loss: 0.0109 - accuracy: 0.9971\n",
      "Epoch 17/30\n",
      "1360/1360 [==============================] - 1s 787us/step - loss: 0.0132 - accuracy: 0.9968\n",
      "Epoch 18/30\n",
      "1360/1360 [==============================] - 1s 780us/step - loss: 0.0157 - accuracy: 0.9964\n",
      "Epoch 19/30\n",
      "1360/1360 [==============================] - 1s 781us/step - loss: 0.0123 - accuracy: 0.9967\n",
      "Epoch 20/30\n",
      "1360/1360 [==============================] - 1s 783us/step - loss: 0.0104 - accuracy: 0.9973\n",
      "Epoch 21/30\n",
      "1360/1360 [==============================] - 1s 823us/step - loss: 0.0181 - accuracy: 0.9965\n",
      "Epoch 22/30\n",
      "1360/1360 [==============================] - 1s 802us/step - loss: 0.0153 - accuracy: 0.9966\n",
      "Epoch 23/30\n",
      "1360/1360 [==============================] - 1s 803us/step - loss: 0.0111 - accuracy: 0.9970\n",
      "Epoch 24/30\n",
      "1360/1360 [==============================] - 1s 847us/step - loss: 0.0137 - accuracy: 0.9966\n",
      "Epoch 25/30\n",
      "1360/1360 [==============================] - 1s 792us/step - loss: 0.0149 - accuracy: 0.9968\n",
      "Epoch 26/30\n",
      "1360/1360 [==============================] - 1s 784us/step - loss: 0.0108 - accuracy: 0.9971\n",
      "Epoch 27/30\n",
      "1360/1360 [==============================] - 1s 802us/step - loss: 0.0114 - accuracy: 0.9973\n",
      "Epoch 28/30\n",
      "1360/1360 [==============================] - 1s 784us/step - loss: 0.0147 - accuracy: 0.9970\n",
      "Epoch 29/30\n",
      "1360/1360 [==============================] - 1s 789us/step - loss: 0.0151 - accuracy: 0.9969\n",
      "Epoch 30/30\n",
      "1360/1360 [==============================] - 1s 798us/step - loss: 0.0112 - accuracy: 0.9971\n"
     ]
    }
   ],
   "source": [
    "model = get_basic_model()\n",
    "print(numeric_features.shape)\n",
    "print(target.shape)\n",
    "print(target)\n",
    "history = model.fit(numeric_features, target, epochs=30, batch_size=BATCH_SIZE)\n"
   ],
   "metadata": {
    "collapsed": false,
    "ExecuteTime": {
     "end_time": "2023-09-17T05:24:47.232799200Z",
     "start_time": "2023-09-17T05:24:13.927798600Z"
    }
   }
  },
  {
   "cell_type": "code",
   "execution_count": null,
   "outputs": [],
   "source": [],
   "metadata": {
    "collapsed": false
   }
  },
  {
   "cell_type": "code",
   "execution_count": 45,
   "outputs": [
    {
     "name": "stdout",
     "output_type": "stream",
     "text": [
      "(<tf.Tensor: shape=(17,), dtype=int32, numpy=\n",
      "array([  10, 2018,    3,   31,    0,    1,    0,    0,    0,    1,    0,\n",
      "          2,    0,    0,    0,   95,    0])>, <tf.Tensor: shape=(), dtype=int32, numpy=0>)\n",
      "(<tf.Tensor: shape=(17,), dtype=int32, numpy=\n",
      "array([ 116, 2018,    2,   28,    2,    1,    0,    0,    0,    1,    0,\n",
      "          4,    0,    0,    0,   61,    0])>, <tf.Tensor: shape=(), dtype=int32, numpy=0>)\n",
      "(<tf.Tensor: shape=(17,), dtype=int32, numpy=\n",
      "array([  11, 2018,    7,   25,    1,    2,    0,    0,    0,    2,    1,\n",
      "          4,    0,    0,    0,  129,    1])>, <tf.Tensor: shape=(), dtype=int32, numpy=1>)\n"
     ]
    }
   ],
   "source": [
    "numeric_dataset = tf.data.Dataset.from_tensor_slices((numeric_features, target))\n",
    "\n",
    "for row in numeric_dataset.take(3):\n",
    "  print(row)\n"
   ],
   "metadata": {
    "collapsed": false,
    "ExecuteTime": {
     "end_time": "2023-09-16T12:39:11.626944600Z",
     "start_time": "2023-09-16T12:39:11.593943100Z"
    }
   }
  },
  {
   "cell_type": "code",
   "execution_count": 46,
   "outputs": [
    {
     "name": "stdout",
     "output_type": "stream",
     "text": [
      "Epoch 1/90\n",
      "29/29 [==============================] - 1s 3ms/step - loss: 0.5702 - accuracy: 0.6997\n",
      "Epoch 2/90\n",
      "29/29 [==============================] - 0s 3ms/step - loss: 0.4738 - accuracy: 0.7826\n",
      "Epoch 3/90\n",
      "29/29 [==============================] - 0s 3ms/step - loss: 0.4436 - accuracy: 0.8005\n",
      "Epoch 4/90\n",
      "29/29 [==============================] - 0s 3ms/step - loss: 0.4265 - accuracy: 0.8103\n",
      "Epoch 5/90\n",
      "29/29 [==============================] - 0s 2ms/step - loss: 0.4111 - accuracy: 0.8187\n",
      "Epoch 6/90\n",
      "29/29 [==============================] - 0s 2ms/step - loss: 0.4040 - accuracy: 0.8251\n",
      "Epoch 7/90\n",
      "29/29 [==============================] - 0s 3ms/step - loss: 0.3958 - accuracy: 0.8281\n",
      "Epoch 8/90\n",
      "29/29 [==============================] - 0s 2ms/step - loss: 0.3841 - accuracy: 0.8326\n",
      "Epoch 9/90\n",
      "29/29 [==============================] - 0s 3ms/step - loss: 0.3770 - accuracy: 0.8369\n",
      "Epoch 10/90\n",
      "29/29 [==============================] - 0s 3ms/step - loss: 0.3723 - accuracy: 0.8387\n",
      "Epoch 11/90\n",
      "29/29 [==============================] - 0s 3ms/step - loss: 0.3678 - accuracy: 0.8407\n",
      "Epoch 12/90\n",
      "29/29 [==============================] - 0s 3ms/step - loss: 0.3613 - accuracy: 0.8431\n",
      "Epoch 13/90\n",
      "29/29 [==============================] - 0s 3ms/step - loss: 0.3557 - accuracy: 0.8458\n",
      "Epoch 14/90\n",
      "29/29 [==============================] - 0s 3ms/step - loss: 0.3515 - accuracy: 0.8478\n",
      "Epoch 15/90\n",
      "29/29 [==============================] - 0s 3ms/step - loss: 0.3464 - accuracy: 0.8502\n",
      "Epoch 16/90\n",
      "29/29 [==============================] - 0s 3ms/step - loss: 0.3427 - accuracy: 0.8518\n",
      "Epoch 17/90\n",
      "29/29 [==============================] - 0s 3ms/step - loss: 0.3414 - accuracy: 0.8543\n",
      "Epoch 18/90\n",
      "29/29 [==============================] - 0s 3ms/step - loss: 0.3376 - accuracy: 0.8549\n",
      "Epoch 19/90\n",
      "29/29 [==============================] - 0s 3ms/step - loss: 0.3356 - accuracy: 0.8575\n",
      "Epoch 20/90\n",
      "29/29 [==============================] - 0s 3ms/step - loss: 0.3324 - accuracy: 0.8582\n",
      "Epoch 21/90\n",
      "29/29 [==============================] - 0s 3ms/step - loss: 0.3298 - accuracy: 0.8596\n",
      "Epoch 22/90\n",
      "29/29 [==============================] - 0s 3ms/step - loss: 0.3254 - accuracy: 0.8597\n",
      "Epoch 23/90\n",
      "29/29 [==============================] - 0s 2ms/step - loss: 0.3221 - accuracy: 0.8632\n",
      "Epoch 24/90\n",
      "29/29 [==============================] - 0s 3ms/step - loss: 0.3208 - accuracy: 0.8634\n",
      "Epoch 25/90\n",
      "29/29 [==============================] - 0s 2ms/step - loss: 0.3165 - accuracy: 0.8640\n",
      "Epoch 26/90\n",
      "29/29 [==============================] - 0s 3ms/step - loss: 0.3180 - accuracy: 0.8652\n",
      "Epoch 27/90\n",
      "29/29 [==============================] - 0s 3ms/step - loss: 0.3157 - accuracy: 0.8653\n",
      "Epoch 28/90\n",
      "29/29 [==============================] - 0s 3ms/step - loss: 0.3111 - accuracy: 0.8663\n",
      "Epoch 29/90\n",
      "29/29 [==============================] - 0s 3ms/step - loss: 0.3080 - accuracy: 0.8681\n",
      "Epoch 30/90\n",
      "29/29 [==============================] - 0s 3ms/step - loss: 0.3090 - accuracy: 0.8676\n",
      "Epoch 31/90\n",
      "29/29 [==============================] - 0s 3ms/step - loss: 0.3062 - accuracy: 0.8698\n",
      "Epoch 32/90\n",
      "29/29 [==============================] - 0s 3ms/step - loss: 0.3065 - accuracy: 0.8678\n",
      "Epoch 33/90\n",
      "29/29 [==============================] - 0s 2ms/step - loss: 0.3023 - accuracy: 0.8701\n",
      "Epoch 34/90\n",
      "29/29 [==============================] - 0s 2ms/step - loss: 0.3020 - accuracy: 0.8708\n",
      "Epoch 35/90\n",
      "29/29 [==============================] - 0s 2ms/step - loss: 0.2990 - accuracy: 0.8710\n",
      "Epoch 36/90\n",
      "29/29 [==============================] - 0s 2ms/step - loss: 0.2965 - accuracy: 0.8744\n",
      "Epoch 37/90\n",
      "29/29 [==============================] - 0s 3ms/step - loss: 0.2959 - accuracy: 0.8754\n",
      "Epoch 38/90\n",
      "29/29 [==============================] - 0s 3ms/step - loss: 0.2918 - accuracy: 0.8752\n",
      "Epoch 39/90\n",
      "29/29 [==============================] - 0s 2ms/step - loss: 0.2917 - accuracy: 0.8769\n",
      "Epoch 40/90\n",
      "29/29 [==============================] - 0s 3ms/step - loss: 0.2903 - accuracy: 0.8777\n",
      "Epoch 41/90\n",
      "29/29 [==============================] - 0s 3ms/step - loss: 0.2897 - accuracy: 0.8760\n",
      "Epoch 42/90\n",
      "29/29 [==============================] - 0s 3ms/step - loss: 0.2892 - accuracy: 0.8776\n",
      "Epoch 43/90\n",
      "29/29 [==============================] - 0s 3ms/step - loss: 0.2869 - accuracy: 0.8785\n",
      "Epoch 44/90\n",
      "29/29 [==============================] - 0s 3ms/step - loss: 0.2847 - accuracy: 0.8786\n",
      "Epoch 45/90\n",
      "29/29 [==============================] - 0s 2ms/step - loss: 0.2837 - accuracy: 0.8814\n",
      "Epoch 46/90\n",
      "29/29 [==============================] - 0s 3ms/step - loss: 0.2844 - accuracy: 0.8793\n",
      "Epoch 47/90\n",
      "29/29 [==============================] - 0s 3ms/step - loss: 0.2782 - accuracy: 0.8834\n",
      "Epoch 48/90\n",
      "29/29 [==============================] - 0s 3ms/step - loss: 0.2801 - accuracy: 0.8815\n",
      "Epoch 49/90\n",
      "29/29 [==============================] - 0s 3ms/step - loss: 0.2770 - accuracy: 0.8832\n",
      "Epoch 50/90\n",
      "29/29 [==============================] - 0s 3ms/step - loss: 0.2767 - accuracy: 0.8831\n",
      "Epoch 51/90\n",
      "29/29 [==============================] - 0s 3ms/step - loss: 0.2744 - accuracy: 0.8834\n",
      "Epoch 52/90\n",
      "29/29 [==============================] - 0s 3ms/step - loss: 0.2735 - accuracy: 0.8849\n",
      "Epoch 53/90\n",
      "29/29 [==============================] - 0s 3ms/step - loss: 0.2716 - accuracy: 0.8846\n",
      "Epoch 54/90\n",
      "29/29 [==============================] - 0s 3ms/step - loss: 0.2739 - accuracy: 0.8840\n",
      "Epoch 55/90\n",
      "29/29 [==============================] - 0s 3ms/step - loss: 0.2733 - accuracy: 0.8839\n",
      "Epoch 56/90\n",
      "29/29 [==============================] - 0s 3ms/step - loss: 0.2707 - accuracy: 0.8854\n",
      "Epoch 57/90\n",
      "29/29 [==============================] - 0s 3ms/step - loss: 0.2689 - accuracy: 0.8861\n",
      "Epoch 58/90\n",
      "29/29 [==============================] - 0s 3ms/step - loss: 0.2682 - accuracy: 0.8853\n",
      "Epoch 59/90\n",
      "29/29 [==============================] - 0s 3ms/step - loss: 0.2650 - accuracy: 0.8886\n",
      "Epoch 60/90\n",
      "29/29 [==============================] - 0s 3ms/step - loss: 0.2658 - accuracy: 0.8877\n",
      "Epoch 61/90\n",
      "29/29 [==============================] - 0s 3ms/step - loss: 0.2658 - accuracy: 0.8875\n",
      "Epoch 62/90\n",
      "29/29 [==============================] - 0s 2ms/step - loss: 0.2673 - accuracy: 0.8873\n",
      "Epoch 63/90\n",
      "29/29 [==============================] - 0s 2ms/step - loss: 0.2642 - accuracy: 0.8896\n",
      "Epoch 64/90\n",
      "29/29 [==============================] - 0s 3ms/step - loss: 0.2630 - accuracy: 0.8903\n",
      "Epoch 65/90\n",
      "29/29 [==============================] - 0s 3ms/step - loss: 0.2636 - accuracy: 0.8889\n",
      "Epoch 66/90\n",
      "29/29 [==============================] - 0s 3ms/step - loss: 0.2614 - accuracy: 0.8902\n",
      "Epoch 67/90\n",
      "29/29 [==============================] - 0s 3ms/step - loss: 0.2613 - accuracy: 0.8899\n",
      "Epoch 68/90\n",
      "29/29 [==============================] - 0s 2ms/step - loss: 0.2611 - accuracy: 0.8897\n",
      "Epoch 69/90\n",
      "29/29 [==============================] - 0s 2ms/step - loss: 0.2586 - accuracy: 0.8890\n",
      "Epoch 70/90\n",
      "29/29 [==============================] - 0s 3ms/step - loss: 0.2579 - accuracy: 0.8911\n",
      "Epoch 71/90\n",
      "29/29 [==============================] - 0s 3ms/step - loss: 0.2598 - accuracy: 0.8893\n",
      "Epoch 72/90\n",
      "29/29 [==============================] - 0s 3ms/step - loss: 0.2574 - accuracy: 0.8907\n",
      "Epoch 73/90\n",
      "29/29 [==============================] - 0s 3ms/step - loss: 0.2549 - accuracy: 0.8896\n",
      "Epoch 74/90\n",
      "29/29 [==============================] - 0s 3ms/step - loss: 0.2534 - accuracy: 0.8927\n",
      "Epoch 75/90\n",
      "29/29 [==============================] - 0s 2ms/step - loss: 0.2549 - accuracy: 0.8915\n",
      "Epoch 76/90\n",
      "29/29 [==============================] - 0s 3ms/step - loss: 0.2527 - accuracy: 0.8933\n",
      "Epoch 77/90\n",
      "29/29 [==============================] - 0s 2ms/step - loss: 0.2549 - accuracy: 0.8928\n",
      "Epoch 78/90\n",
      "29/29 [==============================] - 0s 2ms/step - loss: 0.2525 - accuracy: 0.8938\n",
      "Epoch 79/90\n",
      "29/29 [==============================] - 0s 2ms/step - loss: 0.2507 - accuracy: 0.8932\n",
      "Epoch 80/90\n",
      "29/29 [==============================] - 0s 3ms/step - loss: 0.2503 - accuracy: 0.8927\n",
      "Epoch 81/90\n",
      "29/29 [==============================] - 0s 3ms/step - loss: 0.2530 - accuracy: 0.8912\n",
      "Epoch 82/90\n",
      "29/29 [==============================] - 0s 3ms/step - loss: 0.2500 - accuracy: 0.8936\n",
      "Epoch 83/90\n",
      "29/29 [==============================] - 0s 3ms/step - loss: 0.2474 - accuracy: 0.8941\n",
      "Epoch 84/90\n",
      "29/29 [==============================] - 0s 3ms/step - loss: 0.2516 - accuracy: 0.8938\n",
      "Epoch 85/90\n",
      "29/29 [==============================] - 0s 2ms/step - loss: 0.2460 - accuracy: 0.8949\n",
      "Epoch 86/90\n",
      "29/29 [==============================] - 0s 3ms/step - loss: 0.2457 - accuracy: 0.8961\n",
      "Epoch 87/90\n",
      "29/29 [==============================] - 0s 3ms/step - loss: 0.2486 - accuracy: 0.8936\n",
      "Epoch 88/90\n",
      "29/29 [==============================] - 0s 3ms/step - loss: 0.2441 - accuracy: 0.8958\n",
      "Epoch 89/90\n",
      "29/29 [==============================] - 0s 2ms/step - loss: 0.2463 - accuracy: 0.8955\n",
      "Epoch 90/90\n",
      "29/29 [==============================] - 0s 2ms/step - loss: 0.2471 - accuracy: 0.8949\n"
     ]
    }
   ],
   "source": [
    "numeric_batches = numeric_dataset.shuffle(1000).batch(BATCH_SIZE)\n",
    "\n",
    "model = get_basic_model()\n",
    "history = model.fit(numeric_batches, epochs=90)"
   ],
   "metadata": {
    "collapsed": false,
    "ExecuteTime": {
     "end_time": "2023-09-16T12:39:20.866943400Z",
     "start_time": "2023-09-16T12:39:12.649944600Z"
    }
   }
  },
  {
   "cell_type": "code",
   "execution_count": 243,
   "outputs": [
    {
     "ename": "NameError",
     "evalue": "name 'plt' is not defined",
     "output_type": "error",
     "traceback": [
      "\u001B[1;31m---------------------------------------------------------------------------\u001B[0m",
      "\u001B[1;31mNameError\u001B[0m                                 Traceback (most recent call last)",
      "Cell \u001B[1;32mIn[243], line 1\u001B[0m\n\u001B[1;32m----> 1\u001B[0m \u001B[43mplt\u001B[49m\u001B[38;5;241m.\u001B[39mplot(history\u001B[38;5;241m.\u001B[39mhistory[\u001B[38;5;124m'\u001B[39m\u001B[38;5;124maccuracy\u001B[39m\u001B[38;5;124m'\u001B[39m], label\u001B[38;5;241m=\u001B[39m\u001B[38;5;124m'\u001B[39m\u001B[38;5;124maccuracy\u001B[39m\u001B[38;5;124m'\u001B[39m)\n\u001B[0;32m      2\u001B[0m \u001B[38;5;66;03m# plt.plot(history.history['val_accuracy'], label = 'val_accuracy')\u001B[39;00m\n\u001B[0;32m      3\u001B[0m plt\u001B[38;5;241m.\u001B[39mxlabel(\u001B[38;5;124m'\u001B[39m\u001B[38;5;124mEpoch\u001B[39m\u001B[38;5;124m'\u001B[39m)\n",
      "\u001B[1;31mNameError\u001B[0m: name 'plt' is not defined"
     ]
    }
   ],
   "source": [
    "plt.plot(history.history['accuracy'], label='accuracy')\n",
    "# plt.plot(history.history['val_accuracy'], label = 'val_accuracy')\n",
    "plt.xlabel('Epoch')\n",
    "plt.ylabel('Accuracy')\n",
    "plt.ylim([0, 1])\n",
    "plt.legend(loc='lower right')\n",
    "\n",
    "# 💀💀💀💀💀💀💀💀💀"
   ],
   "metadata": {
    "collapsed": false,
    "ExecuteTime": {
     "end_time": "2023-09-16T07:57:00.347082100Z",
     "start_time": "2023-09-16T07:57:00.291083200Z"
    }
   }
  },
  {
   "cell_type": "code",
   "execution_count": 47,
   "outputs": [
    {
     "name": "stdout",
     "output_type": "stream",
     "text": [
      "<class 'pandas.core.frame.DataFrame'>\n",
      "       LeadTime  ArrivalYear  ArrivalMonth  ArrivalDate  NumWeekendNights  \\\n",
      "0            10         2018             3           31                 0   \n",
      "1           116         2018             2           28                 2   \n",
      "2            11         2018             7           25                 1   \n",
      "3             3         2017             9           12                 0   \n",
      "4            28         2018             3            7                 1   \n",
      "...         ...          ...           ...          ...               ...   \n",
      "29015         2         2018            11           21                 1   \n",
      "29016        18         2018             4           12                 0   \n",
      "29017         8         2017             9           29                 0   \n",
      "29018        20         2018             9           18                 2   \n",
      "29019       274         2018             7           31                 2   \n",
      "\n",
      "       NumWeekNights  MealPlan  Parking  RoomType  NumAdults  NumChildren  \\\n",
      "0                  1         0        0         0          1            0   \n",
      "1                  1         0        0         0          1            0   \n",
      "2                  2         0        0         0          2            1   \n",
      "3                  1         0        0         0          2            0   \n",
      "4                  3         0        0         0          2            0   \n",
      "...              ...       ...      ...       ...        ...          ...   \n",
      "29015              2         0        0         0          1            0   \n",
      "29016              2         3        0         0          2            0   \n",
      "29017              3         0        0         0          1            0   \n",
      "29018              2         0        0         0          1            0   \n",
      "29019              1         0        0         1          2            0   \n",
      "\n",
      "       MarketSegment  RepeatedGuest  NumPrevCancellations  \\\n",
      "0                  2              0                     0   \n",
      "1                  4              0                     0   \n",
      "2                  4              0                     0   \n",
      "3                  4              0                     0   \n",
      "4                  3              0                     0   \n",
      "...              ...            ...                   ...   \n",
      "29015              4              0                     0   \n",
      "29016              4              0                     0   \n",
      "29017              2              0                     0   \n",
      "29018              3              0                     0   \n",
      "29019              4              0                     0   \n",
      "\n",
      "       NumPreviousNonCancelled  AvgRoomPrice  SpecialRequests  \n",
      "0                            0            95                0  \n",
      "1                            0            61                0  \n",
      "2                            0           129                1  \n",
      "3                            0           152                3  \n",
      "4                            0            87                0  \n",
      "...                        ...           ...              ...  \n",
      "29015                        0           100                1  \n",
      "29016                        0           119                1  \n",
      "29017                        0            65                0  \n",
      "29018                        0            90                0  \n",
      "29019                        0            96                1  \n",
      "\n",
      "[29020 rows x 17 columns]\n",
      "1/1 [==============================] - 0s 65ms/step\n",
      "asdf\n",
      "[0.39277416 0.7548501 ]: Canceled\n",
      "Predicted: not_canceled\n",
      "[0.6867731  0.26358438]: Canceled\n",
      "Predicted: cancled\n",
      "[0.34898084 0.82999235]: Not_Canceled\n",
      "Predicted: not_canceled\n",
      "[7.94646e-04 1.00000e+00]: Not_Canceled\n",
      "Predicted: not_canceled\n",
      "[0.15628146 0.98875374]: Not_Canceled\n",
      "Predicted: not_canceled\n",
      "[9.9995601e-01 1.6352764e-06]: Canceled\n",
      "Predicted: cancled\n",
      "[0.42184302 0.6676913 ]: Not_Canceled\n",
      "Predicted: not_canceled\n",
      "[0.08235473 0.9984864 ]: Not_Canceled\n",
      "Predicted: not_canceled\n",
      "[0.983537   0.00467323]: Canceled\n",
      "Predicted: cancled\n",
      "[0.32572675 0.84828115]: Not_Canceled\n",
      "Predicted: not_canceled\n",
      "[0.0406679  0.99982685]: Not_Canceled\n",
      "Predicted: not_canceled\n",
      "[0.37252697 0.78271157]: Not_Canceled\n",
      "Predicted: not_canceled\n",
      "[0.5947372  0.38173053]: Canceled\n",
      "Predicted: cancled\n",
      "[0.8852312  0.06146049]: Canceled\n",
      "Predicted: cancled\n",
      "[0.39846635 0.73197794]: Not_Canceled\n",
      "Predicted: not_canceled\n",
      "[0.39028665 0.73795986]: Not_Canceled\n",
      "Predicted: not_canceled\n",
      "[0.41292304 0.6932778 ]: Not_Canceled\n",
      "Predicted: not_canceled\n",
      "[0.1311401  0.99237466]: Not_Canceled\n",
      "Predicted: not_canceled\n",
      "[0.5762995  0.41764417]: Canceled\n",
      "Predicted: cancled\n"
     ]
    }
   ],
   "source": [
    "# pd.DataFrame(numeric_features.numpy())\n",
    "print(type(numeric_features))\n",
    "print(numeric_features)\n",
    "predictions = model.predict(np.array(numeric_features.iloc[:20]))\n",
    "\n",
    "print(\"asdf\")\n",
    "\n",
    "lst = [\"Canceled\",\n",
    "\"Canceled\",\n",
    "\"Not_Canceled\",\n",
    "\"Not_Canceled\",\n",
    "\"Not_Canceled\",\n",
    "\"Canceled\",\n",
    "\"Not_Canceled\",\n",
    "\"Not_Canceled\",\n",
    "\"Canceled\",\n",
    "\"Not_Canceled\",\n",
    "\"Not_Canceled\",\n",
    "\"Not_Canceled\",\n",
    "\"Canceled\",\n",
    "\"Canceled\",\n",
    "\"Not_Canceled\",\n",
    "\"Not_Canceled\",\n",
    "\"Not_Canceled\",\n",
    "\"Not_Canceled\",\n",
    "\"Canceled\"]\n",
    "# print(predictions)\n",
    "\n",
    "for i in range(len(predictions)-1):\n",
    "    print(f\"{predictions[i]}: {lst[i]}\")\n",
    "    if predictions[i][0] > predictions[i][1]:\n",
    "        print(\"Predicted: cancled\")\n",
    "    else:\n",
    "        print(\"Predicted: not_canceled\")\n"
   ],
   "metadata": {
    "collapsed": false,
    "ExecuteTime": {
     "end_time": "2023-09-16T12:39:25.399944Z",
     "start_time": "2023-09-16T12:39:25.290943800Z"
    }
   }
  },
  {
   "cell_type": "code",
   "execution_count": 11,
   "outputs": [
    {
     "data": {
      "text/plain": "'C:\\\\Users\\\\Kevin Tang\\\\Documents\\\\HackTheNorth2023\\\\AI'"
     },
     "execution_count": 11,
     "metadata": {},
     "output_type": "execute_result"
    }
   ],
   "source": [
    "pwd"
   ],
   "metadata": {
    "collapsed": false,
    "ExecuteTime": {
     "end_time": "2023-09-16T12:33:23.142036300Z",
     "start_time": "2023-09-16T12:33:23.091035100Z"
    }
   }
  },
  {
   "cell_type": "code",
   "execution_count": 63,
   "outputs": [
    {
     "name": "stdout",
     "output_type": "stream",
     "text": [
      "17\n",
      "17\n",
      "227/227 [==============================] - 0s 549us/step\n"
     ]
    }
   ],
   "source": [
    "DATA_PATH = \"dataset/updated_test_data.csv\"\n",
    "\n",
    "# prediction\n",
    "REMOVED_COL = \"BookingID\"\n",
    "PREDICT_COL = \"BookingStatus\"\n",
    "\n",
    "df = pd.read_csv(DATA_PATH)\n",
    "df = df.drop(REMOVED_COL, axis=1) # axis: 0 for row, 1 for column\n",
    "# target = df.drop(PREDICT_COL)\n",
    "\n",
    "for col in df.columns:\n",
    "    if not all(isinstance(x, (int, float)) for x in df[col]):\n",
    "        lst = np.unique(df[col].astype(str))\n",
    "        for i in range(len(lst)):\n",
    "            df[col] = df[col].replace(lst[i], i)\n",
    "\n",
    "\n",
    "# target = df.drop(PREDICT_COL)\n",
    "print(len(numeric_feature_names))\n",
    "df = df.astype('int')\n",
    "numeric_feature_names = [name for name in df.columns]\n",
    "print(len(numeric_feature_names))\n",
    "\n",
    "numeric_features = df[numeric_feature_names]\n",
    "numeric_features.head()\n",
    "tf.convert_to_tensor(numeric_features)\n",
    "normalizer = tf.keras.layers.Normalization(axis=-1)\n",
    "normalizer.adapt(numeric_features.to_numpy())\n",
    "\n",
    "\n",
    "# new_model = tf.keras.models.load_model('../backend/local/UAQ3GzHi8TNmOS9qjtnEroOcIuy2/model_ac699aad-290c-47bc-8f7c-a80eb84b0b01/model.keras')\n",
    "\n",
    "new_model = tf.keras.models.load_model('../backend/local/UAQ3GzHi8TNmOS9qjtnEroOcIuy2/model_ac699aad-290c-47bc-8f7c-a80eb84b0b01/model')\n",
    "\n",
    "# new_model.load_weights('../backend/local/UAQ3GzHi8TNmOS9qjtnEroOcIuy2/model_ac699aad-290c-47bc-8f7c-a80eb84b0b01/model')\n",
    "\n",
    "predictions = new_model.predict(np.array(numeric_features))\n",
    "\n"
   ],
   "metadata": {
    "collapsed": false,
    "ExecuteTime": {
     "end_time": "2023-09-16T13:45:21.921604400Z",
     "start_time": "2023-09-16T13:45:21.216632100Z"
    }
   }
  },
  {
   "cell_type": "code",
   "execution_count": 58,
   "outputs": [
    {
     "name": "stdout",
     "output_type": "stream",
     "text": [
      "[[0.15406722 0.9829524 ]\n",
      " [0.16708525 0.9810974 ]\n",
      " [0.02197331 0.99994904]\n",
      " ...\n",
      " [0.0456804  0.99965805]\n",
      " [0.07709794 0.99846077]\n",
      " [0.09470014 0.9967107 ]]\n"
     ]
    }
   ],
   "source": [
    "print(predictions)"
   ],
   "metadata": {
    "collapsed": false,
    "ExecuteTime": {
     "end_time": "2023-09-16T13:28:43.300367600Z",
     "start_time": "2023-09-16T13:28:43.293365400Z"
    }
   }
  },
  {
   "cell_type": "code",
   "execution_count": 57,
   "outputs": [],
   "source": [],
   "metadata": {
    "collapsed": false,
    "ExecuteTime": {
     "end_time": "2023-09-16T13:28:39.311581900Z",
     "start_time": "2023-09-16T13:28:39.300582300Z"
    }
   }
  },
  {
   "cell_type": "code",
   "execution_count": 57,
   "outputs": [],
   "source": [],
   "metadata": {
    "collapsed": false,
    "ExecuteTime": {
     "end_time": "2023-09-16T13:28:40.554513900Z",
     "start_time": "2023-09-16T13:28:40.543514400Z"
    }
   }
  },
  {
   "cell_type": "code",
   "execution_count": null,
   "outputs": [],
   "source": [],
   "metadata": {
    "collapsed": false
   }
  }
 ],
 "metadata": {
  "kernelspec": {
   "display_name": "Python 3",
   "language": "python",
   "name": "python3"
  },
  "language_info": {
   "codemirror_mode": {
    "name": "ipython",
    "version": 2
   },
   "file_extension": ".py",
   "mimetype": "text/x-python",
   "name": "python",
   "nbconvert_exporter": "python",
   "pygments_lexer": "ipython2",
   "version": "2.7.6"
  }
 },
 "nbformat": 4,
 "nbformat_minor": 0
}
