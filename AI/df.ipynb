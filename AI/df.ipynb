{
 "cells": [
  {
   "cell_type": "code",
   "execution_count": 18,
   "metadata": {
    "collapsed": true,
    "ExecuteTime": {
     "end_time": "2023-09-16T12:37:54.500945300Z",
     "start_time": "2023-09-16T12:37:54.493943800Z"
    }
   },
   "outputs": [],
   "source": [
    "import os\n",
    "import tensorflow as tf\n",
    "import pandas as pd"
   ]
  },
  {
   "cell_type": "code",
   "execution_count": 19,
   "outputs": [],
   "source": [
    "import numpy as np\n",
    "import shutil\n",
    "import matplotlib\n",
    "import matplotlib.pyplot as plt\n"
   ],
   "metadata": {
    "collapsed": false,
    "ExecuteTime": {
     "end_time": "2023-09-16T12:37:54.993943Z",
     "start_time": "2023-09-16T12:37:54.985944400Z"
    }
   }
  },
  {
   "cell_type": "code",
   "execution_count": 20,
   "outputs": [
    {
     "data": {
      "text/plain": "'C:\\\\Users\\\\Kevin Tang\\\\Documents\\\\HackTheNorth2023\\\\AI'"
     },
     "execution_count": 20,
     "metadata": {},
     "output_type": "execute_result"
    }
   ],
   "source": [
    "pwd"
   ],
   "metadata": {
    "collapsed": false,
    "ExecuteTime": {
     "end_time": "2023-09-16T12:37:55.481944100Z",
     "start_time": "2023-09-16T12:37:55.463943600Z"
    }
   }
  },
  {
   "cell_type": "markdown",
   "source": [],
   "metadata": {
    "collapsed": false
   }
  },
  {
   "cell_type": "code",
   "execution_count": 21,
   "outputs": [],
   "source": [
    "SHUFFLE_BUFFER = 500\n",
    "BATCH_SIZE = 1024"
   ],
   "metadata": {
    "collapsed": false,
    "ExecuteTime": {
     "end_time": "2023-09-16T12:37:56.300943800Z",
     "start_time": "2023-09-16T12:37:56.277944300Z"
    }
   }
  },
  {
   "cell_type": "code",
   "execution_count": 22,
   "outputs": [],
   "source": [
    "DATA_PATH = \"dataset/train_data.csv\"\n",
    "TEST_PATH = \"dataset/test_data.csv\""
   ],
   "metadata": {
    "collapsed": false,
    "ExecuteTime": {
     "end_time": "2023-09-16T12:37:56.786944200Z",
     "start_time": "2023-09-16T12:37:56.776944Z"
    }
   }
  },
  {
   "cell_type": "code",
   "execution_count": 23,
   "outputs": [
    {
     "data": {
      "text/plain": "3"
     },
     "execution_count": 23,
     "metadata": {},
     "output_type": "execute_result"
    }
   ],
   "source": [
    "df = pd.DataFrame([[0, 2, 3], [0, 4, 1], [10, 20, 30]])\n",
    "df.at[0, 2]"
   ],
   "metadata": {
    "collapsed": false,
    "ExecuteTime": {
     "end_time": "2023-09-16T12:37:57.210943200Z",
     "start_time": "2023-09-16T12:37:57.201945Z"
    }
   }
  },
  {
   "cell_type": "code",
   "execution_count": 24,
   "outputs": [
    {
     "name": "stdout",
     "output_type": "stream",
     "text": [
      "       BookingID  LeadTime  ArrivalYear  ArrivalMonth  ArrivalDate  \\\n",
      "0              1        10         2018             3           31   \n",
      "1              2       116         2018             2           28   \n",
      "2              3        11         2018             7           25   \n",
      "3              4         3         2017             9           12   \n",
      "4              5        28         2018             3            7   \n",
      "...          ...       ...          ...           ...          ...   \n",
      "29015      29016         2         2018            11           21   \n",
      "29016      29017        18         2018             4           12   \n",
      "29017      29018         8         2017             9           29   \n",
      "29018      29019        20         2018             9           18   \n",
      "29019      29020       274         2018             7           31   \n",
      "\n",
      "       NumWeekendNights  NumWeekNights      MealPlan  Parking     RoomType  \\\n",
      "0                     0              1   Meal Plan 1        0  Room_Type 1   \n",
      "1                     2              1   Meal Plan 1        0  Room_Type 1   \n",
      "2                     1              2   Meal Plan 1        0  Room_Type 1   \n",
      "3                     0              1   Meal Plan 1        0  Room_Type 1   \n",
      "4                     1              3   Meal Plan 1        0  Room_Type 1   \n",
      "...                 ...            ...           ...      ...          ...   \n",
      "29015                 1              2   Meal Plan 1        0  Room_Type 1   \n",
      "29016                 0              2  Not Selected        0  Room_Type 1   \n",
      "29017                 0              3   Meal Plan 1        0  Room_Type 1   \n",
      "29018                 2              2   Meal Plan 1        0  Room_Type 1   \n",
      "29019                 2              1   Meal Plan 1        0  Room_Type 2   \n",
      "\n",
      "       NumAdults  NumChildren MarketSegment  RepeatedGuest  \\\n",
      "0              1            0     Corporate              0   \n",
      "1              1            0        Online              0   \n",
      "2              2            1        Online              0   \n",
      "3              2            0        Online              0   \n",
      "4              2            0       Offline              0   \n",
      "...          ...          ...           ...            ...   \n",
      "29015          1            0        Online              0   \n",
      "29016          2            0        Online              0   \n",
      "29017          1            0     Corporate              0   \n",
      "29018          1            0       Offline              0   \n",
      "29019          2            0        Online              0   \n",
      "\n",
      "       NumPrevCancellations  NumPreviousNonCancelled  AvgRoomPrice  \\\n",
      "0                         0                        0         95.00   \n",
      "1                         0                        0         61.00   \n",
      "2                         0                        0        129.75   \n",
      "3                         0                        0        152.00   \n",
      "4                         0                        0         87.00   \n",
      "...                     ...                      ...           ...   \n",
      "29015                     0                        0        100.67   \n",
      "29016                     0                        0        119.00   \n",
      "29017                     0                        0         65.00   \n",
      "29018                     0                        0         90.00   \n",
      "29019                     0                        0         96.50   \n",
      "\n",
      "       SpecialRequests BookingStatus  \n",
      "0                    0      Canceled  \n",
      "1                    0      Canceled  \n",
      "2                    1  Not_Canceled  \n",
      "3                    3  Not_Canceled  \n",
      "4                    0  Not_Canceled  \n",
      "...                ...           ...  \n",
      "29015                1  Not_Canceled  \n",
      "29016                1  Not_Canceled  \n",
      "29017                0  Not_Canceled  \n",
      "29018                0      Canceled  \n",
      "29019                1  Not_Canceled  \n",
      "\n",
      "[29020 rows x 19 columns]\n"
     ]
    }
   ],
   "source": [
    "df = pd.read_csv(DATA_PATH)\n",
    "print(df)"
   ],
   "metadata": {
    "collapsed": false,
    "ExecuteTime": {
     "end_time": "2023-09-16T12:37:57.836945700Z",
     "start_time": "2023-09-16T12:37:57.771945Z"
    }
   }
  },
  {
   "cell_type": "code",
   "execution_count": 25,
   "outputs": [
    {
     "name": "stdout",
     "output_type": "stream",
     "text": [
      "29020\n"
     ]
    },
    {
     "data": {
      "text/plain": "       LeadTime  ArrivalYear  ArrivalMonth  ArrivalDate  NumWeekendNights  \\\n0            10           18             3           31                 0   \n1           116           18             2           28                 2   \n2            11           18             7           25                 1   \n3             3           17             9           12                 0   \n4            28           18             3            7                 1   \n...         ...          ...           ...          ...               ...   \n29015         2           18            11           21                 1   \n29016        18           18             4           12                 0   \n29017         8           17             9           29                 0   \n29018        20           18             9           18                 2   \n29019       274           18             7           31                 2   \n\n       NumWeekNights MealPlan  Parking RoomType  NumAdults  NumChildren  \\\n0                  1        1        0        1          1            0   \n1                  1        1        0        1          1            0   \n2                  2        1        0        1          2            1   \n3                  1        1        0        1          2            0   \n4                  3        1        0        1          2            0   \n...              ...      ...      ...      ...        ...          ...   \n29015              2        1        0        1          1            0   \n29016              2        0        0        1          2            0   \n29017              3        1        0        1          1            0   \n29018              2        1        0        1          1            0   \n29019              1        1        0        2          2            0   \n\n      MarketSegment  RepeatedGuest  NumPrevCancellations  \\\n0                 3              0                     0   \n1                 5              0                     0   \n2                 5              0                     0   \n3                 5              0                     0   \n4                 4              0                     0   \n...             ...            ...                   ...   \n29015             5              0                     0   \n29016             5              0                     0   \n29017             3              0                     0   \n29018             4              0                     0   \n29019             5              0                     0   \n\n       NumPreviousNonCancelled  AvgRoomPrice  SpecialRequests  \n0                            0         95.00                0  \n1                            0         61.00                0  \n2                            0        129.75                1  \n3                            0        152.00                3  \n4                            0         87.00                0  \n...                        ...           ...              ...  \n29015                        0        100.67                1  \n29016                        0        119.00                1  \n29017                        0         65.00                0  \n29018                        0         90.00                0  \n29019                        0         96.50                1  \n\n[29020 rows x 17 columns]",
      "text/html": "<div>\n<style scoped>\n    .dataframe tbody tr th:only-of-type {\n        vertical-align: middle;\n    }\n\n    .dataframe tbody tr th {\n        vertical-align: top;\n    }\n\n    .dataframe thead th {\n        text-align: right;\n    }\n</style>\n<table border=\"1\" class=\"dataframe\">\n  <thead>\n    <tr style=\"text-align: right;\">\n      <th></th>\n      <th>LeadTime</th>\n      <th>ArrivalYear</th>\n      <th>ArrivalMonth</th>\n      <th>ArrivalDate</th>\n      <th>NumWeekendNights</th>\n      <th>NumWeekNights</th>\n      <th>MealPlan</th>\n      <th>Parking</th>\n      <th>RoomType</th>\n      <th>NumAdults</th>\n      <th>NumChildren</th>\n      <th>MarketSegment</th>\n      <th>RepeatedGuest</th>\n      <th>NumPrevCancellations</th>\n      <th>NumPreviousNonCancelled</th>\n      <th>AvgRoomPrice</th>\n      <th>SpecialRequests</th>\n    </tr>\n  </thead>\n  <tbody>\n    <tr>\n      <th>0</th>\n      <td>10</td>\n      <td>18</td>\n      <td>3</td>\n      <td>31</td>\n      <td>0</td>\n      <td>1</td>\n      <td>1</td>\n      <td>0</td>\n      <td>1</td>\n      <td>1</td>\n      <td>0</td>\n      <td>3</td>\n      <td>0</td>\n      <td>0</td>\n      <td>0</td>\n      <td>95.00</td>\n      <td>0</td>\n    </tr>\n    <tr>\n      <th>1</th>\n      <td>116</td>\n      <td>18</td>\n      <td>2</td>\n      <td>28</td>\n      <td>2</td>\n      <td>1</td>\n      <td>1</td>\n      <td>0</td>\n      <td>1</td>\n      <td>1</td>\n      <td>0</td>\n      <td>5</td>\n      <td>0</td>\n      <td>0</td>\n      <td>0</td>\n      <td>61.00</td>\n      <td>0</td>\n    </tr>\n    <tr>\n      <th>2</th>\n      <td>11</td>\n      <td>18</td>\n      <td>7</td>\n      <td>25</td>\n      <td>1</td>\n      <td>2</td>\n      <td>1</td>\n      <td>0</td>\n      <td>1</td>\n      <td>2</td>\n      <td>1</td>\n      <td>5</td>\n      <td>0</td>\n      <td>0</td>\n      <td>0</td>\n      <td>129.75</td>\n      <td>1</td>\n    </tr>\n    <tr>\n      <th>3</th>\n      <td>3</td>\n      <td>17</td>\n      <td>9</td>\n      <td>12</td>\n      <td>0</td>\n      <td>1</td>\n      <td>1</td>\n      <td>0</td>\n      <td>1</td>\n      <td>2</td>\n      <td>0</td>\n      <td>5</td>\n      <td>0</td>\n      <td>0</td>\n      <td>0</td>\n      <td>152.00</td>\n      <td>3</td>\n    </tr>\n    <tr>\n      <th>4</th>\n      <td>28</td>\n      <td>18</td>\n      <td>3</td>\n      <td>7</td>\n      <td>1</td>\n      <td>3</td>\n      <td>1</td>\n      <td>0</td>\n      <td>1</td>\n      <td>2</td>\n      <td>0</td>\n      <td>4</td>\n      <td>0</td>\n      <td>0</td>\n      <td>0</td>\n      <td>87.00</td>\n      <td>0</td>\n    </tr>\n    <tr>\n      <th>...</th>\n      <td>...</td>\n      <td>...</td>\n      <td>...</td>\n      <td>...</td>\n      <td>...</td>\n      <td>...</td>\n      <td>...</td>\n      <td>...</td>\n      <td>...</td>\n      <td>...</td>\n      <td>...</td>\n      <td>...</td>\n      <td>...</td>\n      <td>...</td>\n      <td>...</td>\n      <td>...</td>\n      <td>...</td>\n    </tr>\n    <tr>\n      <th>29015</th>\n      <td>2</td>\n      <td>18</td>\n      <td>11</td>\n      <td>21</td>\n      <td>1</td>\n      <td>2</td>\n      <td>1</td>\n      <td>0</td>\n      <td>1</td>\n      <td>1</td>\n      <td>0</td>\n      <td>5</td>\n      <td>0</td>\n      <td>0</td>\n      <td>0</td>\n      <td>100.67</td>\n      <td>1</td>\n    </tr>\n    <tr>\n      <th>29016</th>\n      <td>18</td>\n      <td>18</td>\n      <td>4</td>\n      <td>12</td>\n      <td>0</td>\n      <td>2</td>\n      <td>0</td>\n      <td>0</td>\n      <td>1</td>\n      <td>2</td>\n      <td>0</td>\n      <td>5</td>\n      <td>0</td>\n      <td>0</td>\n      <td>0</td>\n      <td>119.00</td>\n      <td>1</td>\n    </tr>\n    <tr>\n      <th>29017</th>\n      <td>8</td>\n      <td>17</td>\n      <td>9</td>\n      <td>29</td>\n      <td>0</td>\n      <td>3</td>\n      <td>1</td>\n      <td>0</td>\n      <td>1</td>\n      <td>1</td>\n      <td>0</td>\n      <td>3</td>\n      <td>0</td>\n      <td>0</td>\n      <td>0</td>\n      <td>65.00</td>\n      <td>0</td>\n    </tr>\n    <tr>\n      <th>29018</th>\n      <td>20</td>\n      <td>18</td>\n      <td>9</td>\n      <td>18</td>\n      <td>2</td>\n      <td>2</td>\n      <td>1</td>\n      <td>0</td>\n      <td>1</td>\n      <td>1</td>\n      <td>0</td>\n      <td>4</td>\n      <td>0</td>\n      <td>0</td>\n      <td>0</td>\n      <td>90.00</td>\n      <td>0</td>\n    </tr>\n    <tr>\n      <th>29019</th>\n      <td>274</td>\n      <td>18</td>\n      <td>7</td>\n      <td>31</td>\n      <td>2</td>\n      <td>1</td>\n      <td>1</td>\n      <td>0</td>\n      <td>2</td>\n      <td>2</td>\n      <td>0</td>\n      <td>5</td>\n      <td>0</td>\n      <td>0</td>\n      <td>0</td>\n      <td>96.50</td>\n      <td>1</td>\n    </tr>\n  </tbody>\n</table>\n<p>29020 rows × 17 columns</p>\n</div>"
     },
     "execution_count": 25,
     "metadata": {},
     "output_type": "execute_result"
    }
   ],
   "source": [
    "df = pd.read_csv(DATA_PATH)\n",
    "\n",
    "df = df.drop('BookingID', axis=1) # axis: 0 for row, 1 for column\n",
    "\n",
    "print(len(df))\n",
    "\n",
    "for i in range(len(df)):\n",
    "    # ARRIVAL YEAR\n",
    "    df.at[i, \"ArrivalYear\"] = df.at[i, \"ArrivalYear\"] % 2000\n",
    "\n",
    "    # MEAL PARSING\n",
    "    if df.at[i, \"MealPlan\"].startswith(\"Not\"):\n",
    "        df.at[i, \"MealPlan\"] = 0\n",
    "    else:\n",
    "        df.at[i, \"MealPlan\"] = df.at[i, \"MealPlan\"].split()[-1]\n",
    "\n",
    "    # ROOM TYPE\n",
    "    df.at[i, \"RoomType\"] = df.at[i, \"RoomType\"].split()[-1]\n",
    "\n",
    "    # MARKET SEGMENT\n",
    "    if df.at[i, \"MarketSegment\"] == \"Online\":\n",
    "        df.at[i, \"MarketSegment\"] = 5\n",
    "    elif df.at[i, \"MarketSegment\"] == \"Offline\":\n",
    "        df.at[i, \"MarketSegment\"] = 4\n",
    "    elif df.at[i, \"MarketSegment\"] == \"Corporate\":\n",
    "        df.at[i, \"MarketSegment\"] = 3\n",
    "    elif df.at[i, \"MarketSegment\"] == \"Complementary\":\n",
    "        df.at[i, \"MarketSegment\"] = 2\n",
    "    elif df.at[i, \"MarketSegment\"] == \"Aviation\":\n",
    "        df.at[i, \"MarketSegment\"] = 1\n",
    "    else:\n",
    "        print(\"Recheck data.\")\n",
    "\n",
    "    # BOOKING STATUS\n",
    "    if df.at[i, \"BookingStatus\"] == \"Canceled\":\n",
    "        df.at[i, \"BookingStatus\"] = 0\n",
    "    elif df.at[i, \"BookingStatus\"] == \"Not_Canceled\":\n",
    "        df.at[i, \"BookingStatus\"] = 1\n",
    "\n",
    "# BOOKING STATUS\n",
    "target = df.pop(\"BookingStatus\")\n",
    "df"
   ],
   "metadata": {
    "collapsed": false,
    "ExecuteTime": {
     "end_time": "2023-09-16T12:38:02.323943900Z",
     "start_time": "2023-09-16T12:37:58.241943400Z"
    }
   }
  },
  {
   "cell_type": "markdown",
   "source": [
    "# Normalizing the dataframe"
   ],
   "metadata": {
    "collapsed": false
   }
  },
  {
   "cell_type": "code",
   "execution_count": 26,
   "outputs": [
    {
     "name": "stdout",
     "output_type": "stream",
     "text": [
      "0        0\n",
      "1        0\n",
      "2        1\n",
      "3        1\n",
      "4        1\n",
      "        ..\n",
      "29015    1\n",
      "29016    1\n",
      "29017    1\n",
      "29018    0\n",
      "29019    1\n",
      "Name: BookingStatus, Length: 29020, dtype: int64\n",
      "[(0, 'Canceled'), (1, 'Not_Canceled')]\n"
     ]
    },
    {
     "data": {
      "text/plain": "       LeadTime  ArrivalYear  ArrivalMonth  ArrivalDate  NumWeekendNights  \\\n0            10         2018             3           31                 0   \n1           116         2018             2           28                 2   \n2            11         2018             7           25                 1   \n3             3         2017             9           12                 0   \n4            28         2018             3            7                 1   \n...         ...          ...           ...          ...               ...   \n29015         2         2018            11           21                 1   \n29016        18         2018             4           12                 0   \n29017         8         2017             9           29                 0   \n29018        20         2018             9           18                 2   \n29019       274         2018             7           31                 2   \n\n       NumWeekNights  MealPlan  Parking  RoomType  NumAdults  NumChildren  \\\n0                  1         0        0         0          1            0   \n1                  1         0        0         0          1            0   \n2                  2         0        0         0          2            1   \n3                  1         0        0         0          2            0   \n4                  3         0        0         0          2            0   \n...              ...       ...      ...       ...        ...          ...   \n29015              2         0        0         0          1            0   \n29016              2         3        0         0          2            0   \n29017              3         0        0         0          1            0   \n29018              2         0        0         0          1            0   \n29019              1         0        0         1          2            0   \n\n       MarketSegment  RepeatedGuest  NumPrevCancellations  \\\n0                  2              0                     0   \n1                  4              0                     0   \n2                  4              0                     0   \n3                  4              0                     0   \n4                  3              0                     0   \n...              ...            ...                   ...   \n29015              4              0                     0   \n29016              4              0                     0   \n29017              2              0                     0   \n29018              3              0                     0   \n29019              4              0                     0   \n\n       NumPreviousNonCancelled  AvgRoomPrice  SpecialRequests  \n0                            0         95.00                0  \n1                            0         61.00                0  \n2                            0        129.75                1  \n3                            0        152.00                3  \n4                            0         87.00                0  \n...                        ...           ...              ...  \n29015                        0        100.67                1  \n29016                        0        119.00                1  \n29017                        0         65.00                0  \n29018                        0         90.00                0  \n29019                        0         96.50                1  \n\n[29020 rows x 17 columns]",
      "text/html": "<div>\n<style scoped>\n    .dataframe tbody tr th:only-of-type {\n        vertical-align: middle;\n    }\n\n    .dataframe tbody tr th {\n        vertical-align: top;\n    }\n\n    .dataframe thead th {\n        text-align: right;\n    }\n</style>\n<table border=\"1\" class=\"dataframe\">\n  <thead>\n    <tr style=\"text-align: right;\">\n      <th></th>\n      <th>LeadTime</th>\n      <th>ArrivalYear</th>\n      <th>ArrivalMonth</th>\n      <th>ArrivalDate</th>\n      <th>NumWeekendNights</th>\n      <th>NumWeekNights</th>\n      <th>MealPlan</th>\n      <th>Parking</th>\n      <th>RoomType</th>\n      <th>NumAdults</th>\n      <th>NumChildren</th>\n      <th>MarketSegment</th>\n      <th>RepeatedGuest</th>\n      <th>NumPrevCancellations</th>\n      <th>NumPreviousNonCancelled</th>\n      <th>AvgRoomPrice</th>\n      <th>SpecialRequests</th>\n    </tr>\n  </thead>\n  <tbody>\n    <tr>\n      <th>0</th>\n      <td>10</td>\n      <td>2018</td>\n      <td>3</td>\n      <td>31</td>\n      <td>0</td>\n      <td>1</td>\n      <td>0</td>\n      <td>0</td>\n      <td>0</td>\n      <td>1</td>\n      <td>0</td>\n      <td>2</td>\n      <td>0</td>\n      <td>0</td>\n      <td>0</td>\n      <td>95.00</td>\n      <td>0</td>\n    </tr>\n    <tr>\n      <th>1</th>\n      <td>116</td>\n      <td>2018</td>\n      <td>2</td>\n      <td>28</td>\n      <td>2</td>\n      <td>1</td>\n      <td>0</td>\n      <td>0</td>\n      <td>0</td>\n      <td>1</td>\n      <td>0</td>\n      <td>4</td>\n      <td>0</td>\n      <td>0</td>\n      <td>0</td>\n      <td>61.00</td>\n      <td>0</td>\n    </tr>\n    <tr>\n      <th>2</th>\n      <td>11</td>\n      <td>2018</td>\n      <td>7</td>\n      <td>25</td>\n      <td>1</td>\n      <td>2</td>\n      <td>0</td>\n      <td>0</td>\n      <td>0</td>\n      <td>2</td>\n      <td>1</td>\n      <td>4</td>\n      <td>0</td>\n      <td>0</td>\n      <td>0</td>\n      <td>129.75</td>\n      <td>1</td>\n    </tr>\n    <tr>\n      <th>3</th>\n      <td>3</td>\n      <td>2017</td>\n      <td>9</td>\n      <td>12</td>\n      <td>0</td>\n      <td>1</td>\n      <td>0</td>\n      <td>0</td>\n      <td>0</td>\n      <td>2</td>\n      <td>0</td>\n      <td>4</td>\n      <td>0</td>\n      <td>0</td>\n      <td>0</td>\n      <td>152.00</td>\n      <td>3</td>\n    </tr>\n    <tr>\n      <th>4</th>\n      <td>28</td>\n      <td>2018</td>\n      <td>3</td>\n      <td>7</td>\n      <td>1</td>\n      <td>3</td>\n      <td>0</td>\n      <td>0</td>\n      <td>0</td>\n      <td>2</td>\n      <td>0</td>\n      <td>3</td>\n      <td>0</td>\n      <td>0</td>\n      <td>0</td>\n      <td>87.00</td>\n      <td>0</td>\n    </tr>\n    <tr>\n      <th>...</th>\n      <td>...</td>\n      <td>...</td>\n      <td>...</td>\n      <td>...</td>\n      <td>...</td>\n      <td>...</td>\n      <td>...</td>\n      <td>...</td>\n      <td>...</td>\n      <td>...</td>\n      <td>...</td>\n      <td>...</td>\n      <td>...</td>\n      <td>...</td>\n      <td>...</td>\n      <td>...</td>\n      <td>...</td>\n    </tr>\n    <tr>\n      <th>29015</th>\n      <td>2</td>\n      <td>2018</td>\n      <td>11</td>\n      <td>21</td>\n      <td>1</td>\n      <td>2</td>\n      <td>0</td>\n      <td>0</td>\n      <td>0</td>\n      <td>1</td>\n      <td>0</td>\n      <td>4</td>\n      <td>0</td>\n      <td>0</td>\n      <td>0</td>\n      <td>100.67</td>\n      <td>1</td>\n    </tr>\n    <tr>\n      <th>29016</th>\n      <td>18</td>\n      <td>2018</td>\n      <td>4</td>\n      <td>12</td>\n      <td>0</td>\n      <td>2</td>\n      <td>3</td>\n      <td>0</td>\n      <td>0</td>\n      <td>2</td>\n      <td>0</td>\n      <td>4</td>\n      <td>0</td>\n      <td>0</td>\n      <td>0</td>\n      <td>119.00</td>\n      <td>1</td>\n    </tr>\n    <tr>\n      <th>29017</th>\n      <td>8</td>\n      <td>2017</td>\n      <td>9</td>\n      <td>29</td>\n      <td>0</td>\n      <td>3</td>\n      <td>0</td>\n      <td>0</td>\n      <td>0</td>\n      <td>1</td>\n      <td>0</td>\n      <td>2</td>\n      <td>0</td>\n      <td>0</td>\n      <td>0</td>\n      <td>65.00</td>\n      <td>0</td>\n    </tr>\n    <tr>\n      <th>29018</th>\n      <td>20</td>\n      <td>2018</td>\n      <td>9</td>\n      <td>18</td>\n      <td>2</td>\n      <td>2</td>\n      <td>0</td>\n      <td>0</td>\n      <td>0</td>\n      <td>1</td>\n      <td>0</td>\n      <td>3</td>\n      <td>0</td>\n      <td>0</td>\n      <td>0</td>\n      <td>90.00</td>\n      <td>0</td>\n    </tr>\n    <tr>\n      <th>29019</th>\n      <td>274</td>\n      <td>2018</td>\n      <td>7</td>\n      <td>31</td>\n      <td>2</td>\n      <td>1</td>\n      <td>0</td>\n      <td>0</td>\n      <td>1</td>\n      <td>2</td>\n      <td>0</td>\n      <td>4</td>\n      <td>0</td>\n      <td>0</td>\n      <td>0</td>\n      <td>96.50</td>\n      <td>1</td>\n    </tr>\n  </tbody>\n</table>\n<p>29020 rows × 17 columns</p>\n</div>"
     },
     "execution_count": 26,
     "metadata": {},
     "output_type": "execute_result"
    }
   ],
   "source": [
    "REMOVED_COL = \"BookingID\"\n",
    "PREDICT_COL = \"BookingStatus\"\n",
    "ENCODING = []\n",
    "\n",
    "df = pd.read_csv(DATA_PATH)\n",
    "df = df.drop(REMOVED_COL, axis=1) # axis: 0 for row, 1 for column\n",
    "\n",
    "\n",
    "for col in df.columns:\n",
    "    if not all(isinstance(x, (int, float)) for x in df[col]):\n",
    "        lst = np.unique(df[col].astype(str))\n",
    "        if col == PREDICT_COL:\n",
    "            for i in range(len(lst)):\n",
    "                ENCODING.append((i, lst[i]))\n",
    "        for i in range(len(lst)):\n",
    "            df[col] = df[col].replace(lst[i], i)\n",
    "        lst = []\n",
    "\n",
    "\n",
    "target = df.pop(PREDICT_COL)\n",
    "print(target)\n",
    "print(ENCODING)\n",
    "df"
   ],
   "metadata": {
    "collapsed": false,
    "ExecuteTime": {
     "end_time": "2023-09-16T12:38:08.051946500Z",
     "start_time": "2023-09-16T12:38:07.898944900Z"
    }
   }
  },
  {
   "cell_type": "code",
   "execution_count": 27,
   "outputs": [
    {
     "name": "stdout",
     "output_type": "stream",
     "text": [
      "<class 'pandas.core.series.Series'>\n"
     ]
    },
    {
     "data": {
      "text/plain": "0        0\n1        0\n2        1\n3        1\n4        1\n        ..\n29015    1\n29016    1\n29017    1\n29018    0\n29019    1\nName: BookingStatus, Length: 29020, dtype: int32"
     },
     "execution_count": 27,
     "metadata": {},
     "output_type": "execute_result"
    }
   ],
   "source": [
    "# Name: BookingStatus, Length: 29020, dtype: object\n",
    "# dtype can't be object or will get error for normalizer(numeric_features.iloc[:3])\n",
    "target = target.astype('int')\n",
    "df = df.astype('int')\n",
    "print(type(target))\n",
    "target"
   ],
   "metadata": {
    "collapsed": false,
    "ExecuteTime": {
     "end_time": "2023-09-16T12:38:08.905944600Z",
     "start_time": "2023-09-16T12:38:08.888944300Z"
    }
   }
  },
  {
   "cell_type": "code",
   "execution_count": 28,
   "outputs": [
    {
     "name": "stdout",
     "output_type": "stream",
     "text": [
      "<class 'pandas.core.frame.DataFrame'>\n"
     ]
    }
   ],
   "source": [
    "numeric_feature_names = [name for name in df.columns]\n",
    "# numeric_feature_names = ['LeadTime', 'ArrivalYear', 'ArrivalMonth',  'ArrivalDate', 'NumWeekendNights', \"NumWeekNights\", \"MealPlan\", \"Parking\", \"RoomType\", \"NumAdults\", \"NumChildren\", \"MarketSegment\", \"RepeatedGuest\", \"NumPrevCancellations\", \"NumPreviousNonCancelled\", \"AvgRoomPrice\", \"SpecialRequests\"]\n",
    "numeric_features = df[numeric_feature_names]\n",
    "numeric_features.head()\n",
    "\n",
    "print(type(numeric_features))"
   ],
   "metadata": {
    "collapsed": false,
    "ExecuteTime": {
     "end_time": "2023-09-16T12:38:09.810946800Z",
     "start_time": "2023-09-16T12:38:09.800944600Z"
    }
   }
  },
  {
   "cell_type": "code",
   "execution_count": 29,
   "outputs": [
    {
     "data": {
      "text/plain": "<tf.Tensor: shape=(29020, 17), dtype=int32, numpy=\narray([[  10, 2018,    3, ...,    0,   95,    0],\n       [ 116, 2018,    2, ...,    0,   61,    0],\n       [  11, 2018,    7, ...,    0,  129,    1],\n       ...,\n       [   8, 2017,    9, ...,    0,   65,    0],\n       [  20, 2018,    9, ...,    0,   90,    0],\n       [ 274, 2018,    7, ...,    0,   96,    1]])>"
     },
     "execution_count": 29,
     "metadata": {},
     "output_type": "execute_result"
    }
   ],
   "source": [
    "# numeric_features = np.asarray(numeric_features).astype('float32')\n",
    "\n",
    "tf.convert_to_tensor(numeric_features)\n"
   ],
   "metadata": {
    "collapsed": false,
    "ExecuteTime": {
     "end_time": "2023-09-16T12:38:10.655944500Z",
     "start_time": "2023-09-16T12:38:10.640943800Z"
    }
   }
  },
  {
   "cell_type": "code",
   "execution_count": 37,
   "outputs": [],
   "source": [
    "normalizer = tf.keras.layers.Normalization(axis=-1)\n",
    "normalizer.adapt(numeric_features.to_numpy())\n"
   ],
   "metadata": {
    "collapsed": false,
    "ExecuteTime": {
     "end_time": "2023-09-16T12:38:42.561943200Z",
     "start_time": "2023-09-16T12:38:41.686944300Z"
    }
   }
  },
  {
   "cell_type": "code",
   "execution_count": 38,
   "outputs": [
    {
     "data": {
      "text/plain": "pandas.core.frame.DataFrame"
     },
     "execution_count": 38,
     "metadata": {},
     "output_type": "execute_result"
    }
   ],
   "source": [
    "numeric_features = pd.DataFrame(numeric_features)\n",
    "type(numeric_features)\n"
   ],
   "metadata": {
    "collapsed": false,
    "ExecuteTime": {
     "end_time": "2023-09-16T12:38:43.478942800Z",
     "start_time": "2023-09-16T12:38:43.446944Z"
    }
   }
  },
  {
   "cell_type": "code",
   "execution_count": 39,
   "outputs": [
    {
     "data": {
      "text/plain": "<tf.Tensor: shape=(3, 17), dtype=float32, numpy=\narray([[-0.87647665,  0.46875393, -1.4414891 ,  1.7625139 , -0.9305437 ,\n        -0.84950244, -0.49299878, -0.17818205, -0.50807035, -1.6334727 ,\n        -0.2592433 , -2.279335  , -0.16221005, -0.06437863, -0.08737914,\n        -0.23430355, -0.7885584 ],\n       [ 0.3577327 ,  0.46875393, -1.7678146 ,  1.4194049 ,  1.3596122 ,\n        -0.84950244, -0.49299878, -0.17818205, -0.50807035, -1.6334727 ,\n        -0.2592433 ,  0.6553474 , -0.16221005, -0.06437863, -0.08737914,\n        -1.2049241 , -0.7885584 ],\n       [-0.8648332 ,  0.46875393, -0.13618678,  1.076296  ,  0.2145343 ,\n        -0.14614795, -0.49299878, -0.17818205, -0.50807035,  0.29529724,\n         2.2228546 ,  0.6553474 , -0.16221005, -0.06437863, -0.08737914,\n         0.73631704,  0.482632  ]], dtype=float32)>"
     },
     "execution_count": 39,
     "metadata": {},
     "output_type": "execute_result"
    }
   ],
   "source": [
    "normalizer(numeric_features.iloc[:3])\n"
   ],
   "metadata": {
    "collapsed": false,
    "ExecuteTime": {
     "end_time": "2023-09-16T12:38:44.334944300Z",
     "start_time": "2023-09-16T12:38:44.307943900Z"
    }
   }
  },
  {
   "cell_type": "code",
   "execution_count": 40,
   "outputs": [
    {
     "name": "stdout",
     "output_type": "stream",
     "text": [
      "<keras.src.layers.preprocessing.normalization.Normalization object at 0x0000028C849161F0>\n"
     ]
    }
   ],
   "source": [
    "print(normalizer)"
   ],
   "metadata": {
    "collapsed": false,
    "ExecuteTime": {
     "end_time": "2023-09-16T12:38:45.090943800Z",
     "start_time": "2023-09-16T12:38:45.083944700Z"
    }
   }
  },
  {
   "cell_type": "code",
   "execution_count": 67,
   "outputs": [
    {
     "data": {
      "text/plain": "17"
     },
     "execution_count": 67,
     "metadata": {},
     "output_type": "execute_result"
    }
   ],
   "source": [
    "len(numeric_features.iloc[0])"
   ],
   "metadata": {
    "collapsed": false,
    "ExecuteTime": {
     "end_time": "2023-09-16T14:10:27.310773800Z",
     "start_time": "2023-09-16T14:10:27.299776500Z"
    }
   }
  },
  {
   "cell_type": "code",
   "execution_count": 79,
   "outputs": [
    {
     "name": "stdout",
     "output_type": "stream",
     "text": [
      "[64, 32.0, 16.0, 8.0]\n"
     ]
    }
   ],
   "source": [
    "from math import floor\n",
    "# some complex math\n",
    "nodes = len(numeric_features)/(4 * (len(numeric_features.iloc[0]) + len(ENCODING)))\n",
    "res = 0\n",
    "for i in range(floor(nodes), 0, -1):\n",
    "    if (i & (i - 1)) == 0:\n",
    "        res = i\n",
    "        break\n",
    "\n",
    "lst = [res]\n",
    "for i in range(3):\n",
    "    res /= 2\n",
    "    lst.append(res)\n",
    "print(lst)\n"
   ],
   "metadata": {
    "collapsed": false,
    "ExecuteTime": {
     "end_time": "2023-09-16T14:47:16.123457300Z",
     "start_time": "2023-09-16T14:47:16.118458100Z"
    }
   }
  },
  {
   "cell_type": "code",
   "execution_count": 74,
   "outputs": [
    {
     "name": "stdout",
     "output_type": "stream",
     "text": [
      "14 28 56 112\n"
     ]
    }
   ],
   "source": [
    "from math import floor\n",
    "\n",
    "# some complex math\n",
    "nodes = len(numeric_features)/(2 * (len(numeric_features.iloc[0]) + len(ENCODING)))\n",
    "res = floor(nodes/15)\n",
    "\n",
    "print(res*1, res*2, res*4, res*8)\n",
    "\n",
    "\n",
    "# for i in range(nodes, 0, -1):\n",
    "#     if (i & (i - 1)) == 0:\n",
    "#         res = i\n",
    "#         break\n",
    "#\n",
    "# lst = [res]\n",
    "# for i in range(4):\n",
    "#     res /= 2\n",
    "#     lst.append(res)\n",
    "# print(lst)"
   ],
   "metadata": {
    "collapsed": false,
    "ExecuteTime": {
     "end_time": "2023-09-16T14:42:18.978758900Z",
     "start_time": "2023-09-16T14:42:18.958760700Z"
    }
   }
  },
  {
   "cell_type": "code",
   "execution_count": 41,
   "outputs": [
    {
     "name": "stdout",
     "output_type": "stream",
     "text": [
      "Model: \"sequential_4\"\n",
      "_________________________________________________________________\n",
      " Layer (type)                Output Shape              Param #   \n",
      "=================================================================\n",
      " normalization_8 (Normaliza  (None, 17)                35        \n",
      " tion)                                                           \n",
      "                                                                 \n",
      " dense_20 (Dense)            (None, 128)               2304      \n",
      "                                                                 \n",
      " dense_21 (Dense)            (None, 64)                8256      \n",
      "                                                                 \n",
      " dropout_12 (Dropout)        (None, 64)                0         \n",
      "                                                                 \n",
      " dense_22 (Dense)            (None, 32)                2080      \n",
      "                                                                 \n",
      " dropout_13 (Dropout)        (None, 32)                0         \n",
      "                                                                 \n",
      " dense_23 (Dense)            (None, 10)                330       \n",
      "                                                                 \n",
      " dropout_14 (Dropout)        (None, 10)                0         \n",
      "                                                                 \n",
      " dense_24 (Dense)            (None, 2)                 22        \n",
      "                                                                 \n",
      "=================================================================\n",
      "Total params: 13027 (50.89 KB)\n",
      "Trainable params: 12992 (50.75 KB)\n",
      "Non-trainable params: 35 (144.00 Byte)\n",
      "_________________________________________________________________\n"
     ]
    }
   ],
   "source": [
    "def get_basic_model():\n",
    "    model = tf.keras.Sequential([\n",
    "        normalizer,\n",
    "        tf.keras.layers.Dense(128, activation='relu'),\n",
    "        tf.keras.layers.Dense(64, activation='relu'),\n",
    "        tf.keras.layers.Dropout(0.2),\n",
    "        tf.keras.layers.Dense(32, activation='relu'),\n",
    "        tf.keras.layers.Dropout(0.2),\n",
    "        tf.keras.layers.Dense(10, activation='relu'),\n",
    "        tf.keras.layers.Dropout(0.2),\n",
    "        tf.keras.layers.Dense(len(ENCODING), activation='sigmoid')\n",
    "        ])\n",
    "\n",
    "    model.compile(optimizer='adam',\n",
    "                    loss=\"sparse_categorical_crossentropy\", # tf.keras.losses.BinaryCrossentropy(from_logits=True)\n",
    "                    metrics=['accuracy'])\n",
    "    return model\n",
    "\n",
    "get_basic_model().summary()"
   ],
   "metadata": {
    "collapsed": false,
    "ExecuteTime": {
     "end_time": "2023-09-16T12:38:45.541943400Z",
     "start_time": "2023-09-16T12:38:45.461944Z"
    }
   }
  },
  {
   "cell_type": "code",
   "execution_count": 42,
   "outputs": [
    {
     "name": "stdout",
     "output_type": "stream",
     "text": [
      "   LeadTime  ArrivalYear  ArrivalMonth  ArrivalDate  NumWeekendNights  \\\n",
      "0        10         2018             3           31                 0   \n",
      "1       116         2018             2           28                 2   \n",
      "2        11         2018             7           25                 1   \n",
      "\n",
      "   NumWeekNights  MealPlan  Parking  RoomType  NumAdults  NumChildren  \\\n",
      "0              1         0        0         0          1            0   \n",
      "1              1         0        0         0          1            0   \n",
      "2              2         0        0         0          2            1   \n",
      "\n",
      "   MarketSegment  RepeatedGuest  NumPrevCancellations  \\\n",
      "0              2              0                     0   \n",
      "1              4              0                     0   \n",
      "2              4              0                     0   \n",
      "\n",
      "   NumPreviousNonCancelled  AvgRoomPrice  SpecialRequests  \n",
      "0                        0            95                0  \n",
      "1                        0            61                0  \n",
      "2                        0           129                1  \n"
     ]
    }
   ],
   "source": [
    "print(numeric_features.iloc[:3])"
   ],
   "metadata": {
    "collapsed": false,
    "ExecuteTime": {
     "end_time": "2023-09-16T12:38:46.153944600Z",
     "start_time": "2023-09-16T12:38:46.135945300Z"
    }
   }
  },
  {
   "cell_type": "code",
   "execution_count": 43,
   "outputs": [
    {
     "name": "stdout",
     "output_type": "stream",
     "text": [
      "Epoch 1/30\n",
      "29/29 [==============================] - 1s 3ms/step - loss: 0.6321 - accuracy: 0.6304\n",
      "Epoch 2/30\n",
      "29/29 [==============================] - 0s 3ms/step - loss: 0.5040 - accuracy: 0.7597\n",
      "Epoch 3/30\n",
      "29/29 [==============================] - 0s 2ms/step - loss: 0.4505 - accuracy: 0.8020\n",
      "Epoch 4/30\n",
      "29/29 [==============================] - 0s 2ms/step - loss: 0.4283 - accuracy: 0.8154\n",
      "Epoch 5/30\n",
      "29/29 [==============================] - 0s 2ms/step - loss: 0.4147 - accuracy: 0.8227\n",
      "Epoch 6/30\n",
      "29/29 [==============================] - 0s 2ms/step - loss: 0.4011 - accuracy: 0.8275\n",
      "Epoch 7/30\n",
      "29/29 [==============================] - 0s 2ms/step - loss: 0.3902 - accuracy: 0.8324\n",
      "Epoch 8/30\n",
      "29/29 [==============================] - 0s 2ms/step - loss: 0.3838 - accuracy: 0.8343\n",
      "Epoch 9/30\n",
      "29/29 [==============================] - 0s 2ms/step - loss: 0.3769 - accuracy: 0.8378\n",
      "Epoch 10/30\n",
      "29/29 [==============================] - 0s 2ms/step - loss: 0.3715 - accuracy: 0.8383\n",
      "Epoch 11/30\n",
      "29/29 [==============================] - 0s 2ms/step - loss: 0.3638 - accuracy: 0.8420\n",
      "Epoch 12/30\n",
      "29/29 [==============================] - 0s 2ms/step - loss: 0.3589 - accuracy: 0.8470\n",
      "Epoch 13/30\n",
      "29/29 [==============================] - 0s 2ms/step - loss: 0.3532 - accuracy: 0.8467\n",
      "Epoch 14/30\n",
      "29/29 [==============================] - 0s 2ms/step - loss: 0.3497 - accuracy: 0.8489\n",
      "Epoch 15/30\n",
      "29/29 [==============================] - 0s 2ms/step - loss: 0.3475 - accuracy: 0.8507\n",
      "Epoch 16/30\n",
      "29/29 [==============================] - 0s 2ms/step - loss: 0.3442 - accuracy: 0.8513\n",
      "Epoch 17/30\n",
      "29/29 [==============================] - 0s 2ms/step - loss: 0.3381 - accuracy: 0.8533\n",
      "Epoch 18/30\n",
      "29/29 [==============================] - 0s 2ms/step - loss: 0.3346 - accuracy: 0.8560\n",
      "Epoch 19/30\n",
      "29/29 [==============================] - 0s 2ms/step - loss: 0.3315 - accuracy: 0.8574\n",
      "Epoch 20/30\n",
      "29/29 [==============================] - 0s 2ms/step - loss: 0.3283 - accuracy: 0.8608\n",
      "Epoch 21/30\n",
      "29/29 [==============================] - 0s 2ms/step - loss: 0.3264 - accuracy: 0.8622\n",
      "Epoch 22/30\n",
      "29/29 [==============================] - 0s 3ms/step - loss: 0.3249 - accuracy: 0.8627\n",
      "Epoch 23/30\n",
      "29/29 [==============================] - 0s 3ms/step - loss: 0.3222 - accuracy: 0.8626\n",
      "Epoch 24/30\n",
      "29/29 [==============================] - 0s 3ms/step - loss: 0.3184 - accuracy: 0.8630\n",
      "Epoch 25/30\n",
      "29/29 [==============================] - 0s 2ms/step - loss: 0.3181 - accuracy: 0.8654\n",
      "Epoch 26/30\n",
      "29/29 [==============================] - 0s 2ms/step - loss: 0.3132 - accuracy: 0.8680\n",
      "Epoch 27/30\n",
      "29/29 [==============================] - 0s 2ms/step - loss: 0.3105 - accuracy: 0.8682\n",
      "Epoch 28/30\n",
      "29/29 [==============================] - 0s 2ms/step - loss: 0.3090 - accuracy: 0.8693\n",
      "Epoch 29/30\n",
      "29/29 [==============================] - 0s 2ms/step - loss: 0.3081 - accuracy: 0.8694\n",
      "Epoch 30/30\n",
      "29/29 [==============================] - 0s 3ms/step - loss: 0.3057 - accuracy: 0.8715\n"
     ]
    }
   ],
   "source": [
    "model = get_basic_model()\n",
    "history = model.fit(numeric_features.to_numpy(), target, epochs=30, batch_size=BATCH_SIZE)\n"
   ],
   "metadata": {
    "collapsed": false,
    "ExecuteTime": {
     "end_time": "2023-09-16T12:38:49.924944100Z",
     "start_time": "2023-09-16T12:38:46.678943700Z"
    }
   }
  },
  {
   "cell_type": "code",
   "execution_count": 45,
   "outputs": [
    {
     "name": "stdout",
     "output_type": "stream",
     "text": [
      "(<tf.Tensor: shape=(17,), dtype=int32, numpy=\n",
      "array([  10, 2018,    3,   31,    0,    1,    0,    0,    0,    1,    0,\n",
      "          2,    0,    0,    0,   95,    0])>, <tf.Tensor: shape=(), dtype=int32, numpy=0>)\n",
      "(<tf.Tensor: shape=(17,), dtype=int32, numpy=\n",
      "array([ 116, 2018,    2,   28,    2,    1,    0,    0,    0,    1,    0,\n",
      "          4,    0,    0,    0,   61,    0])>, <tf.Tensor: shape=(), dtype=int32, numpy=0>)\n",
      "(<tf.Tensor: shape=(17,), dtype=int32, numpy=\n",
      "array([  11, 2018,    7,   25,    1,    2,    0,    0,    0,    2,    1,\n",
      "          4,    0,    0,    0,  129,    1])>, <tf.Tensor: shape=(), dtype=int32, numpy=1>)\n"
     ]
    }
   ],
   "source": [
    "numeric_dataset = tf.data.Dataset.from_tensor_slices((numeric_features, target))\n",
    "\n",
    "for row in numeric_dataset.take(3):\n",
    "  print(row)\n"
   ],
   "metadata": {
    "collapsed": false,
    "ExecuteTime": {
     "end_time": "2023-09-16T12:39:11.626944600Z",
     "start_time": "2023-09-16T12:39:11.593943100Z"
    }
   }
  },
  {
   "cell_type": "code",
   "execution_count": 46,
   "outputs": [
    {
     "name": "stdout",
     "output_type": "stream",
     "text": [
      "Epoch 1/90\n",
      "29/29 [==============================] - 1s 3ms/step - loss: 0.5702 - accuracy: 0.6997\n",
      "Epoch 2/90\n",
      "29/29 [==============================] - 0s 3ms/step - loss: 0.4738 - accuracy: 0.7826\n",
      "Epoch 3/90\n",
      "29/29 [==============================] - 0s 3ms/step - loss: 0.4436 - accuracy: 0.8005\n",
      "Epoch 4/90\n",
      "29/29 [==============================] - 0s 3ms/step - loss: 0.4265 - accuracy: 0.8103\n",
      "Epoch 5/90\n",
      "29/29 [==============================] - 0s 2ms/step - loss: 0.4111 - accuracy: 0.8187\n",
      "Epoch 6/90\n",
      "29/29 [==============================] - 0s 2ms/step - loss: 0.4040 - accuracy: 0.8251\n",
      "Epoch 7/90\n",
      "29/29 [==============================] - 0s 3ms/step - loss: 0.3958 - accuracy: 0.8281\n",
      "Epoch 8/90\n",
      "29/29 [==============================] - 0s 2ms/step - loss: 0.3841 - accuracy: 0.8326\n",
      "Epoch 9/90\n",
      "29/29 [==============================] - 0s 3ms/step - loss: 0.3770 - accuracy: 0.8369\n",
      "Epoch 10/90\n",
      "29/29 [==============================] - 0s 3ms/step - loss: 0.3723 - accuracy: 0.8387\n",
      "Epoch 11/90\n",
      "29/29 [==============================] - 0s 3ms/step - loss: 0.3678 - accuracy: 0.8407\n",
      "Epoch 12/90\n",
      "29/29 [==============================] - 0s 3ms/step - loss: 0.3613 - accuracy: 0.8431\n",
      "Epoch 13/90\n",
      "29/29 [==============================] - 0s 3ms/step - loss: 0.3557 - accuracy: 0.8458\n",
      "Epoch 14/90\n",
      "29/29 [==============================] - 0s 3ms/step - loss: 0.3515 - accuracy: 0.8478\n",
      "Epoch 15/90\n",
      "29/29 [==============================] - 0s 3ms/step - loss: 0.3464 - accuracy: 0.8502\n",
      "Epoch 16/90\n",
      "29/29 [==============================] - 0s 3ms/step - loss: 0.3427 - accuracy: 0.8518\n",
      "Epoch 17/90\n",
      "29/29 [==============================] - 0s 3ms/step - loss: 0.3414 - accuracy: 0.8543\n",
      "Epoch 18/90\n",
      "29/29 [==============================] - 0s 3ms/step - loss: 0.3376 - accuracy: 0.8549\n",
      "Epoch 19/90\n",
      "29/29 [==============================] - 0s 3ms/step - loss: 0.3356 - accuracy: 0.8575\n",
      "Epoch 20/90\n",
      "29/29 [==============================] - 0s 3ms/step - loss: 0.3324 - accuracy: 0.8582\n",
      "Epoch 21/90\n",
      "29/29 [==============================] - 0s 3ms/step - loss: 0.3298 - accuracy: 0.8596\n",
      "Epoch 22/90\n",
      "29/29 [==============================] - 0s 3ms/step - loss: 0.3254 - accuracy: 0.8597\n",
      "Epoch 23/90\n",
      "29/29 [==============================] - 0s 2ms/step - loss: 0.3221 - accuracy: 0.8632\n",
      "Epoch 24/90\n",
      "29/29 [==============================] - 0s 3ms/step - loss: 0.3208 - accuracy: 0.8634\n",
      "Epoch 25/90\n",
      "29/29 [==============================] - 0s 2ms/step - loss: 0.3165 - accuracy: 0.8640\n",
      "Epoch 26/90\n",
      "29/29 [==============================] - 0s 3ms/step - loss: 0.3180 - accuracy: 0.8652\n",
      "Epoch 27/90\n",
      "29/29 [==============================] - 0s 3ms/step - loss: 0.3157 - accuracy: 0.8653\n",
      "Epoch 28/90\n",
      "29/29 [==============================] - 0s 3ms/step - loss: 0.3111 - accuracy: 0.8663\n",
      "Epoch 29/90\n",
      "29/29 [==============================] - 0s 3ms/step - loss: 0.3080 - accuracy: 0.8681\n",
      "Epoch 30/90\n",
      "29/29 [==============================] - 0s 3ms/step - loss: 0.3090 - accuracy: 0.8676\n",
      "Epoch 31/90\n",
      "29/29 [==============================] - 0s 3ms/step - loss: 0.3062 - accuracy: 0.8698\n",
      "Epoch 32/90\n",
      "29/29 [==============================] - 0s 3ms/step - loss: 0.3065 - accuracy: 0.8678\n",
      "Epoch 33/90\n",
      "29/29 [==============================] - 0s 2ms/step - loss: 0.3023 - accuracy: 0.8701\n",
      "Epoch 34/90\n",
      "29/29 [==============================] - 0s 2ms/step - loss: 0.3020 - accuracy: 0.8708\n",
      "Epoch 35/90\n",
      "29/29 [==============================] - 0s 2ms/step - loss: 0.2990 - accuracy: 0.8710\n",
      "Epoch 36/90\n",
      "29/29 [==============================] - 0s 2ms/step - loss: 0.2965 - accuracy: 0.8744\n",
      "Epoch 37/90\n",
      "29/29 [==============================] - 0s 3ms/step - loss: 0.2959 - accuracy: 0.8754\n",
      "Epoch 38/90\n",
      "29/29 [==============================] - 0s 3ms/step - loss: 0.2918 - accuracy: 0.8752\n",
      "Epoch 39/90\n",
      "29/29 [==============================] - 0s 2ms/step - loss: 0.2917 - accuracy: 0.8769\n",
      "Epoch 40/90\n",
      "29/29 [==============================] - 0s 3ms/step - loss: 0.2903 - accuracy: 0.8777\n",
      "Epoch 41/90\n",
      "29/29 [==============================] - 0s 3ms/step - loss: 0.2897 - accuracy: 0.8760\n",
      "Epoch 42/90\n",
      "29/29 [==============================] - 0s 3ms/step - loss: 0.2892 - accuracy: 0.8776\n",
      "Epoch 43/90\n",
      "29/29 [==============================] - 0s 3ms/step - loss: 0.2869 - accuracy: 0.8785\n",
      "Epoch 44/90\n",
      "29/29 [==============================] - 0s 3ms/step - loss: 0.2847 - accuracy: 0.8786\n",
      "Epoch 45/90\n",
      "29/29 [==============================] - 0s 2ms/step - loss: 0.2837 - accuracy: 0.8814\n",
      "Epoch 46/90\n",
      "29/29 [==============================] - 0s 3ms/step - loss: 0.2844 - accuracy: 0.8793\n",
      "Epoch 47/90\n",
      "29/29 [==============================] - 0s 3ms/step - loss: 0.2782 - accuracy: 0.8834\n",
      "Epoch 48/90\n",
      "29/29 [==============================] - 0s 3ms/step - loss: 0.2801 - accuracy: 0.8815\n",
      "Epoch 49/90\n",
      "29/29 [==============================] - 0s 3ms/step - loss: 0.2770 - accuracy: 0.8832\n",
      "Epoch 50/90\n",
      "29/29 [==============================] - 0s 3ms/step - loss: 0.2767 - accuracy: 0.8831\n",
      "Epoch 51/90\n",
      "29/29 [==============================] - 0s 3ms/step - loss: 0.2744 - accuracy: 0.8834\n",
      "Epoch 52/90\n",
      "29/29 [==============================] - 0s 3ms/step - loss: 0.2735 - accuracy: 0.8849\n",
      "Epoch 53/90\n",
      "29/29 [==============================] - 0s 3ms/step - loss: 0.2716 - accuracy: 0.8846\n",
      "Epoch 54/90\n",
      "29/29 [==============================] - 0s 3ms/step - loss: 0.2739 - accuracy: 0.8840\n",
      "Epoch 55/90\n",
      "29/29 [==============================] - 0s 3ms/step - loss: 0.2733 - accuracy: 0.8839\n",
      "Epoch 56/90\n",
      "29/29 [==============================] - 0s 3ms/step - loss: 0.2707 - accuracy: 0.8854\n",
      "Epoch 57/90\n",
      "29/29 [==============================] - 0s 3ms/step - loss: 0.2689 - accuracy: 0.8861\n",
      "Epoch 58/90\n",
      "29/29 [==============================] - 0s 3ms/step - loss: 0.2682 - accuracy: 0.8853\n",
      "Epoch 59/90\n",
      "29/29 [==============================] - 0s 3ms/step - loss: 0.2650 - accuracy: 0.8886\n",
      "Epoch 60/90\n",
      "29/29 [==============================] - 0s 3ms/step - loss: 0.2658 - accuracy: 0.8877\n",
      "Epoch 61/90\n",
      "29/29 [==============================] - 0s 3ms/step - loss: 0.2658 - accuracy: 0.8875\n",
      "Epoch 62/90\n",
      "29/29 [==============================] - 0s 2ms/step - loss: 0.2673 - accuracy: 0.8873\n",
      "Epoch 63/90\n",
      "29/29 [==============================] - 0s 2ms/step - loss: 0.2642 - accuracy: 0.8896\n",
      "Epoch 64/90\n",
      "29/29 [==============================] - 0s 3ms/step - loss: 0.2630 - accuracy: 0.8903\n",
      "Epoch 65/90\n",
      "29/29 [==============================] - 0s 3ms/step - loss: 0.2636 - accuracy: 0.8889\n",
      "Epoch 66/90\n",
      "29/29 [==============================] - 0s 3ms/step - loss: 0.2614 - accuracy: 0.8902\n",
      "Epoch 67/90\n",
      "29/29 [==============================] - 0s 3ms/step - loss: 0.2613 - accuracy: 0.8899\n",
      "Epoch 68/90\n",
      "29/29 [==============================] - 0s 2ms/step - loss: 0.2611 - accuracy: 0.8897\n",
      "Epoch 69/90\n",
      "29/29 [==============================] - 0s 2ms/step - loss: 0.2586 - accuracy: 0.8890\n",
      "Epoch 70/90\n",
      "29/29 [==============================] - 0s 3ms/step - loss: 0.2579 - accuracy: 0.8911\n",
      "Epoch 71/90\n",
      "29/29 [==============================] - 0s 3ms/step - loss: 0.2598 - accuracy: 0.8893\n",
      "Epoch 72/90\n",
      "29/29 [==============================] - 0s 3ms/step - loss: 0.2574 - accuracy: 0.8907\n",
      "Epoch 73/90\n",
      "29/29 [==============================] - 0s 3ms/step - loss: 0.2549 - accuracy: 0.8896\n",
      "Epoch 74/90\n",
      "29/29 [==============================] - 0s 3ms/step - loss: 0.2534 - accuracy: 0.8927\n",
      "Epoch 75/90\n",
      "29/29 [==============================] - 0s 2ms/step - loss: 0.2549 - accuracy: 0.8915\n",
      "Epoch 76/90\n",
      "29/29 [==============================] - 0s 3ms/step - loss: 0.2527 - accuracy: 0.8933\n",
      "Epoch 77/90\n",
      "29/29 [==============================] - 0s 2ms/step - loss: 0.2549 - accuracy: 0.8928\n",
      "Epoch 78/90\n",
      "29/29 [==============================] - 0s 2ms/step - loss: 0.2525 - accuracy: 0.8938\n",
      "Epoch 79/90\n",
      "29/29 [==============================] - 0s 2ms/step - loss: 0.2507 - accuracy: 0.8932\n",
      "Epoch 80/90\n",
      "29/29 [==============================] - 0s 3ms/step - loss: 0.2503 - accuracy: 0.8927\n",
      "Epoch 81/90\n",
      "29/29 [==============================] - 0s 3ms/step - loss: 0.2530 - accuracy: 0.8912\n",
      "Epoch 82/90\n",
      "29/29 [==============================] - 0s 3ms/step - loss: 0.2500 - accuracy: 0.8936\n",
      "Epoch 83/90\n",
      "29/29 [==============================] - 0s 3ms/step - loss: 0.2474 - accuracy: 0.8941\n",
      "Epoch 84/90\n",
      "29/29 [==============================] - 0s 3ms/step - loss: 0.2516 - accuracy: 0.8938\n",
      "Epoch 85/90\n",
      "29/29 [==============================] - 0s 2ms/step - loss: 0.2460 - accuracy: 0.8949\n",
      "Epoch 86/90\n",
      "29/29 [==============================] - 0s 3ms/step - loss: 0.2457 - accuracy: 0.8961\n",
      "Epoch 87/90\n",
      "29/29 [==============================] - 0s 3ms/step - loss: 0.2486 - accuracy: 0.8936\n",
      "Epoch 88/90\n",
      "29/29 [==============================] - 0s 3ms/step - loss: 0.2441 - accuracy: 0.8958\n",
      "Epoch 89/90\n",
      "29/29 [==============================] - 0s 2ms/step - loss: 0.2463 - accuracy: 0.8955\n",
      "Epoch 90/90\n",
      "29/29 [==============================] - 0s 2ms/step - loss: 0.2471 - accuracy: 0.8949\n"
     ]
    }
   ],
   "source": [
    "numeric_batches = numeric_dataset.shuffle(1000).batch(BATCH_SIZE)\n",
    "\n",
    "model = get_basic_model()\n",
    "history = model.fit(numeric_batches, epochs=90)"
   ],
   "metadata": {
    "collapsed": false,
    "ExecuteTime": {
     "end_time": "2023-09-16T12:39:20.866943400Z",
     "start_time": "2023-09-16T12:39:12.649944600Z"
    }
   }
  },
  {
   "cell_type": "code",
   "execution_count": 243,
   "outputs": [
    {
     "ename": "NameError",
     "evalue": "name 'plt' is not defined",
     "output_type": "error",
     "traceback": [
      "\u001B[1;31m---------------------------------------------------------------------------\u001B[0m",
      "\u001B[1;31mNameError\u001B[0m                                 Traceback (most recent call last)",
      "Cell \u001B[1;32mIn[243], line 1\u001B[0m\n\u001B[1;32m----> 1\u001B[0m \u001B[43mplt\u001B[49m\u001B[38;5;241m.\u001B[39mplot(history\u001B[38;5;241m.\u001B[39mhistory[\u001B[38;5;124m'\u001B[39m\u001B[38;5;124maccuracy\u001B[39m\u001B[38;5;124m'\u001B[39m], label\u001B[38;5;241m=\u001B[39m\u001B[38;5;124m'\u001B[39m\u001B[38;5;124maccuracy\u001B[39m\u001B[38;5;124m'\u001B[39m)\n\u001B[0;32m      2\u001B[0m \u001B[38;5;66;03m# plt.plot(history.history['val_accuracy'], label = 'val_accuracy')\u001B[39;00m\n\u001B[0;32m      3\u001B[0m plt\u001B[38;5;241m.\u001B[39mxlabel(\u001B[38;5;124m'\u001B[39m\u001B[38;5;124mEpoch\u001B[39m\u001B[38;5;124m'\u001B[39m)\n",
      "\u001B[1;31mNameError\u001B[0m: name 'plt' is not defined"
     ]
    }
   ],
   "source": [
    "plt.plot(history.history['accuracy'], label='accuracy')\n",
    "# plt.plot(history.history['val_accuracy'], label = 'val_accuracy')\n",
    "plt.xlabel('Epoch')\n",
    "plt.ylabel('Accuracy')\n",
    "plt.ylim([0, 1])\n",
    "plt.legend(loc='lower right')\n",
    "\n",
    "# 💀💀💀💀💀💀💀💀💀"
   ],
   "metadata": {
    "collapsed": false,
    "ExecuteTime": {
     "end_time": "2023-09-16T07:57:00.347082100Z",
     "start_time": "2023-09-16T07:57:00.291083200Z"
    }
   }
  },
  {
   "cell_type": "code",
   "execution_count": 47,
   "outputs": [
    {
     "name": "stdout",
     "output_type": "stream",
     "text": [
      "<class 'pandas.core.frame.DataFrame'>\n",
      "       LeadTime  ArrivalYear  ArrivalMonth  ArrivalDate  NumWeekendNights  \\\n",
      "0            10         2018             3           31                 0   \n",
      "1           116         2018             2           28                 2   \n",
      "2            11         2018             7           25                 1   \n",
      "3             3         2017             9           12                 0   \n",
      "4            28         2018             3            7                 1   \n",
      "...         ...          ...           ...          ...               ...   \n",
      "29015         2         2018            11           21                 1   \n",
      "29016        18         2018             4           12                 0   \n",
      "29017         8         2017             9           29                 0   \n",
      "29018        20         2018             9           18                 2   \n",
      "29019       274         2018             7           31                 2   \n",
      "\n",
      "       NumWeekNights  MealPlan  Parking  RoomType  NumAdults  NumChildren  \\\n",
      "0                  1         0        0         0          1            0   \n",
      "1                  1         0        0         0          1            0   \n",
      "2                  2         0        0         0          2            1   \n",
      "3                  1         0        0         0          2            0   \n",
      "4                  3         0        0         0          2            0   \n",
      "...              ...       ...      ...       ...        ...          ...   \n",
      "29015              2         0        0         0          1            0   \n",
      "29016              2         3        0         0          2            0   \n",
      "29017              3         0        0         0          1            0   \n",
      "29018              2         0        0         0          1            0   \n",
      "29019              1         0        0         1          2            0   \n",
      "\n",
      "       MarketSegment  RepeatedGuest  NumPrevCancellations  \\\n",
      "0                  2              0                     0   \n",
      "1                  4              0                     0   \n",
      "2                  4              0                     0   \n",
      "3                  4              0                     0   \n",
      "4                  3              0                     0   \n",
      "...              ...            ...                   ...   \n",
      "29015              4              0                     0   \n",
      "29016              4              0                     0   \n",
      "29017              2              0                     0   \n",
      "29018              3              0                     0   \n",
      "29019              4              0                     0   \n",
      "\n",
      "       NumPreviousNonCancelled  AvgRoomPrice  SpecialRequests  \n",
      "0                            0            95                0  \n",
      "1                            0            61                0  \n",
      "2                            0           129                1  \n",
      "3                            0           152                3  \n",
      "4                            0            87                0  \n",
      "...                        ...           ...              ...  \n",
      "29015                        0           100                1  \n",
      "29016                        0           119                1  \n",
      "29017                        0            65                0  \n",
      "29018                        0            90                0  \n",
      "29019                        0            96                1  \n",
      "\n",
      "[29020 rows x 17 columns]\n",
      "1/1 [==============================] - 0s 65ms/step\n",
      "asdf\n",
      "[0.39277416 0.7548501 ]: Canceled\n",
      "Predicted: not_canceled\n",
      "[0.6867731  0.26358438]: Canceled\n",
      "Predicted: cancled\n",
      "[0.34898084 0.82999235]: Not_Canceled\n",
      "Predicted: not_canceled\n",
      "[7.94646e-04 1.00000e+00]: Not_Canceled\n",
      "Predicted: not_canceled\n",
      "[0.15628146 0.98875374]: Not_Canceled\n",
      "Predicted: not_canceled\n",
      "[9.9995601e-01 1.6352764e-06]: Canceled\n",
      "Predicted: cancled\n",
      "[0.42184302 0.6676913 ]: Not_Canceled\n",
      "Predicted: not_canceled\n",
      "[0.08235473 0.9984864 ]: Not_Canceled\n",
      "Predicted: not_canceled\n",
      "[0.983537   0.00467323]: Canceled\n",
      "Predicted: cancled\n",
      "[0.32572675 0.84828115]: Not_Canceled\n",
      "Predicted: not_canceled\n",
      "[0.0406679  0.99982685]: Not_Canceled\n",
      "Predicted: not_canceled\n",
      "[0.37252697 0.78271157]: Not_Canceled\n",
      "Predicted: not_canceled\n",
      "[0.5947372  0.38173053]: Canceled\n",
      "Predicted: cancled\n",
      "[0.8852312  0.06146049]: Canceled\n",
      "Predicted: cancled\n",
      "[0.39846635 0.73197794]: Not_Canceled\n",
      "Predicted: not_canceled\n",
      "[0.39028665 0.73795986]: Not_Canceled\n",
      "Predicted: not_canceled\n",
      "[0.41292304 0.6932778 ]: Not_Canceled\n",
      "Predicted: not_canceled\n",
      "[0.1311401  0.99237466]: Not_Canceled\n",
      "Predicted: not_canceled\n",
      "[0.5762995  0.41764417]: Canceled\n",
      "Predicted: cancled\n"
     ]
    }
   ],
   "source": [
    "# pd.DataFrame(numeric_features.numpy())\n",
    "print(type(numeric_features))\n",
    "print(numeric_features)\n",
    "predictions = model.predict(np.array(numeric_features.iloc[:20]))\n",
    "\n",
    "print(\"asdf\")\n",
    "\n",
    "lst = [\"Canceled\",\n",
    "\"Canceled\",\n",
    "\"Not_Canceled\",\n",
    "\"Not_Canceled\",\n",
    "\"Not_Canceled\",\n",
    "\"Canceled\",\n",
    "\"Not_Canceled\",\n",
    "\"Not_Canceled\",\n",
    "\"Canceled\",\n",
    "\"Not_Canceled\",\n",
    "\"Not_Canceled\",\n",
    "\"Not_Canceled\",\n",
    "\"Canceled\",\n",
    "\"Canceled\",\n",
    "\"Not_Canceled\",\n",
    "\"Not_Canceled\",\n",
    "\"Not_Canceled\",\n",
    "\"Not_Canceled\",\n",
    "\"Canceled\"]\n",
    "# print(predictions)\n",
    "\n",
    "for i in range(len(predictions)-1):\n",
    "    print(f\"{predictions[i]}: {lst[i]}\")\n",
    "    if predictions[i][0] > predictions[i][1]:\n",
    "        print(\"Predicted: cancled\")\n",
    "    else:\n",
    "        print(\"Predicted: not_canceled\")\n"
   ],
   "metadata": {
    "collapsed": false,
    "ExecuteTime": {
     "end_time": "2023-09-16T12:39:25.399944Z",
     "start_time": "2023-09-16T12:39:25.290943800Z"
    }
   }
  },
  {
   "cell_type": "code",
   "execution_count": 11,
   "outputs": [
    {
     "data": {
      "text/plain": "'C:\\\\Users\\\\Kevin Tang\\\\Documents\\\\HackTheNorth2023\\\\AI'"
     },
     "execution_count": 11,
     "metadata": {},
     "output_type": "execute_result"
    }
   ],
   "source": [
    "pwd"
   ],
   "metadata": {
    "collapsed": false,
    "ExecuteTime": {
     "end_time": "2023-09-16T12:33:23.142036300Z",
     "start_time": "2023-09-16T12:33:23.091035100Z"
    }
   }
  },
  {
   "cell_type": "code",
   "execution_count": 63,
   "outputs": [
    {
     "name": "stdout",
     "output_type": "stream",
     "text": [
      "17\n",
      "17\n",
      "227/227 [==============================] - 0s 549us/step\n"
     ]
    }
   ],
   "source": [
    "DATA_PATH = \"dataset/updated_test_data.csv\"\n",
    "\n",
    "# prediction\n",
    "REMOVED_COL = \"BookingID\"\n",
    "PREDICT_COL = \"BookingStatus\"\n",
    "\n",
    "df = pd.read_csv(DATA_PATH)\n",
    "df = df.drop(REMOVED_COL, axis=1) # axis: 0 for row, 1 for column\n",
    "# target = df.drop(PREDICT_COL)\n",
    "\n",
    "for col in df.columns:\n",
    "    if not all(isinstance(x, (int, float)) for x in df[col]):\n",
    "        lst = np.unique(df[col].astype(str))\n",
    "        for i in range(len(lst)):\n",
    "            df[col] = df[col].replace(lst[i], i)\n",
    "\n",
    "\n",
    "# target = df.drop(PREDICT_COL)\n",
    "print(len(numeric_feature_names))\n",
    "df = df.astype('int')\n",
    "numeric_feature_names = [name for name in df.columns]\n",
    "print(len(numeric_feature_names))\n",
    "\n",
    "numeric_features = df[numeric_feature_names]\n",
    "numeric_features.head()\n",
    "tf.convert_to_tensor(numeric_features)\n",
    "normalizer = tf.keras.layers.Normalization(axis=-1)\n",
    "normalizer.adapt(numeric_features.to_numpy())\n",
    "\n",
    "\n",
    "# new_model = tf.keras.models.load_model('../backend/local/UAQ3GzHi8TNmOS9qjtnEroOcIuy2/model_ac699aad-290c-47bc-8f7c-a80eb84b0b01/model.keras')\n",
    "\n",
    "new_model = tf.keras.models.load_model('../backend/local/UAQ3GzHi8TNmOS9qjtnEroOcIuy2/model_ac699aad-290c-47bc-8f7c-a80eb84b0b01/model')\n",
    "\n",
    "# new_model.load_weights('../backend/local/UAQ3GzHi8TNmOS9qjtnEroOcIuy2/model_ac699aad-290c-47bc-8f7c-a80eb84b0b01/model')\n",
    "\n",
    "predictions = new_model.predict(np.array(numeric_features))\n",
    "\n"
   ],
   "metadata": {
    "collapsed": false,
    "ExecuteTime": {
     "end_time": "2023-09-16T13:45:21.921604400Z",
     "start_time": "2023-09-16T13:45:21.216632100Z"
    }
   }
  },
  {
   "cell_type": "code",
   "execution_count": 58,
   "outputs": [
    {
     "name": "stdout",
     "output_type": "stream",
     "text": [
      "[[0.15406722 0.9829524 ]\n",
      " [0.16708525 0.9810974 ]\n",
      " [0.02197331 0.99994904]\n",
      " ...\n",
      " [0.0456804  0.99965805]\n",
      " [0.07709794 0.99846077]\n",
      " [0.09470014 0.9967107 ]]\n"
     ]
    }
   ],
   "source": [
    "print(predictions)"
   ],
   "metadata": {
    "collapsed": false,
    "ExecuteTime": {
     "end_time": "2023-09-16T13:28:43.300367600Z",
     "start_time": "2023-09-16T13:28:43.293365400Z"
    }
   }
  },
  {
   "cell_type": "code",
   "execution_count": 57,
   "outputs": [],
   "source": [],
   "metadata": {
    "collapsed": false,
    "ExecuteTime": {
     "end_time": "2023-09-16T13:28:39.311581900Z",
     "start_time": "2023-09-16T13:28:39.300582300Z"
    }
   }
  },
  {
   "cell_type": "code",
   "execution_count": 57,
   "outputs": [],
   "source": [],
   "metadata": {
    "collapsed": false,
    "ExecuteTime": {
     "end_time": "2023-09-16T13:28:40.554513900Z",
     "start_time": "2023-09-16T13:28:40.543514400Z"
    }
   }
  },
  {
   "cell_type": "code",
   "execution_count": null,
   "outputs": [],
   "source": [],
   "metadata": {
    "collapsed": false
   }
  }
 ],
 "metadata": {
  "kernelspec": {
   "display_name": "Python 3",
   "language": "python",
   "name": "python3"
  },
  "language_info": {
   "codemirror_mode": {
    "name": "ipython",
    "version": 2
   },
   "file_extension": ".py",
   "mimetype": "text/x-python",
   "name": "python",
   "nbconvert_exporter": "python",
   "pygments_lexer": "ipython2",
   "version": "2.7.6"
  }
 },
 "nbformat": 4,
 "nbformat_minor": 0
}
